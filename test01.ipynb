{
  "nbformat": 4,
  "nbformat_minor": 0,
  "metadata": {
    "colab": {
      "name": "test01.ipynb",
      "provenance": [],
      "collapsed_sections": [],
      "authorship_tag": "ABX9TyMd/Aju3zcWg2Y6XnorS1ao",
      "include_colab_link": true
    },
    "kernelspec": {
      "name": "python3",
      "display_name": "Python 3"
    },
    "language_info": {
      "name": "python"
    },
    "accelerator": "GPU"
  },
  "cells": [
    {
      "cell_type": "markdown",
      "metadata": {
        "id": "view-in-github",
        "colab_type": "text"
      },
      "source": [
        "<a href=\"https://colab.research.google.com/github/SeryeongLee/-/blob/main/test01.ipynb\" target=\"_parent\"><img src=\"https://colab.research.google.com/assets/colab-badge.svg\" alt=\"Open In Colab\"/></a>"
      ]
    },
    {
      "cell_type": "markdown",
      "metadata": {
        "id": "K23pbR-CNn6f"
      },
      "source": [
        "**buy dataset colums**  \n",
        "data: 구매날짜  \n",
        "sex: 구매자 성별  \n",
        "age: 구매자 연령대  \n",
        "big_cat: 상품 대분류명  \n",
        "sm_cat: 상품 소분류명  \n",
        "qty: 구매건수  \n",
        "\n",
        "**social data columns**  \n",
        "data: 문서 날짜  \n",
        "big_cat: 상품 대분류명  \n",
        "sm_Cat: 상품 소분류명  \n",
        "cnt: 10만건당 건수  \n",
        "\n",
        "**습도(ASOS) 데이터 칼럼 설명**  \n",
        "지점: 102개 관측소  \n",
        "지점명: 관측소 위치  \n",
        "일시  \n",
        "습도(%)  \n",
        "습도 QC플래그: 시간/분 자료에 대해 관측값의 정상 여부를 판단하는 품질검사 플래그(QC FLAG) 정보 제공  \n",
        "플래그 종류(의미): 0(정상), 1(오류), 9(결측)  \n",
        "증기압(hPa)  \n",
        "이슬점온도(°C)  \n",
        "\n",
        "***습도(AWS) 데이터 칼럼  ***  \n",
        "지점:  \n",
        "510개 관측소   \n",
        "지점명  \n",
        "습도    "
      ]
    },
    {
      "cell_type": "code",
      "metadata": {
        "id": "rPF7bS3lGnyT"
      },
      "source": [
        "# import packages\n",
        "import numpy as np\n",
        "import pandas as pd\n",
        "import seaborn as sns\n",
        "\n",
        "import matplotlib.pyplot as plt\n",
        "import warnings\n",
        "\n",
        "pd.options.mode.chained_assignment = None\n",
        "warnings.filterwarnings(\"ignore\", category=DeprecationWarning)\n",
        "\n",
        "%matplotlib inline"
      ],
      "execution_count": 1,
      "outputs": []
    },
    {
      "cell_type": "code",
      "metadata": {
        "id": "IVvRpvu87SXp"
      },
      "source": [
        "!sudo apt-get install -y fonts-nanum\n",
        "!sudo fc-cache -fv\n",
        "!rm ~/.cache/matplotlib -rf"
      ],
      "execution_count": null,
      "outputs": []
    },
    {
      "cell_type": "code",
      "metadata": {
        "id": "rQ-miQqJ7JyK"
      },
      "source": [
        "plt.rc('font', family='NanumBarunGothic') "
      ],
      "execution_count": null,
      "outputs": []
    },
    {
      "cell_type": "code",
      "metadata": {
        "colab": {
          "base_uri": "https://localhost:8080/"
        },
        "id": "Bn5eTuIKNWd6",
        "outputId": "edb06b52-574c-4a8a-fcac-e9f1f729fe21"
      },
      "source": [
        "from google.colab import drive\n",
        "drive.mount('/content/drive')"
      ],
      "execution_count": 2,
      "outputs": [
        {
          "output_type": "stream",
          "text": [
            "Drive already mounted at /content/drive; to attempt to forcibly remount, call drive.mount(\"/content/drive\", force_remount=True).\n"
          ],
          "name": "stdout"
        }
      ]
    },
    {
      "cell_type": "code",
      "metadata": {
        "id": "BKttIC0TO8wa"
      },
      "source": [
        "# load data\n",
        "buy2018_1 = pd.read_csv('/content/drive/MyDrive/social_data/buy2018_1.csv')\n",
        "buy2018_2 = pd.read_csv('/content/drive/MyDrive/social_data/buy2018_2.csv')\n",
        "buy2019_1 = pd.read_csv('/content/drive/MyDrive/social_data/buy2019_1.csv')\n",
        "buy2019_2 = pd.read_csv('/content/drive/MyDrive/social_data/buy2019_2.csv')\n",
        "sns2018_1 = pd.read_csv('/content/drive/MyDrive/social_data/sns2018_1.csv')\n",
        "sns2018_2 = pd.read_csv('/content/drive/MyDrive/social_data/sns2018_2.csv')\n",
        "sns2019_1 = pd.read_csv('/content/drive/MyDrive/social_data/sns2019_1.csv')\n",
        "sns2019_2 = pd.read_csv('/content/drive/MyDrive/social_data/sns2019_2.csv')\n",
        "hum2018 = pd.read_csv('/content/drive/MyDrive/social_data/OBS_ASOS_TIM_20210521222331.csv',encoding='cp949')\n",
        "hum2019 = pd.read_csv('/content/drive/MyDrive/social_data/OBS_ASOS_TIM_20210521222624.csv',encoding='cp949')\n",
        "hum_aws_2018 = pd.read_csv('/content/drive/MyDrive/social_data/OBS_AWS_TIM_20210521232930.csv',encoding='cp949')\n",
        "hum_aws_2019 = pd.read_csv('/content/drive/MyDrive/social_data/OBS_AWS_TIM_20210522023924.csv',encoding='cp949')\n",
        "humdd2018 = pd.read_csv('/content/drive/MyDrive/social_data/OBS_ASOS_DD_20210523021931.csv',encoding='cp949')\n",
        "humdd2019 = pd.read_csv('/content/drive/MyDrive/social_data/OBS_ASOS_DD_20210523022206.csv',encoding='cp949')"
      ],
      "execution_count": 3,
      "outputs": []
    },
    {
      "cell_type": "code",
      "metadata": {
        "id": "BNSj6i2vIhKR"
      },
      "source": [
        "buy2018_1 = buy2018_1.drop('Unnamed: 0',axis=1)\n",
        "buy2018_2 = buy2018_2.drop('Unnamed: 0',axis=1)\n",
        "buy2019_1 = buy2019_1.drop('Unnamed: 0',axis=1)\n",
        "buy2019_2 = buy2019_2.drop('Unnamed: 0',axis=1)\n"
      ],
      "execution_count": 4,
      "outputs": []
    },
    {
      "cell_type": "code",
      "metadata": {
        "id": "aZ1lNDQZHNVQ"
      },
      "source": [
        "# 열 이름 똑같이\n",
        "buy2018_1.columns = ['date', 'sex', 'age', 'big_cat', 'sm_cat', 'qty']\n",
        "buy2018_2.columns = ['date', 'sex', 'age', 'big_cat', 'sm_cat', 'qty']\n",
        "buy2019_1.columns = ['date', 'sex', 'age', 'big_cat', 'sm_cat', 'qty']\n",
        "buy2019_2.columns = ['date', 'sex', 'age', 'big_cat', 'sm_cat', 'qty']\n"
      ],
      "execution_count": 5,
      "outputs": []
    },
    {
      "cell_type": "code",
      "metadata": {
        "colab": {
          "base_uri": "https://localhost:8080/"
        },
        "id": "E-IILaOwIAL4",
        "outputId": "a73b1de0-0bc6-4b79-f307-fd3569475de7"
      },
      "source": [
        "buy2019_2.columns"
      ],
      "execution_count": 14,
      "outputs": [
        {
          "output_type": "execute_result",
          "data": {
            "text/plain": [
              "Index(['Unnamed: 0', 'buy2019_2.date', 'buy2019_2.sex', 'buy2019_2.age',\n",
              "       'buy2019_2.big_cat', 'buy2019_2.sm_cat', 'buy2019_2.qty'],\n",
              "      dtype='object')"
            ]
          },
          "metadata": {
            "tags": []
          },
          "execution_count": 14
        }
      ]
    },
    {
      "cell_type": "code",
      "metadata": {
        "id": "L_dAp7iuF6lC"
      },
      "source": [
        "buy2018 = pd.concat([buy2018_1,buy2018_2])\n",
        "buy2019 = pd.concat([buy2019_1,buy2019_2])\n"
      ],
      "execution_count": 6,
      "outputs": []
    },
    {
      "cell_type": "code",
      "metadata": {
        "colab": {
          "base_uri": "https://localhost:8080/"
        },
        "id": "aisALjLeJZTo",
        "outputId": "ded76027-20b7-4f96-e357-96556989d755"
      },
      "source": [
        "sns2018_1.columns"
      ],
      "execution_count": 23,
      "outputs": [
        {
          "output_type": "execute_result",
          "data": {
            "text/plain": [
              "Index(['Unnamed: 0', 'sns2018_1.date', 'sns2018_1.big_cat', 'sns2018_1.sm_cat',\n",
              "       'sns2018_1.cnt'],\n",
              "      dtype='object')"
            ]
          },
          "metadata": {
            "tags": []
          },
          "execution_count": 23
        }
      ]
    },
    {
      "cell_type": "code",
      "metadata": {
        "colab": {
          "base_uri": "https://localhost:8080/"
        },
        "id": "6hN9pMpmP5Rl",
        "outputId": "28812ac2-bb45-4d3c-cd6e-9beef759d5c9"
      },
      "source": [
        "buy2018.info()"
      ],
      "execution_count": 139,
      "outputs": [
        {
          "output_type": "stream",
          "text": [
            "<class 'pandas.core.frame.DataFrame'>\n",
            "Int64Index: 1005487 entries, 0 to 507476\n",
            "Data columns (total 6 columns):\n",
            " #   Column   Non-Null Count    Dtype \n",
            "---  ------   --------------    ----- \n",
            " 0   date     1005487 non-null  int64 \n",
            " 1   sex      1005487 non-null  object\n",
            " 2   age      1005487 non-null  int64 \n",
            " 3   big_cat  1005487 non-null  object\n",
            " 4   sm_cat   1005487 non-null  object\n",
            " 5   qty      1005487 non-null  int64 \n",
            "dtypes: int64(3), object(3)\n",
            "memory usage: 53.7+ MB\n"
          ],
          "name": "stdout"
        }
      ]
    },
    {
      "cell_type": "code",
      "metadata": {
        "colab": {
          "base_uri": "https://localhost:8080/"
        },
        "id": "9aYOs1OpP2-K",
        "outputId": "29ba4ef5-8444-45f6-f5d6-f03e7a720c1c"
      },
      "source": [
        "seoul2018.info()"
      ],
      "execution_count": 60,
      "outputs": [
        {
          "output_type": "stream",
          "text": [
            "<class 'pandas.core.frame.DataFrame'>\n",
            "Int64Index: 365 entries, 4013 to 4377\n",
            "Data columns (total 2 columns):\n",
            " #   Column      Non-Null Count  Dtype  \n",
            "---  ------      --------------  -----  \n",
            " 0   date        365 non-null    object \n",
            " 1   평균 상대습도(%)  365 non-null    float64\n",
            "dtypes: float64(1), object(1)\n",
            "memory usage: 8.6+ KB\n"
          ],
          "name": "stdout"
        }
      ]
    },
    {
      "cell_type": "code",
      "metadata": {
        "colab": {
          "base_uri": "https://localhost:8080/"
        },
        "id": "uIOuFME3RbvB",
        "outputId": "65a55d15-6962-4fb0-ccfb-10185c7bfe28"
      },
      "source": [
        "seoul2018.isnull().sum()"
      ],
      "execution_count": 136,
      "outputs": [
        {
          "output_type": "execute_result",
          "data": {
            "text/plain": [
              "date          0\n",
              "평균 상대습도(%)    0\n",
              "dtype: int64"
            ]
          },
          "metadata": {
            "tags": []
          },
          "execution_count": 136
        }
      ]
    },
    {
      "cell_type": "code",
      "metadata": {
        "id": "vFhaQBLD-9V2"
      },
      "source": [
        "is_seoul = humdd2018['지점명'] == '서울'\n",
        "seoul2018 = humdd2018[is_seoul]"
      ],
      "execution_count": 7,
      "outputs": []
    },
    {
      "cell_type": "code",
      "metadata": {
        "colab": {
          "base_uri": "https://localhost:8080/",
          "height": 202
        },
        "id": "kH-8z-00RK2L",
        "outputId": "e96adbf8-f0b3-4225-fae5-ab764d006fd5"
      },
      "source": [
        "buy2019.tail()"
      ],
      "execution_count": 8,
      "outputs": [
        {
          "output_type": "execute_result",
          "data": {
            "text/html": [
              "<div>\n",
              "<style scoped>\n",
              "    .dataframe tbody tr th:only-of-type {\n",
              "        vertical-align: middle;\n",
              "    }\n",
              "\n",
              "    .dataframe tbody tr th {\n",
              "        vertical-align: top;\n",
              "    }\n",
              "\n",
              "    .dataframe thead th {\n",
              "        text-align: right;\n",
              "    }\n",
              "</style>\n",
              "<table border=\"1\" class=\"dataframe\">\n",
              "  <thead>\n",
              "    <tr style=\"text-align: right;\">\n",
              "      <th></th>\n",
              "      <th>date</th>\n",
              "      <th>sex</th>\n",
              "      <th>age</th>\n",
              "      <th>big_cat</th>\n",
              "      <th>sm_cat</th>\n",
              "      <th>qty</th>\n",
              "    </tr>\n",
              "  </thead>\n",
              "  <tbody>\n",
              "    <tr>\n",
              "      <th>528635</th>\n",
              "      <td>20191231</td>\n",
              "      <td>M</td>\n",
              "      <td>20</td>\n",
              "      <td>냉난방가전</td>\n",
              "      <td>히터</td>\n",
              "      <td>8</td>\n",
              "    </tr>\n",
              "    <tr>\n",
              "      <th>528636</th>\n",
              "      <td>20191231</td>\n",
              "      <td>M</td>\n",
              "      <td>30</td>\n",
              "      <td>냉난방가전</td>\n",
              "      <td>히터</td>\n",
              "      <td>22</td>\n",
              "    </tr>\n",
              "    <tr>\n",
              "      <th>528637</th>\n",
              "      <td>20191231</td>\n",
              "      <td>M</td>\n",
              "      <td>40</td>\n",
              "      <td>냉난방가전</td>\n",
              "      <td>히터</td>\n",
              "      <td>38</td>\n",
              "    </tr>\n",
              "    <tr>\n",
              "      <th>528638</th>\n",
              "      <td>20191231</td>\n",
              "      <td>M</td>\n",
              "      <td>50</td>\n",
              "      <td>냉난방가전</td>\n",
              "      <td>히터</td>\n",
              "      <td>23</td>\n",
              "    </tr>\n",
              "    <tr>\n",
              "      <th>528639</th>\n",
              "      <td>20191231</td>\n",
              "      <td>M</td>\n",
              "      <td>60</td>\n",
              "      <td>냉난방가전</td>\n",
              "      <td>히터</td>\n",
              "      <td>10</td>\n",
              "    </tr>\n",
              "  </tbody>\n",
              "</table>\n",
              "</div>"
            ],
            "text/plain": [
              "            date sex  age big_cat sm_cat  qty\n",
              "528635  20191231   M   20   냉난방가전     히터    8\n",
              "528636  20191231   M   30   냉난방가전     히터   22\n",
              "528637  20191231   M   40   냉난방가전     히터   38\n",
              "528638  20191231   M   50   냉난방가전     히터   23\n",
              "528639  20191231   M   60   냉난방가전     히터   10"
            ]
          },
          "metadata": {
            "tags": []
          },
          "execution_count": 8
        }
      ]
    },
    {
      "cell_type": "code",
      "metadata": {
        "id": "L62TqHRES09k"
      },
      "source": [
        "s = seoul2018.copy()"
      ],
      "execution_count": 83,
      "outputs": []
    },
    {
      "cell_type": "code",
      "metadata": {
        "id": "x3qs3AGpeeqv"
      },
      "source": [
        "seoul2018['date']=seoul2018['date'].str.replace('-','')\n",
        "seoul2019['date']=seoul2019['date'].str.replace('-','')\n"
      ],
      "execution_count": 14,
      "outputs": []
    },
    {
      "cell_type": "code",
      "metadata": {
        "colab": {
          "base_uri": "https://localhost:8080/",
          "height": 202
        },
        "id": "p7G2d5QzQ7Vf",
        "outputId": "854ae9ba-8469-4a8a-a038-dddafef5b53a"
      },
      "source": [
        "seoul2018.head()"
      ],
      "execution_count": 19,
      "outputs": [
        {
          "output_type": "execute_result",
          "data": {
            "text/html": [
              "<div>\n",
              "<style scoped>\n",
              "    .dataframe tbody tr th:only-of-type {\n",
              "        vertical-align: middle;\n",
              "    }\n",
              "\n",
              "    .dataframe tbody tr th {\n",
              "        vertical-align: top;\n",
              "    }\n",
              "\n",
              "    .dataframe thead th {\n",
              "        text-align: right;\n",
              "    }\n",
              "</style>\n",
              "<table border=\"1\" class=\"dataframe\">\n",
              "  <thead>\n",
              "    <tr style=\"text-align: right;\">\n",
              "      <th></th>\n",
              "      <th>date</th>\n",
              "      <th>평균 상대습도(%)</th>\n",
              "    </tr>\n",
              "  </thead>\n",
              "  <tbody>\n",
              "    <tr>\n",
              "      <th>4013</th>\n",
              "      <td>20180101</td>\n",
              "      <td>39.1</td>\n",
              "    </tr>\n",
              "    <tr>\n",
              "      <th>4014</th>\n",
              "      <td>20180102</td>\n",
              "      <td>42.0</td>\n",
              "    </tr>\n",
              "    <tr>\n",
              "      <th>4015</th>\n",
              "      <td>20180103</td>\n",
              "      <td>42.3</td>\n",
              "    </tr>\n",
              "    <tr>\n",
              "      <th>4016</th>\n",
              "      <td>20180104</td>\n",
              "      <td>43.0</td>\n",
              "    </tr>\n",
              "    <tr>\n",
              "      <th>4017</th>\n",
              "      <td>20180105</td>\n",
              "      <td>48.4</td>\n",
              "    </tr>\n",
              "  </tbody>\n",
              "</table>\n",
              "</div>"
            ],
            "text/plain": [
              "          date  평균 상대습도(%)\n",
              "4013  20180101        39.1\n",
              "4014  20180102        42.0\n",
              "4015  20180103        42.3\n",
              "4016  20180104        43.0\n",
              "4017  20180105        48.4"
            ]
          },
          "metadata": {
            "tags": []
          },
          "execution_count": 19
        }
      ]
    },
    {
      "cell_type": "code",
      "metadata": {
        "colab": {
          "base_uri": "https://localhost:8080/",
          "height": 176
        },
        "id": "opPdPfZrMgcO",
        "outputId": "a160fedf-d907-43bc-d4f7-308d9567ecb6"
      },
      "source": [
        "merge1 = pd.merge(buy2018,sns2018,on='date')"
      ],
      "execution_count": 1,
      "outputs": [
        {
          "output_type": "error",
          "ename": "NameError",
          "evalue": "ignored",
          "traceback": [
            "\u001b[0;31m---------------------------------------------------------------------------\u001b[0m",
            "\u001b[0;31mNameError\u001b[0m                                 Traceback (most recent call last)",
            "\u001b[0;32m<ipython-input-1-5f480497c00e>\u001b[0m in \u001b[0;36m<module>\u001b[0;34m()\u001b[0m\n\u001b[0;32m----> 1\u001b[0;31m \u001b[0mmerge1\u001b[0m \u001b[0;34m=\u001b[0m \u001b[0mpd\u001b[0m\u001b[0;34m.\u001b[0m\u001b[0mmerge\u001b[0m\u001b[0;34m(\u001b[0m\u001b[0mbuy2018\u001b[0m\u001b[0;34m,\u001b[0m\u001b[0msns2018\u001b[0m\u001b[0;34m,\u001b[0m\u001b[0mon\u001b[0m\u001b[0;34m=\u001b[0m\u001b[0;34m'date'\u001b[0m\u001b[0;34m)\u001b[0m\u001b[0;34m\u001b[0m\u001b[0;34m\u001b[0m\u001b[0m\n\u001b[0m",
            "\u001b[0;31mNameError\u001b[0m: name 'pd' is not defined"
          ]
        }
      ]
    },
    {
      "cell_type": "code",
      "metadata": {
        "colab": {
          "base_uri": "https://localhost:8080/",
          "height": 141
        },
        "id": "HGha4KjkONgW",
        "outputId": "0f5ca993-bdd7-450e-c41f-435dba2b7824"
      },
      "source": [
        "merge1.corr()"
      ],
      "execution_count": 109,
      "outputs": [
        {
          "output_type": "execute_result",
          "data": {
            "text/html": [
              "<div>\n",
              "<style scoped>\n",
              "    .dataframe tbody tr th:only-of-type {\n",
              "        vertical-align: middle;\n",
              "    }\n",
              "\n",
              "    .dataframe tbody tr th {\n",
              "        vertical-align: top;\n",
              "    }\n",
              "\n",
              "    .dataframe thead th {\n",
              "        text-align: right;\n",
              "    }\n",
              "</style>\n",
              "<table border=\"1\" class=\"dataframe\">\n",
              "  <thead>\n",
              "    <tr style=\"text-align: right;\">\n",
              "      <th></th>\n",
              "      <th>age</th>\n",
              "      <th>qty</th>\n",
              "      <th>cnt</th>\n",
              "    </tr>\n",
              "  </thead>\n",
              "  <tbody>\n",
              "    <tr>\n",
              "      <th>age</th>\n",
              "      <td>1.000000</td>\n",
              "      <td>-0.132503</td>\n",
              "      <td>0.016982</td>\n",
              "    </tr>\n",
              "    <tr>\n",
              "      <th>qty</th>\n",
              "      <td>-0.132503</td>\n",
              "      <td>1.000000</td>\n",
              "      <td>0.047885</td>\n",
              "    </tr>\n",
              "    <tr>\n",
              "      <th>cnt</th>\n",
              "      <td>0.016982</td>\n",
              "      <td>0.047885</td>\n",
              "      <td>1.000000</td>\n",
              "    </tr>\n",
              "  </tbody>\n",
              "</table>\n",
              "</div>"
            ],
            "text/plain": [
              "          age       qty       cnt\n",
              "age  1.000000 -0.132503  0.016982\n",
              "qty -0.132503  1.000000  0.047885\n",
              "cnt  0.016982  0.047885  1.000000"
            ]
          },
          "metadata": {
            "tags": []
          },
          "execution_count": 109
        }
      ]
    },
    {
      "cell_type": "code",
      "metadata": {
        "id": "lLPLIrJTXgqM"
      },
      "source": [
        ""
      ],
      "execution_count": null,
      "outputs": []
    },
    {
      "cell_type": "code",
      "metadata": {
        "id": "o2q2eApqO1Tw"
      },
      "source": [
        "seoul2018 = seoul2018.drop(['지점','지점명'],axis=1)\n",
        "seoul2019 = seoul2019.drop(['지점','지점명'],axis=1)\n"
      ],
      "execution_count": 11,
      "outputs": []
    },
    {
      "cell_type": "code",
      "metadata": {
        "colab": {
          "base_uri": "https://localhost:8080/"
        },
        "id": "wWYb1IMDOys7",
        "outputId": "63c54765-35e1-4032-b0f7-2d3ffa03b1ca"
      },
      "source": [
        "seoul2018.columns"
      ],
      "execution_count": 12,
      "outputs": [
        {
          "output_type": "execute_result",
          "data": {
            "text/plain": [
              "Index(['일시', '평균 상대습도(%)'], dtype='object')"
            ]
          },
          "metadata": {
            "tags": []
          },
          "execution_count": 12
        }
      ]
    },
    {
      "cell_type": "code",
      "metadata": {
        "colab": {
          "base_uri": "https://localhost:8080/"
        },
        "id": "TOajASC9PEHw",
        "outputId": "b264ae01-faf6-4f48-9f97-256486eaca36"
      },
      "source": [
        "seoul2019.columns"
      ],
      "execution_count": 51,
      "outputs": [
        {
          "output_type": "execute_result",
          "data": {
            "text/plain": [
              "Index(['일시', '평균 상대습도(%)'], dtype='object')"
            ]
          },
          "metadata": {
            "tags": []
          },
          "execution_count": 51
        }
      ]
    },
    {
      "cell_type": "code",
      "metadata": {
        "colab": {
          "base_uri": "https://localhost:8080/",
          "height": 202
        },
        "id": "vPXHQ8gROtRr",
        "outputId": "3c4c5360-fc35-4d96-d299-984e3c23aeaa"
      },
      "source": [
        "seoul2018.head()"
      ],
      "execution_count": 57,
      "outputs": [
        {
          "output_type": "execute_result",
          "data": {
            "text/html": [
              "<div>\n",
              "<style scoped>\n",
              "    .dataframe tbody tr th:only-of-type {\n",
              "        vertical-align: middle;\n",
              "    }\n",
              "\n",
              "    .dataframe tbody tr th {\n",
              "        vertical-align: top;\n",
              "    }\n",
              "\n",
              "    .dataframe thead th {\n",
              "        text-align: right;\n",
              "    }\n",
              "</style>\n",
              "<table border=\"1\" class=\"dataframe\">\n",
              "  <thead>\n",
              "    <tr style=\"text-align: right;\">\n",
              "      <th></th>\n",
              "      <th>date</th>\n",
              "      <th>평균 상대습도(%)</th>\n",
              "    </tr>\n",
              "  </thead>\n",
              "  <tbody>\n",
              "    <tr>\n",
              "      <th>4013</th>\n",
              "      <td>2018-01-01</td>\n",
              "      <td>39.1</td>\n",
              "    </tr>\n",
              "    <tr>\n",
              "      <th>4014</th>\n",
              "      <td>2018-01-02</td>\n",
              "      <td>42.0</td>\n",
              "    </tr>\n",
              "    <tr>\n",
              "      <th>4015</th>\n",
              "      <td>2018-01-03</td>\n",
              "      <td>42.3</td>\n",
              "    </tr>\n",
              "    <tr>\n",
              "      <th>4016</th>\n",
              "      <td>2018-01-04</td>\n",
              "      <td>43.0</td>\n",
              "    </tr>\n",
              "    <tr>\n",
              "      <th>4017</th>\n",
              "      <td>2018-01-05</td>\n",
              "      <td>48.4</td>\n",
              "    </tr>\n",
              "  </tbody>\n",
              "</table>\n",
              "</div>"
            ],
            "text/plain": [
              "            date  평균 상대습도(%)\n",
              "4013  2018-01-01        39.1\n",
              "4014  2018-01-02        42.0\n",
              "4015  2018-01-03        42.3\n",
              "4016  2018-01-04        43.0\n",
              "4017  2018-01-05        48.4"
            ]
          },
          "metadata": {
            "tags": []
          },
          "execution_count": 57
        }
      ]
    },
    {
      "cell_type": "code",
      "metadata": {
        "id": "bF4jsE_BOPza"
      },
      "source": [
        "seoul2018.rename(columns = {'일시' : 'date'}, inplace = True)\n",
        "seoul2019.rename(columns = {'일시' : 'date'}, inplace = True)\n"
      ],
      "execution_count": 13,
      "outputs": []
    },
    {
      "cell_type": "code",
      "metadata": {
        "colab": {
          "base_uri": "https://localhost:8080/"
        },
        "id": "SQ91WpBCW56y",
        "outputId": "c4cc2994-0f7f-4038-8aab-27e32affd634"
      },
      "source": [
        "print(sns2018.info(),buy2018.info(),seoul2018.info())"
      ],
      "execution_count": 108,
      "outputs": [
        {
          "output_type": "stream",
          "text": [
            "<class 'pandas.core.frame.DataFrame'>\n",
            "Int64Index: 139795 entries, 0 to 70471\n",
            "Data columns (total 4 columns):\n",
            " #   Column   Non-Null Count   Dtype  \n",
            "---  ------   --------------   -----  \n",
            " 0   date     139795 non-null  object \n",
            " 1   big_cat  139795 non-null  object \n",
            " 2   sm_cat   139795 non-null  object \n",
            " 3   cnt      139795 non-null  float64\n",
            "dtypes: float64(1), object(3)\n",
            "memory usage: 10.3+ MB\n",
            "<class 'pandas.core.frame.DataFrame'>\n",
            "Int64Index: 1005487 entries, 0 to 507476\n",
            "Data columns (total 6 columns):\n",
            " #   Column   Non-Null Count    Dtype \n",
            "---  ------   --------------    ----- \n",
            " 0   date     1005487 non-null  object\n",
            " 1   sex      1005487 non-null  object\n",
            " 2   age      1005487 non-null  int64 \n",
            " 3   big_cat  1005487 non-null  object\n",
            " 4   sm_cat   1005487 non-null  object\n",
            " 5   qty      1005487 non-null  int64 \n",
            "dtypes: int64(2), object(4)\n",
            "memory usage: 53.7+ MB\n",
            "<class 'pandas.core.frame.DataFrame'>\n",
            "Int64Index: 365 entries, 4013 to 4377\n",
            "Data columns (total 2 columns):\n",
            " #   Column      Non-Null Count  Dtype  \n",
            "---  ------      --------------  -----  \n",
            " 0   date        365 non-null    object \n",
            " 1   평균 상대습도(%)  365 non-null    float64\n",
            "dtypes: float64(1), object(1)\n",
            "memory usage: 8.6+ KB\n",
            "None None None\n"
          ],
          "name": "stdout"
        }
      ]
    },
    {
      "cell_type": "code",
      "metadata": {
        "id": "PDbDG6gUOE6h"
      },
      "source": [
        "merge2 = pd.merge(sns2018, seoul2018, on ='date',how='outer')"
      ],
      "execution_count": 124,
      "outputs": []
    },
    {
      "cell_type": "code",
      "metadata": {
        "id": "OF71PxcNfB3v"
      },
      "source": [
        "seoul2018['date']= pd.to_numeric(seoul2018['date'])\n",
        "seoul2019['date']= pd.to_numeric(seoul2019['date'])\n"
      ],
      "execution_count": 15,
      "outputs": []
    },
    {
      "cell_type": "code",
      "metadata": {
        "id": "utRz5tmliIJQ"
      },
      "source": [
        "merge1 = pd.merge(buy2018, seoul2018, on='date')"
      ],
      "execution_count": 16,
      "outputs": []
    },
    {
      "cell_type": "code",
      "metadata": {
        "id": "sRfPCGlOfsTM"
      },
      "source": [
        "merge2 = pd.merge(sns2018, seoul2018, on='date')"
      ],
      "execution_count": 17,
      "outputs": []
    },
    {
      "cell_type": "code",
      "metadata": {
        "id": "454hHJNDjQTM",
        "outputId": "3f115f5c-e0ec-4196-8fc2-e758e3c3b997",
        "colab": {
          "base_uri": "https://localhost:8080/",
          "height": 171
        }
      },
      "source": [
        "merge1.corr()"
      ],
      "execution_count": 18,
      "outputs": [
        {
          "output_type": "execute_result",
          "data": {
            "text/html": [
              "<div>\n",
              "<style scoped>\n",
              "    .dataframe tbody tr th:only-of-type {\n",
              "        vertical-align: middle;\n",
              "    }\n",
              "\n",
              "    .dataframe tbody tr th {\n",
              "        vertical-align: top;\n",
              "    }\n",
              "\n",
              "    .dataframe thead th {\n",
              "        text-align: right;\n",
              "    }\n",
              "</style>\n",
              "<table border=\"1\" class=\"dataframe\">\n",
              "  <thead>\n",
              "    <tr style=\"text-align: right;\">\n",
              "      <th></th>\n",
              "      <th>date</th>\n",
              "      <th>age</th>\n",
              "      <th>qty</th>\n",
              "      <th>평균 상대습도(%)</th>\n",
              "    </tr>\n",
              "  </thead>\n",
              "  <tbody>\n",
              "    <tr>\n",
              "      <th>date</th>\n",
              "      <td>1.000000</td>\n",
              "      <td>0.003990</td>\n",
              "      <td>-0.007764</td>\n",
              "      <td>0.089066</td>\n",
              "    </tr>\n",
              "    <tr>\n",
              "      <th>age</th>\n",
              "      <td>0.003990</td>\n",
              "      <td>1.000000</td>\n",
              "      <td>-0.132503</td>\n",
              "      <td>0.000595</td>\n",
              "    </tr>\n",
              "    <tr>\n",
              "      <th>qty</th>\n",
              "      <td>-0.007764</td>\n",
              "      <td>-0.132503</td>\n",
              "      <td>1.000000</td>\n",
              "      <td>0.000656</td>\n",
              "    </tr>\n",
              "    <tr>\n",
              "      <th>평균 상대습도(%)</th>\n",
              "      <td>0.089066</td>\n",
              "      <td>0.000595</td>\n",
              "      <td>0.000656</td>\n",
              "      <td>1.000000</td>\n",
              "    </tr>\n",
              "  </tbody>\n",
              "</table>\n",
              "</div>"
            ],
            "text/plain": [
              "                date       age       qty  평균 상대습도(%)\n",
              "date        1.000000  0.003990 -0.007764    0.089066\n",
              "age         0.003990  1.000000 -0.132503    0.000595\n",
              "qty        -0.007764 -0.132503  1.000000    0.000656\n",
              "평균 상대습도(%)  0.089066  0.000595  0.000656    1.000000"
            ]
          },
          "metadata": {
            "tags": []
          },
          "execution_count": 18
        }
      ]
    },
    {
      "cell_type": "code",
      "metadata": {
        "id": "zkFGA8Y2jTA1",
        "outputId": "b39ae578-6fc5-4ef5-b588-8bea1b0f96df",
        "colab": {
          "base_uri": "https://localhost:8080/",
          "height": 141
        }
      },
      "source": [
        "merge2.corr()"
      ],
      "execution_count": 19,
      "outputs": [
        {
          "output_type": "execute_result",
          "data": {
            "text/html": [
              "<div>\n",
              "<style scoped>\n",
              "    .dataframe tbody tr th:only-of-type {\n",
              "        vertical-align: middle;\n",
              "    }\n",
              "\n",
              "    .dataframe tbody tr th {\n",
              "        vertical-align: top;\n",
              "    }\n",
              "\n",
              "    .dataframe thead th {\n",
              "        text-align: right;\n",
              "    }\n",
              "</style>\n",
              "<table border=\"1\" class=\"dataframe\">\n",
              "  <thead>\n",
              "    <tr style=\"text-align: right;\">\n",
              "      <th></th>\n",
              "      <th>date</th>\n",
              "      <th>cnt</th>\n",
              "      <th>평균 상대습도(%)</th>\n",
              "    </tr>\n",
              "  </thead>\n",
              "  <tbody>\n",
              "    <tr>\n",
              "      <th>date</th>\n",
              "      <td>1.000000</td>\n",
              "      <td>0.005675</td>\n",
              "      <td>0.092951</td>\n",
              "    </tr>\n",
              "    <tr>\n",
              "      <th>cnt</th>\n",
              "      <td>0.005675</td>\n",
              "      <td>1.000000</td>\n",
              "      <td>0.010702</td>\n",
              "    </tr>\n",
              "    <tr>\n",
              "      <th>평균 상대습도(%)</th>\n",
              "      <td>0.092951</td>\n",
              "      <td>0.010702</td>\n",
              "      <td>1.000000</td>\n",
              "    </tr>\n",
              "  </tbody>\n",
              "</table>\n",
              "</div>"
            ],
            "text/plain": [
              "                date       cnt  평균 상대습도(%)\n",
              "date        1.000000  0.005675    0.092951\n",
              "cnt         0.005675  1.000000    0.010702\n",
              "평균 상대습도(%)  0.092951  0.010702    1.000000"
            ]
          },
          "metadata": {
            "tags": []
          },
          "execution_count": 19
        }
      ]
    },
    {
      "cell_type": "code",
      "metadata": {
        "id": "8VdHOxKniT87"
      },
      "source": [
        "# merge3 = pd.merge(buy2018, sns2018, on='date')"
      ],
      "execution_count": null,
      "outputs": []
    },
    {
      "cell_type": "code",
      "metadata": {
        "id": "KqP9R1GJgYqk"
      },
      "source": [
        "merge3 = pd.merge(merge1, merge2, on='date')"
      ],
      "execution_count": null,
      "outputs": []
    },
    {
      "cell_type": "code",
      "metadata": {
        "id": "lc5FmTUegTYi"
      },
      "source": [
        "merge2.head()"
      ],
      "execution_count": null,
      "outputs": []
    },
    {
      "cell_type": "code",
      "metadata": {
        "id": "otNETXmJJiz6"
      },
      "source": [
        "sns2018_1 = sns2018_1.drop('Unnamed: 0',axis=1)\n",
        "sns2018_2 = sns2018_2.drop('Unnamed: 0',axis=1)\n",
        "sns2019_1 = sns2019_1.drop('Unnamed: 0',axis=1)\n",
        "sns2019_2 = sns2019_2.drop('Unnamed: 0',axis=1)\n",
        "# 열 이름 똑같이\n",
        "sns2018_1.columns = ['date', 'big_cat', 'sm_cat', 'cnt']\n",
        "sns2018_2.columns = ['date', 'big_cat', 'sm_cat', 'cnt']\n",
        "sns2019_1.columns = ['date', 'big_cat', 'sm_cat', 'cnt']\n",
        "sns2019_2.columns = ['date', 'big_cat', 'sm_cat', 'cnt']\n",
        "sns2018 = pd.concat([sns2018_1,sns2018_2])\n",
        "sns2019 = pd.concat([sns2019_1,sns2019_2])"
      ],
      "execution_count": 9,
      "outputs": []
    },
    {
      "cell_type": "code",
      "metadata": {
        "id": "zn6DDOt3LLS3"
      },
      "source": [
        ""
      ],
      "execution_count": 11,
      "outputs": []
    },
    {
      "cell_type": "code",
      "metadata": {
        "id": "tgvnCJVHLZmU"
      },
      "source": [
        "is_seoul2019 = humdd2019['지점명'] == '서울'\n",
        "seoul2019 = humdd2019[is_seoul2019]"
      ],
      "execution_count": 10,
      "outputs": []
    },
    {
      "cell_type": "code",
      "metadata": {
        "colab": {
          "base_uri": "https://localhost:8080/",
          "height": 202
        },
        "id": "VJ1Zd8-SLRfC",
        "outputId": "1bdc021b-5ce7-4007-8967-7607c5d312a0"
      },
      "source": [
        ""
      ],
      "execution_count": 30,
      "outputs": [
        {
          "output_type": "execute_result",
          "data": {
            "text/html": [
              "<div>\n",
              "<style scoped>\n",
              "    .dataframe tbody tr th:only-of-type {\n",
              "        vertical-align: middle;\n",
              "    }\n",
              "\n",
              "    .dataframe tbody tr th {\n",
              "        vertical-align: top;\n",
              "    }\n",
              "\n",
              "    .dataframe thead th {\n",
              "        text-align: right;\n",
              "    }\n",
              "</style>\n",
              "<table border=\"1\" class=\"dataframe\">\n",
              "  <thead>\n",
              "    <tr style=\"text-align: right;\">\n",
              "      <th></th>\n",
              "      <th>지점</th>\n",
              "      <th>지점명</th>\n",
              "      <th>일시</th>\n",
              "      <th>평균 상대습도(%)</th>\n",
              "    </tr>\n",
              "  </thead>\n",
              "  <tbody>\n",
              "    <tr>\n",
              "      <th>4013</th>\n",
              "      <td>108</td>\n",
              "      <td>서울</td>\n",
              "      <td>2018-01-01</td>\n",
              "      <td>39.1</td>\n",
              "    </tr>\n",
              "    <tr>\n",
              "      <th>4014</th>\n",
              "      <td>108</td>\n",
              "      <td>서울</td>\n",
              "      <td>2018-01-02</td>\n",
              "      <td>42.0</td>\n",
              "    </tr>\n",
              "    <tr>\n",
              "      <th>4015</th>\n",
              "      <td>108</td>\n",
              "      <td>서울</td>\n",
              "      <td>2018-01-03</td>\n",
              "      <td>42.3</td>\n",
              "    </tr>\n",
              "    <tr>\n",
              "      <th>4016</th>\n",
              "      <td>108</td>\n",
              "      <td>서울</td>\n",
              "      <td>2018-01-04</td>\n",
              "      <td>43.0</td>\n",
              "    </tr>\n",
              "    <tr>\n",
              "      <th>4017</th>\n",
              "      <td>108</td>\n",
              "      <td>서울</td>\n",
              "      <td>2018-01-05</td>\n",
              "      <td>48.4</td>\n",
              "    </tr>\n",
              "  </tbody>\n",
              "</table>\n",
              "</div>"
            ],
            "text/plain": [
              "       지점 지점명          일시  평균 상대습도(%)\n",
              "4013  108  서울  2018-01-01        39.1\n",
              "4014  108  서울  2018-01-02        42.0\n",
              "4015  108  서울  2018-01-03        42.3\n",
              "4016  108  서울  2018-01-04        43.0\n",
              "4017  108  서울  2018-01-05        48.4"
            ]
          },
          "metadata": {
            "tags": []
          },
          "execution_count": 30
        }
      ]
    },
    {
      "cell_type": "code",
      "metadata": {
        "colab": {
          "base_uri": "https://localhost:8080/"
        },
        "id": "fDAEyWukGvw2",
        "outputId": "2a1c4de0-a31b-40b8-9288-4de381d3990e"
      },
      "source": [
        "print(hum_aws_2018.info(),hum_aws_2019.info())"
      ],
      "execution_count": null,
      "outputs": [
        {
          "output_type": "stream",
          "text": [
            "<class 'pandas.core.frame.DataFrame'>\n",
            "RangeIndex: 2849228 entries, 0 to 2849227\n",
            "Data columns (total 4 columns):\n",
            " #   Column  Dtype  \n",
            "---  ------  -----  \n",
            " 0   지점      int64  \n",
            " 1   지점명     object \n",
            " 2   일시      object \n",
            " 3   습도(%)   float64\n",
            "dtypes: float64(1), int64(1), object(2)\n",
            "memory usage: 87.0+ MB\n",
            "<class 'pandas.core.frame.DataFrame'>\n",
            "RangeIndex: 3033153 entries, 0 to 3033152\n",
            "Data columns (total 4 columns):\n",
            " #   Column  Dtype  \n",
            "---  ------  -----  \n",
            " 0   지점      int64  \n",
            " 1   지점명     object \n",
            " 2   일시      object \n",
            " 3   습도(%)   float64\n",
            "dtypes: float64(1), int64(1), object(2)\n",
            "memory usage: 92.6+ MB\n",
            "None None\n"
          ],
          "name": "stdout"
        }
      ]
    },
    {
      "cell_type": "code",
      "metadata": {
        "id": "iQ7rXnZ3F7xU"
      },
      "source": [
        "hum_aws_2018['지점명'].unique()"
      ],
      "execution_count": null,
      "outputs": []
    },
    {
      "cell_type": "code",
      "metadata": {
        "colab": {
          "base_uri": "https://localhost:8080/"
        },
        "id": "zqXo9uveGkKL",
        "outputId": "d0c2ba99-95c0-4811-e235-72eb2fb35819"
      },
      "source": [
        "hum_aws_2018['지점명'].nunique()"
      ],
      "execution_count": null,
      "outputs": [
        {
          "output_type": "execute_result",
          "data": {
            "text/plain": [
              "345"
            ]
          },
          "metadata": {
            "tags": []
          },
          "execution_count": 6
        }
      ]
    },
    {
      "cell_type": "code",
      "metadata": {
        "colab": {
          "base_uri": "https://localhost:8080/"
        },
        "id": "tNFaVYqpGqqJ",
        "outputId": "fa67e87a-bf5d-46f0-beee-8e4a682e3d23"
      },
      "source": [
        "hum_aws_2018['지점명'].value_counts()"
      ],
      "execution_count": null,
      "outputs": [
        {
          "output_type": "execute_result",
          "data": {
            "text/plain": [
              "풍도     8736\n",
              "산이     8736\n",
              "생림     8736\n",
              "북항     8736\n",
              "대산     8736\n",
              "       ... \n",
              "덕유봉       1\n",
              "양지        1\n",
              "화개        1\n",
              "화북        1\n",
              "강서        1\n",
              "Name: 지점명, Length: 345, dtype: int64"
            ]
          },
          "metadata": {
            "tags": []
          },
          "execution_count": 7
        }
      ]
    },
    {
      "cell_type": "code",
      "metadata": {
        "colab": {
          "base_uri": "https://localhost:8080/"
        },
        "id": "Qt8RyfVImsiH",
        "outputId": "32fdbaa5-c737-4aa0-993f-654a205f0251"
      },
      "source": [
        "hum_aws_2019['지점명'].value_counts()"
      ],
      "execution_count": null,
      "outputs": [
        {
          "output_type": "execute_result",
          "data": {
            "text/plain": [
              "주문진     8736\n",
              "군산산단    8736\n",
              "서광      8736\n",
              "용문산     8736\n",
              "장산도     8736\n",
              "        ... \n",
              "향로봉        1\n",
              "중구         1\n",
              "신기         1\n",
              "미시령        1\n",
              "계룡산        1\n",
              "Name: 지점명, Length: 400, dtype: int64"
            ]
          },
          "metadata": {
            "tags": []
          },
          "execution_count": 10
        }
      ]
    },
    {
      "cell_type": "markdown",
      "metadata": {
        "id": "hSeAvG5ORgNy"
      },
      "source": [
        "# 1. 결측값 확인"
      ]
    },
    {
      "cell_type": "markdown",
      "metadata": {
        "id": "ymmJ0y0CRjkZ"
      },
      "source": [
        "## 1.1 buy데이터 결측값 확인"
      ]
    },
    {
      "cell_type": "code",
      "metadata": {
        "colab": {
          "base_uri": "https://localhost:8080/"
        },
        "id": "DU000rncRern",
        "outputId": "60c58763-e002-4494-c53a-3de38548db9e"
      },
      "source": [
        "buy2018_1.isnull().sum()"
      ],
      "execution_count": null,
      "outputs": [
        {
          "output_type": "execute_result",
          "data": {
            "text/plain": [
              "Unnamed: 0           0\n",
              "buy2018_1.date       0\n",
              "buy2018_1.sex        0\n",
              "buy2018_1.age        0\n",
              "buy2018_1.big_cat    0\n",
              "buy2018_1.sm_cat     0\n",
              "buy2018_1.qty        0\n",
              "dtype: int64"
            ]
          },
          "metadata": {
            "tags": []
          },
          "execution_count": 14
        }
      ]
    },
    {
      "cell_type": "code",
      "metadata": {
        "colab": {
          "base_uri": "https://localhost:8080/"
        },
        "id": "iNleyUgXRvS5",
        "outputId": "497e83fe-4393-4a6d-d8cb-f16169ebb30f"
      },
      "source": [
        "buy2018_2.isnull().sum()"
      ],
      "execution_count": null,
      "outputs": [
        {
          "output_type": "execute_result",
          "data": {
            "text/plain": [
              "Unnamed: 0           0\n",
              "buy2018_2.date       0\n",
              "buy2018_2.sex        0\n",
              "buy2018_2.age        0\n",
              "buy2018_2.big_cat    0\n",
              "buy2018_2.sm_cat     0\n",
              "buy2018_2.qty        0\n",
              "dtype: int64"
            ]
          },
          "metadata": {
            "tags": []
          },
          "execution_count": 15
        }
      ]
    },
    {
      "cell_type": "code",
      "metadata": {
        "colab": {
          "base_uri": "https://localhost:8080/"
        },
        "id": "4G4Vli-fRxUr",
        "outputId": "5b5f42ee-fd00-46b3-bf2b-eb2c431307e5"
      },
      "source": [
        "buy2019_1.isnull().sum()"
      ],
      "execution_count": null,
      "outputs": [
        {
          "output_type": "execute_result",
          "data": {
            "text/plain": [
              "Unnamed: 0           0\n",
              "buy2019_1.date       0\n",
              "buy2019_1.sex        0\n",
              "buy2019_1.age        0\n",
              "buy2019_1.big_cat    0\n",
              "buy2019_1.sm_cat     0\n",
              "buy2019_1.qty        0\n",
              "dtype: int64"
            ]
          },
          "metadata": {
            "tags": []
          },
          "execution_count": 16
        }
      ]
    },
    {
      "cell_type": "code",
      "metadata": {
        "colab": {
          "base_uri": "https://localhost:8080/"
        },
        "id": "4usEicsIRzXV",
        "outputId": "5121323a-df42-4e37-f67a-fc8d1c6f92f8"
      },
      "source": [
        "buy2019_2.isnull().sum()"
      ],
      "execution_count": null,
      "outputs": [
        {
          "output_type": "execute_result",
          "data": {
            "text/plain": [
              "Unnamed: 0           0\n",
              "buy2019_2.date       0\n",
              "buy2019_2.sex        0\n",
              "buy2019_2.age        0\n",
              "buy2019_2.big_cat    0\n",
              "buy2019_2.sm_cat     0\n",
              "buy2019_2.qty        0\n",
              "dtype: int64"
            ]
          },
          "metadata": {
            "tags": []
          },
          "execution_count": 17
        }
      ]
    },
    {
      "cell_type": "markdown",
      "metadata": {
        "id": "Ta7hRpR0R2AP"
      },
      "source": [
        "buy데이터 결측값 없음.\n"
      ]
    },
    {
      "cell_type": "markdown",
      "metadata": {
        "id": "IDAHSH3DR552"
      },
      "source": [
        "## 1.2 sns 데이터 결측값 확인"
      ]
    },
    {
      "cell_type": "code",
      "metadata": {
        "colab": {
          "base_uri": "https://localhost:8080/"
        },
        "id": "4OlJMepcR4XM",
        "outputId": "3c838b44-2b83-463e-d469-e372b97f44d0"
      },
      "source": [
        "sns2018_1.isnull().sum()"
      ],
      "execution_count": null,
      "outputs": [
        {
          "output_type": "execute_result",
          "data": {
            "text/plain": [
              "Unnamed: 0           0\n",
              "sns2018_1.date       0\n",
              "sns2018_1.big_cat    0\n",
              "sns2018_1.sm_cat     0\n",
              "sns2018_1.cnt        0\n",
              "dtype: int64"
            ]
          },
          "metadata": {
            "tags": []
          },
          "execution_count": 18
        }
      ]
    },
    {
      "cell_type": "code",
      "metadata": {
        "colab": {
          "base_uri": "https://localhost:8080/"
        },
        "id": "SFMVDH64SKF0",
        "outputId": "aa6ad9a9-1896-424f-cc4a-fde8a97f8910"
      },
      "source": [
        "sns2018_2.isnull().sum()"
      ],
      "execution_count": null,
      "outputs": [
        {
          "output_type": "execute_result",
          "data": {
            "text/plain": [
              "Unnamed: 0           0\n",
              "sns2018_2.date       0\n",
              "sns2018_2.big_cat    0\n",
              "sns2018_2.sm_cat     0\n",
              "sns2018_2.cnt        0\n",
              "dtype: int64"
            ]
          },
          "metadata": {
            "tags": []
          },
          "execution_count": 21
        }
      ]
    },
    {
      "cell_type": "code",
      "metadata": {
        "colab": {
          "base_uri": "https://localhost:8080/"
        },
        "id": "w_Eq5F4uSLIt",
        "outputId": "9cb5ad50-73f5-471b-83d1-adeeff6dc5c2"
      },
      "source": [
        "sns2019_1.isnull().sum()"
      ],
      "execution_count": null,
      "outputs": [
        {
          "output_type": "execute_result",
          "data": {
            "text/plain": [
              "Unnamed: 0           0\n",
              "sns2019_1.date       0\n",
              "sns2019_1.big_cat    0\n",
              "sns2019_1.sm_cat     0\n",
              "sns2019_1.cnt        0\n",
              "dtype: int64"
            ]
          },
          "metadata": {
            "tags": []
          },
          "execution_count": 20
        }
      ]
    },
    {
      "cell_type": "code",
      "metadata": {
        "colab": {
          "base_uri": "https://localhost:8080/"
        },
        "id": "auHSxHsJSLnY",
        "outputId": "c4f69dce-e558-4a02-a302-30d7a25d19d5"
      },
      "source": [
        "sns2019_2.isnull().sum()"
      ],
      "execution_count": null,
      "outputs": [
        {
          "output_type": "execute_result",
          "data": {
            "text/plain": [
              "Unnamed: 0           0\n",
              "sns2019_2.date       0\n",
              "sns2019_2.big_cat    0\n",
              "sns2019_2.sm_cat     0\n",
              "sns2019_2.cnt        0\n",
              "dtype: int64"
            ]
          },
          "metadata": {
            "tags": []
          },
          "execution_count": 19
        }
      ]
    },
    {
      "cell_type": "markdown",
      "metadata": {
        "id": "nSdiKnQGSU_y"
      },
      "source": [
        "sns데이터 결측값 없음."
      ]
    },
    {
      "cell_type": "code",
      "metadata": {
        "colab": {
          "base_uri": "https://localhost:8080/"
        },
        "id": "etOzGLkNSMTv",
        "outputId": "a600cbcd-924d-4151-cccc-529352502084"
      },
      "source": [
        "hum2018.isnull().sum()"
      ],
      "execution_count": null,
      "outputs": [
        {
          "output_type": "execute_result",
          "data": {
            "text/plain": [
              "지점                0\n",
              "지점명               0\n",
              "일시                0\n",
              "습도(%)           963\n",
              "습도 QC플래그     141066\n",
              "증기압(hPa)        956\n",
              "이슬점온도(°C)       972\n",
              "dtype: int64"
            ]
          },
          "metadata": {
            "tags": []
          },
          "execution_count": 22
        }
      ]
    },
    {
      "cell_type": "code",
      "metadata": {
        "colab": {
          "base_uri": "https://localhost:8080/"
        },
        "id": "wzMUivtgScja",
        "outputId": "ffee3dbe-b100-47a4-c931-d79a1c244c03"
      },
      "source": [
        "hum2019.isnull().sum()"
      ],
      "execution_count": null,
      "outputs": [
        {
          "output_type": "execute_result",
          "data": {
            "text/plain": [
              "지점                0\n",
              "지점명               0\n",
              "일시                0\n",
              "습도(%)          1691\n",
              "습도 QC플래그     799323\n",
              "증기압(hPa)       1713\n",
              "이슬점온도(°C)      1723\n",
              "dtype: int64"
            ]
          },
          "metadata": {
            "tags": []
          },
          "execution_count": 23
        }
      ]
    },
    {
      "cell_type": "code",
      "metadata": {
        "colab": {
          "base_uri": "https://localhost:8080/"
        },
        "id": "7BllNbDA-vzU",
        "outputId": "4fefcaeb-aadb-4b0a-c092-ae80890f8a98"
      },
      "source": [
        "hum_aws_2018.isnull().sum()"
      ],
      "execution_count": null,
      "outputs": [
        {
          "output_type": "execute_result",
          "data": {
            "text/plain": [
              "지점       0\n",
              "지점명      0\n",
              "일시       0\n",
              "습도(%)    0\n",
              "dtype: int64"
            ]
          },
          "metadata": {
            "tags": []
          },
          "execution_count": 13
        }
      ]
    },
    {
      "cell_type": "code",
      "metadata": {
        "colab": {
          "base_uri": "https://localhost:8080/"
        },
        "id": "ZnA5s8pUCxZm",
        "outputId": "a9610ef1-cf63-4e97-a0dc-43fe0096d3f2"
      },
      "source": [
        "hum_aws_2019.isnull().sum()"
      ],
      "execution_count": null,
      "outputs": [
        {
          "output_type": "execute_result",
          "data": {
            "text/plain": [
              "지점       0\n",
              "지점명      0\n",
              "일시       0\n",
              "습도(%)    0\n",
              "dtype: int64"
            ]
          },
          "metadata": {
            "tags": []
          },
          "execution_count": 14
        }
      ]
    },
    {
      "cell_type": "markdown",
      "metadata": {
        "id": "t6e62QaQC0xg"
      },
      "source": [
        "AWS 습도 데이터는 결측값이 존재하지 않는다."
      ]
    },
    {
      "cell_type": "markdown",
      "metadata": {
        "id": "j8-XO1sPOzWj"
      },
      "source": [
        "# 2. 습도 데이터 살펴보기"
      ]
    },
    {
      "cell_type": "markdown",
      "metadata": {
        "id": "udiuRu0iELsX"
      },
      "source": [
        "전체 데이터\n",
        "1. 지점명이 하나인 지점이 어딘지 ( 관측된 데이터 1개인 지역)  \n",
        "2. 전체 추이 (연도별, 월별)\n",
        "3. 각 관측소별 평균 습도, 최고 습도, 최저 습도\n",
        "---------------------------------------------------\n",
        "광역시 데이터\n",
        "4. 광역시별 습도\n",
        "5. 습도와 다른 변수들과의 상관성(2018년을 가지고 분석-> 가장 나중에 3대 요소나 7대요소로)\n",
        "6. 광역시별 평균 습도 (연도별, 월별 -> 날씨예보처럼), 최고 습도, 최저 습도"
      ]
    },
    {
      "cell_type": "markdown",
      "metadata": {
        "id": "PtrDizPQrZNB"
      },
      "source": [
        "## 2.1 관측데이터가 한 곳인 지역"
      ]
    },
    {
      "cell_type": "code",
      "metadata": {
        "id": "WcigMTWFxT3B"
      },
      "source": [
        "temp_hum2018 = hum_aws_2018.copy()"
      ],
      "execution_count": null,
      "outputs": []
    },
    {
      "cell_type": "code",
      "metadata": {
        "colab": {
          "base_uri": "https://localhost:8080/",
          "height": 202
        },
        "id": "4QAkl-NXyChr",
        "outputId": "21e2dbd1-dffb-42aa-ae92-3d42557d8787"
      },
      "source": [
        "# 일시가 object이므로 datetime으로 변환\n",
        "temp_hum2018['일시']=pd.to_datetime(temp_hum2018['일시'])\n",
        "temp_hum2018.head()"
      ],
      "execution_count": null,
      "outputs": [
        {
          "output_type": "execute_result",
          "data": {
            "text/html": [
              "<div>\n",
              "<style scoped>\n",
              "    .dataframe tbody tr th:only-of-type {\n",
              "        vertical-align: middle;\n",
              "    }\n",
              "\n",
              "    .dataframe tbody tr th {\n",
              "        vertical-align: top;\n",
              "    }\n",
              "\n",
              "    .dataframe thead th {\n",
              "        text-align: right;\n",
              "    }\n",
              "</style>\n",
              "<table border=\"1\" class=\"dataframe\">\n",
              "  <thead>\n",
              "    <tr style=\"text-align: right;\">\n",
              "      <th></th>\n",
              "      <th>지점</th>\n",
              "      <th>지점명</th>\n",
              "      <th>일시</th>\n",
              "      <th>습도(%)</th>\n",
              "    </tr>\n",
              "  </thead>\n",
              "  <tbody>\n",
              "    <tr>\n",
              "      <th>0</th>\n",
              "      <td>12</td>\n",
              "      <td>안면도(감)</td>\n",
              "      <td>2018-01-01 01:00:00</td>\n",
              "      <td>58.0</td>\n",
              "    </tr>\n",
              "    <tr>\n",
              "      <th>1</th>\n",
              "      <td>12</td>\n",
              "      <td>안면도(감)</td>\n",
              "      <td>2018-01-01 02:00:00</td>\n",
              "      <td>55.5</td>\n",
              "    </tr>\n",
              "    <tr>\n",
              "      <th>2</th>\n",
              "      <td>12</td>\n",
              "      <td>안면도(감)</td>\n",
              "      <td>2018-01-01 03:00:00</td>\n",
              "      <td>65.0</td>\n",
              "    </tr>\n",
              "    <tr>\n",
              "      <th>3</th>\n",
              "      <td>12</td>\n",
              "      <td>안면도(감)</td>\n",
              "      <td>2018-01-01 04:00:00</td>\n",
              "      <td>59.6</td>\n",
              "    </tr>\n",
              "    <tr>\n",
              "      <th>4</th>\n",
              "      <td>12</td>\n",
              "      <td>안면도(감)</td>\n",
              "      <td>2018-01-01 05:00:00</td>\n",
              "      <td>65.2</td>\n",
              "    </tr>\n",
              "  </tbody>\n",
              "</table>\n",
              "</div>"
            ],
            "text/plain": [
              "   지점     지점명                  일시  습도(%)\n",
              "0  12  안면도(감) 2018-01-01 01:00:00   58.0\n",
              "1  12  안면도(감) 2018-01-01 02:00:00   55.5\n",
              "2  12  안면도(감) 2018-01-01 03:00:00   65.0\n",
              "3  12  안면도(감) 2018-01-01 04:00:00   59.6\n",
              "4  12  안면도(감) 2018-01-01 05:00:00   65.2"
            ]
          },
          "metadata": {
            "tags": []
          },
          "execution_count": 7
        }
      ]
    },
    {
      "cell_type": "code",
      "metadata": {
        "id": "kjwrAO5lzdVb"
      },
      "source": [
        "temp_hum2018.index = temp_hum2018['일시']\n",
        "temp_hum2018.set_index('일시',inplace=True)"
      ],
      "execution_count": null,
      "outputs": []
    },
    {
      "cell_type": "code",
      "metadata": {
        "colab": {
          "base_uri": "https://localhost:8080/",
          "height": 277
        },
        "id": "GoH0K5dJ5Iqc",
        "outputId": "e28dd487-744a-49c4-df33-d70912f4c277"
      },
      "source": [
        "temp_hum2018.plot()\n",
        "plt.show()"
      ],
      "execution_count": null,
      "outputs": [
        {
          "output_type": "display_data",
          "data": {
            "image/png": "[encoded data removed]",
            "text/plain": [
              "<Figure size 432x288 with 1 Axes>"
            ]
          },
          "metadata": {
            "tags": [],
            "needs_background": "light"
          }
        }
      ]
    },
    {
      "cell_type": "code",
      "metadata": {
        "id": "zA2fa-FUxSz2"
      },
      "source": [
        ""
      ],
      "execution_count": null,
      "outputs": []
    },
    {
      "cell_type": "markdown",
      "metadata": {
        "id": "VjDfKtr9O3QW"
      },
      "source": [
        "## 2.2 2018년, 2019년 추이 확인 "
      ]
    },
    {
      "cell_type": "markdown",
      "metadata": {
        "id": "tphR7I9frlo8"
      },
      "source": [
        "### 2.2.1 연도별 평균습도"
      ]
    },
    {
      "cell_type": "code",
      "metadata": {
        "id": "XPTaX_hAvcOi"
      },
      "source": [
        ""
      ],
      "execution_count": null,
      "outputs": []
    },
    {
      "cell_type": "code",
      "metadata": {
        "id": "Y78QWALtNXKW"
      },
      "source": [
        ""
      ],
      "execution_count": null,
      "outputs": []
    },
    {
      "cell_type": "markdown",
      "metadata": {
        "id": "Zs95ASllrpzf"
      },
      "source": [
        "### 2.2.2 월별 추이"
      ]
    },
    {
      "cell_type": "code",
      "metadata": {
        "id": "F-HE-gZHNXUi"
      },
      "source": [
        ""
      ],
      "execution_count": null,
      "outputs": []
    },
    {
      "cell_type": "code",
      "metadata": {
        "id": "f0JGpj1pNXdH"
      },
      "source": [
        ""
      ],
      "execution_count": null,
      "outputs": []
    },
    {
      "cell_type": "markdown",
      "metadata": {
        "id": "EN8BrNr-rxJB"
      },
      "source": [
        "## 2.3 전국 최고 습도, 최저 습도, 평균 습도"
      ]
    },
    {
      "cell_type": "code",
      "metadata": {
        "id": "qn4ubYPXNXiq"
      },
      "source": [
        "# 카토그램"
      ],
      "execution_count": null,
      "outputs": []
    },
    {
      "cell_type": "markdown",
      "metadata": {
        "id": "l3qugvdxr7lv"
      },
      "source": [
        "## 2.4 주요도시별 습도"
      ]
    },
    {
      "cell_type": "code",
      "metadata": {
        "id": "PQX9suj9tpiw"
      },
      "source": [
        ""
      ],
      "execution_count": null,
      "outputs": []
    },
    {
      "cell_type": "markdown",
      "metadata": {
        "id": "5EM-9eIdthp8"
      },
      "source": [
        "## 2.5 주요도시별 평균 습도, 최고 습도, 최저 습도"
      ]
    },
    {
      "cell_type": "code",
      "metadata": {
        "id": "5RILxvepNX3H"
      },
      "source": [
        ""
      ],
      "execution_count": null,
      "outputs": []
    },
    {
      "cell_type": "markdown",
      "metadata": {
        "id": "onffv-Aotq5F"
      },
      "source": [
        "## 2.6 습도와 다른 변수간 상관관계 (주요도시만)"
      ]
    },
    {
      "cell_type": "code",
      "metadata": {
        "id": "XkG3idG7NX8m"
      },
      "source": [
        ""
      ],
      "execution_count": null,
      "outputs": []
    },
    {
      "cell_type": "markdown",
      "metadata": {
        "id": "UeMWZWwoDeNz"
      },
      "source": [
        "# 3. 연관성 분석"
      ]
    },
    {
      "cell_type": "markdown",
      "metadata": {
        "id": "tJSwgZcEDniN"
      },
      "source": [
        "# 3.1 습도와 온라인 구매 데이터 연관성"
      ]
    },
    {
      "cell_type": "markdown",
      "metadata": {
        "id": "UrK8d7ouDsrz"
      },
      "source": [
        "### 3.1.1 습도와 2018년 상반기 온라인 구매 데이터 연관성"
      ]
    },
    {
      "cell_type": "code",
      "metadata": {
        "id": "EJduiXDkNYB8"
      },
      "source": [
        ""
      ],
      "execution_count": null,
      "outputs": []
    },
    {
      "cell_type": "code",
      "metadata": {
        "id": "IsKY_7_qNYFz"
      },
      "source": [
        ""
      ],
      "execution_count": null,
      "outputs": []
    },
    {
      "cell_type": "markdown",
      "metadata": {
        "id": "l6PkLaePD1Xm"
      },
      "source": [
        "### 3.1.2 습도와 2018년 하반기 온라인 구매 데이터 연관성\n"
      ]
    },
    {
      "cell_type": "code",
      "metadata": {
        "id": "wCyLz6mgNYKV"
      },
      "source": [
        ""
      ],
      "execution_count": null,
      "outputs": []
    },
    {
      "cell_type": "code",
      "metadata": {
        "id": "Qvn15-9fNYNh"
      },
      "source": [
        ""
      ],
      "execution_count": null,
      "outputs": []
    },
    {
      "cell_type": "markdown",
      "metadata": {
        "id": "TK9wdb0GD7OW"
      },
      "source": [
        "### 3.1.3 습도와 2019년 상반기 온라인 구매 데이터 연관성\n"
      ]
    },
    {
      "cell_type": "code",
      "metadata": {
        "id": "NAqGGRkeNYRO"
      },
      "source": [
        ""
      ],
      "execution_count": null,
      "outputs": []
    },
    {
      "cell_type": "code",
      "metadata": {
        "id": "SxpV26zhD_Em"
      },
      "source": [
        ""
      ],
      "execution_count": null,
      "outputs": []
    },
    {
      "cell_type": "markdown",
      "metadata": {
        "id": "N_bs7chYt00R"
      },
      "source": [
        "### 3.1.4 습도와 2019년 하반기 온라인 구매 데이터 연관성"
      ]
    },
    {
      "cell_type": "code",
      "metadata": {
        "id": "MOVGgdCHNYUz"
      },
      "source": [
        ""
      ],
      "execution_count": null,
      "outputs": []
    },
    {
      "cell_type": "code",
      "metadata": {
        "id": "COXxcR21NYZd"
      },
      "source": [
        ""
      ],
      "execution_count": null,
      "outputs": []
    },
    {
      "cell_type": "markdown",
      "metadata": {
        "id": "HPVr9h4Jt3Tv"
      },
      "source": [
        "## 3.2 습도와 소셜 데이터 연관성"
      ]
    },
    {
      "cell_type": "code",
      "metadata": {
        "id": "a_ce1qxNNYct"
      },
      "source": [
        ""
      ],
      "execution_count": null,
      "outputs": []
    },
    {
      "cell_type": "code",
      "metadata": {
        "id": "KQUbDBk8NYgF"
      },
      "source": [
        ""
      ],
      "execution_count": null,
      "outputs": []
    },
    {
      "cell_type": "markdown",
      "metadata": {
        "id": "_kLpM_WwuARZ"
      },
      "source": [
        "### 3.2.1 습도와 2018년 상반기 소셜 데이터 연관성"
      ]
    },
    {
      "cell_type": "code",
      "metadata": {
        "id": "cwJm1pw3NYj6"
      },
      "source": [
        ""
      ],
      "execution_count": null,
      "outputs": []
    },
    {
      "cell_type": "markdown",
      "metadata": {
        "id": "4sz75iYWuIcK"
      },
      "source": [
        "### 3.2.2 습도와 2018년 하반기 소셜 데이터 연관성"
      ]
    },
    {
      "cell_type": "code",
      "metadata": {
        "id": "mL_IW6czNYqa"
      },
      "source": [
        ""
      ],
      "execution_count": null,
      "outputs": []
    },
    {
      "cell_type": "markdown",
      "metadata": {
        "id": "kQHUduzDuQlt"
      },
      "source": [
        "### 3.2.3 습도와 2019년 상반기 소셜 데이터 연관성"
      ]
    },
    {
      "cell_type": "code",
      "metadata": {
        "id": "1tGDlwDFuLAB"
      },
      "source": [
        ""
      ],
      "execution_count": null,
      "outputs": []
    },
    {
      "cell_type": "markdown",
      "metadata": {
        "id": "1Xx1HRHQuUTQ"
      },
      "source": [
        "### 3.2.4 습도와 2019년 하반기 소셜 데이터 연관성"
      ]
    },
    {
      "cell_type": "code",
      "metadata": {
        "id": "HWqooPSGuLI7"
      },
      "source": [
        ""
      ],
      "execution_count": null,
      "outputs": []
    },
    {
      "cell_type": "code",
      "metadata": {
        "id": "xDqm1rGzuMGl"
      },
      "source": [
        ""
      ],
      "execution_count": null,
      "outputs": []
    },
    {
      "cell_type": "code",
      "metadata": {
        "id": "dIXifIh7uMQA"
      },
      "source": [
        ""
      ],
      "execution_count": null,
      "outputs": []
    },
    {
      "cell_type": "code",
      "metadata": {
        "id": "Bdq4DSfouMTk"
      },
      "source": [
        ""
      ],
      "execution_count": null,
      "outputs": []
    },
    {
      "cell_type": "code",
      "metadata": {
        "id": "WqGvd-47uMZ4"
      },
      "source": [
        ""
      ],
      "execution_count": null,
      "outputs": []
    },
    {
      "cell_type": "code",
      "metadata": {
        "id": "SPgXEVdcuMeU"
      },
      "source": [
        ""
      ],
      "execution_count": null,
      "outputs": []
    },
    {
      "cell_type": "code",
      "metadata": {
        "id": "5qXZ8GBMuMr8"
      },
      "source": [
        ""
      ],
      "execution_count": null,
      "outputs": []
    },
    {
      "cell_type": "code",
      "metadata": {
        "id": "CxhWqdFtuNkp"
      },
      "source": [
        ""
      ],
      "execution_count": null,
      "outputs": []
    },
    {
      "cell_type": "code",
      "metadata": {
        "id": "t7qlhB_3uNq-"
      },
      "source": [
        ""
      ],
      "execution_count": null,
      "outputs": []
    },
    {
      "cell_type": "code",
      "metadata": {
        "id": "780NlGZkuN0J"
      },
      "source": [
        ""
      ],
      "execution_count": null,
      "outputs": []
    },
    {
      "cell_type": "code",
      "metadata": {
        "id": "yJ7qv9TzuLFE"
      },
      "source": [
        ""
      ],
      "execution_count": null,
      "outputs": []
    },
    {
      "cell_type": "code",
      "metadata": {
        "id": "72Ux91piNYuF"
      },
      "source": [
        ""
      ],
      "execution_count": null,
      "outputs": []
    }
  ]
}