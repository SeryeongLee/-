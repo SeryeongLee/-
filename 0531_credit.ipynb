{
  "nbformat": 4,
  "nbformat_minor": 0,
  "metadata": {
    "colab": {
      "name": "0531_변수만들기_혜린.ipynb",
      "provenance": [],
      "collapsed_sections": [
        "XFRwzuBQb20S",
        "tWddbz6SfPRs",
        "IycM8KyvcGBG",
        "tApqPLoNforH",
        "K9XWRqkfqarN",
        "M-NTcwkLvSEZ",
        "ZmX_HqZsxIEo",
        "BMRG5QQ9xVA5",
        "ygBOo-5A0W7i"
      ],
      "include_colab_link": true
    },
    "kernelspec": {
      "name": "python3",
      "display_name": "Python 3"
    },
    "language_info": {
      "name": "python"
    }
  },
  "cells": [
    {
      "cell_type": "markdown",
      "metadata": {
        "id": "view-in-github",
        "colab_type": "text"
      },
      "source": [
        "<a href=\"https://colab.research.google.com/github/SeryeongLee/-/blob/main/0531_credit.ipynb\" target=\"_parent\"><img src=\"https://colab.research.google.com/assets/colab-badge.svg\" alt=\"Open In Colab\"/></a>"
      ]
    },
    {
      "cell_type": "code",
      "metadata": {
        "colab": {
          "base_uri": "https://localhost:8080/"
        },
        "id": "aDV9bGf6ZawO",
        "outputId": "ca39cbd8-af8d-4eae-e0b0-ead8570bd144"
      },
      "source": [
        "from google.colab import drive\n",
        "drive.mount('/content/drive')"
      ],
      "execution_count": 1,
      "outputs": [
        {
          "output_type": "stream",
          "text": [
            "Mounted at /content/drive\n"
          ],
          "name": "stdout"
        }
      ]
    },
    {
      "cell_type": "code",
      "metadata": {
        "id": "JRTHzow5Z9Lt",
        "outputId": "7893376c-1408-4c38-a97d-e3011ca543a9",
        "colab": {
          "base_uri": "https://localhost:8080/"
        }
      },
      "source": [
        "!pip install category_encoders"
      ],
      "execution_count": 58,
      "outputs": [
        {
          "output_type": "stream",
          "text": [
            "Collecting category_encoders\n",
            "\u001b[?25l  Downloading https://files.pythonhosted.org/packages/44/57/fcef41c248701ee62e8325026b90c432adea35555cbc870aff9cfba23727/category_encoders-2.2.2-py2.py3-none-any.whl (80kB)\n",
            "\r\u001b[K     |████                            | 10kB 12.2MB/s eta 0:00:01\r\u001b[K     |████████▏                       | 20kB 15.6MB/s eta 0:00:01\r\u001b[K     |████████████▏                   | 30kB 19.8MB/s eta 0:00:01\r\u001b[K     |████████████████▎               | 40kB 23.2MB/s eta 0:00:01\r\u001b[K     |████████████████████▎           | 51kB 26.2MB/s eta 0:00:01\r\u001b[K     |████████████████████████▍       | 61kB 27.9MB/s eta 0:00:01\r\u001b[K     |████████████████████████████▍   | 71kB 29.3MB/s eta 0:00:01\r\u001b[K     |████████████████████████████████| 81kB 7.0MB/s \n",
            "\u001b[?25hRequirement already satisfied: scikit-learn>=0.20.0 in /usr/local/lib/python3.7/dist-packages (from category_encoders) (0.22.2.post1)\n",
            "Requirement already satisfied: patsy>=0.5.1 in /usr/local/lib/python3.7/dist-packages (from category_encoders) (0.5.1)\n",
            "Requirement already satisfied: pandas>=0.21.1 in /usr/local/lib/python3.7/dist-packages (from category_encoders) (1.1.5)\n",
            "Requirement already satisfied: numpy>=1.14.0 in /usr/local/lib/python3.7/dist-packages (from category_encoders) (1.19.5)\n",
            "Requirement already satisfied: statsmodels>=0.9.0 in /usr/local/lib/python3.7/dist-packages (from category_encoders) (0.10.2)\n",
            "Requirement already satisfied: scipy>=1.0.0 in /usr/local/lib/python3.7/dist-packages (from category_encoders) (1.4.1)\n",
            "Requirement already satisfied: joblib>=0.11 in /usr/local/lib/python3.7/dist-packages (from scikit-learn>=0.20.0->category_encoders) (1.0.1)\n",
            "Requirement already satisfied: six in /usr/local/lib/python3.7/dist-packages (from patsy>=0.5.1->category_encoders) (1.15.0)\n",
            "Requirement already satisfied: python-dateutil>=2.7.3 in /usr/local/lib/python3.7/dist-packages (from pandas>=0.21.1->category_encoders) (2.8.1)\n",
            "Requirement already satisfied: pytz>=2017.2 in /usr/local/lib/python3.7/dist-packages (from pandas>=0.21.1->category_encoders) (2018.9)\n",
            "Installing collected packages: category-encoders\n",
            "Successfully installed category-encoders-2.2.2\n"
          ],
          "name": "stdout"
        }
      ]
    },
    {
      "cell_type": "code",
      "metadata": {
        "id": "Zjvi8lcMaTDU"
      },
      "source": [
        "import pandas as pd\n",
        "import numpy as np\n",
        "\n",
        "import matplotlib.pyplot as plt\n",
        "import seaborn as sns\n",
        "\n",
        "import os\n",
        "import re\n",
        "\n",
        "from IPython.core.interactiveshell import InteractiveShell\n",
        "InteractiveShell.ast_node_interactivity = \"all\"\n",
        "\n",
        "from sklearn.linear_model import LinearRegression\n",
        "from sklearn.linear_model import Lasso\n",
        "from sklearn.linear_model import Ridge\n",
        "from sklearn.linear_model import ElasticNet\n",
        "from sklearn.neighbors import KNeighborsRegressor\n",
        "from sklearn.tree import DecisionTreeRegressor\n",
        "from sklearn.ensemble import GradientBoostingRegressor\n",
        "from sklearn.ensemble import AdaBoostRegressor\n",
        "from sklearn.ensemble import BaggingRegressor\n",
        "\n",
        "from sklearn import preprocessing\n",
        "from sklearn.preprocessing import MinMaxScaler, StandardScaler\n",
        "from sklearn.model_selection import train_test_split\n",
        "from sklearn.model_selection import RandomizedSearchCV \n",
        "from sklearn.metrics import accuracy_score\n",
        "from sklearn.metrics import mean_squared_error\n",
        "from sklearn.utils import shuffle\n",
        "from scipy.special import erfc\n",
        "from sklearn.dummy import DummyRegressor\n",
        "from sklearn.svm import SVR\n",
        "\n",
        "from sklearn.model_selection import KFold\n",
        "from sklearn.model_selection import cross_val_score\n",
        "\n",
        "from sklearn.model_selection import train_test_split, cross_validate, RandomizedSearchCV\n",
        "from sklearn.metrics import accuracy_score, precision_score, recall_score, confusion_matrix, mean_squared_error, r2_score\n",
        "from sklearn.ensemble import RandomForestClassifier, GradientBoostingClassifier, RandomForestRegressor, VotingRegressor\n",
        "\n",
        "from lightgbm import LGBMRegressor\n",
        "\n",
        "import xgboost as xgb\n",
        "from xgboost import XGBClassifier, XGBRegressor\n",
        "\n",
        "import warnings\n",
        "\n",
        "from category_encoders.ordinal import OrdinalEncoder"
      ],
      "execution_count": 62,
      "outputs": []
    },
    {
      "cell_type": "code",
      "metadata": {
        "id": "NxNQGDfmaaXz"
      },
      "source": [
        "train = pd.read_csv('/content/drive/MyDrive/creditcard/open/train.csv')\n",
        "test = pd.read_csv('/content/drive/MyDrive/creditcard/open/test.csv')"
      ],
      "execution_count": 142,
      "outputs": []
    },
    {
      "cell_type": "code",
      "metadata": {
        "id": "irqdyVyiL96w"
      },
      "source": [
        "train_original = train.copy()\n",
        "test_original = test.copy()"
      ],
      "execution_count": 5,
      "outputs": []
    },
    {
      "cell_type": "markdown",
      "metadata": {
        "id": "SsWQ7J2zzmQb"
      },
      "source": [
        "## 기본 변환"
      ]
    },
    {
      "cell_type": "markdown",
      "metadata": {
        "id": "XFRwzuBQb20S"
      },
      "source": [
        "#### 1) 0, 1 변환"
      ]
    },
    {
      "cell_type": "markdown",
      "metadata": {
        "id": "tWddbz6SfPRs"
      },
      "source": [
        "#### 2) 수 변환"
      ]
    },
    {
      "cell_type": "code",
      "metadata": {
        "id": "o28BxZnLaaTs"
      },
      "source": [
        "# 음수 -> 양수 변환\n",
        "\n",
        "train.DAYS_BIRTH = -train.DAYS_BIRTH\n",
        "test.DAYS_BIRTH = -test.DAYS_BIRTH\n",
        "\n",
        "train.DAYS_EMPLOYED = -train.DAYS_EMPLOYED\n",
        "test.DAYS_EMPLOYED = -test.DAYS_EMPLOYED\n",
        "\n",
        "train.begin_month = -train.begin_month\n",
        "test.begin_month = -test.begin_month"
      ],
      "execution_count": 143,
      "outputs": []
    },
    {
      "cell_type": "code",
      "metadata": {
        "id": "t7eXyyutaaQt"
      },
      "source": [
        "# 365243 인 값 0으로 바꾸기\n",
        "\n",
        "train.DAYS_EMPLOYED = train.DAYS_EMPLOYED.replace([-365243],[0])\n",
        "test.DAYS_EMPLOYED = test.DAYS_EMPLOYED.replace([-365243],[0])"
      ],
      "execution_count": 144,
      "outputs": []
    },
    {
      "cell_type": "code",
      "metadata": {
        "id": "I7OF1ayKfN03"
      },
      "source": [
        "# 360으로 나눠서 나이, 일한 년수 계산\n",
        "\n",
        "train['EMPLOYED']= train.DAYS_EMPLOYED.apply(lambda x: abs(x/360) )\n",
        "train['age']= train.DAYS_BIRTH.apply(lambda x: abs(x/360) ).astype(int)\n",
        "train['begin_month']= train.begin_month.apply(lambda x: abs(x) ).astype(int)\n",
        "\n",
        "test['EMPLOYED']= test.DAYS_EMPLOYED.apply(lambda x: abs(x/360) )\n",
        "test['age']= test.DAYS_BIRTH.apply(lambda x: abs(x/360) ).astype(int)\n",
        "test['begin_month']= test.begin_month.apply(lambda x: abs(x) ).astype(int)"
      ],
      "execution_count": 145,
      "outputs": []
    },
    {
      "cell_type": "markdown",
      "metadata": {
        "id": "IycM8KyvcGBG"
      },
      "source": [
        "#### 3) 로그변환"
      ]
    },
    {
      "cell_type": "code",
      "metadata": {
        "id": "_CYBox1aaaN_"
      },
      "source": [
        "tr_it=train['income_total']\n",
        "tr_it_log = np.log1p(tr_it)\n",
        "train['income_total']= tr_it_log\n",
        "te_it=test['income_total']\n",
        "te_it_log = np.log1p(te_it)\n",
        "test['income_total']= te_it_log"
      ],
      "execution_count": 146,
      "outputs": []
    },
    {
      "cell_type": "code",
      "metadata": {
        "id": "kFxg08XvaaLg"
      },
      "source": [
        "train['EMPLOYED']= np.log1p(train['EMPLOYED'])\n",
        "test['EMPLOYED']= np.log1p(test['EMPLOYED'])"
      ],
      "execution_count": 147,
      "outputs": []
    },
    {
      "cell_type": "markdown",
      "metadata": {
        "id": "ij0p241Vfe5h"
      },
      "source": [
        "#### 4) child_num, family_size 관련 컬럼 추가"
      ]
    },
    {
      "cell_type": "code",
      "metadata": {
        "id": "hes4ZTUYYhsb",
        "outputId": "cb845639-31ee-4e31-a34e-b685af391f71",
        "colab": {
          "base_uri": "https://localhost:8080/"
        }
      },
      "source": [
        "train['child_num'].value_counts()"
      ],
      "execution_count": 148,
      "outputs": [
        {
          "output_type": "execute_result",
          "data": {
            "text/plain": [
              "0     18340\n",
              "1      5386\n",
              "2      2362\n",
              "3       306\n",
              "4        47\n",
              "5        10\n",
              "14        3\n",
              "7         2\n",
              "19        1\n",
              "Name: child_num, dtype: int64"
            ]
          },
          "metadata": {
            "tags": []
          },
          "execution_count": 148
        }
      ]
    },
    {
      "cell_type": "code",
      "metadata": {
        "id": "Fogp3bv5ckm4"
      },
      "source": [
        "# child_num이 14, 19인 행 지우기\n",
        "\n",
        "idx_child_drop = train[(train['child_num'] == 14)|(train['child_num'] == 19)].index\n",
        "train = train.drop(idx_child_drop)"
      ],
      "execution_count": 149,
      "outputs": []
    },
    {
      "cell_type": "code",
      "metadata": {
        "id": "PCNkwx6Eckk3"
      },
      "source": [
        "# child_num이 family_size보다 큰 행도 지우기\n",
        "\n",
        "idx_child_drop2 = train[train['family_size'] < train['child_num']].index\n",
        "train = train.drop(idx_child_drop2)"
      ],
      "execution_count": 150,
      "outputs": []
    },
    {
      "cell_type": "code",
      "metadata": {
        "id": "71eukZr7ckgI"
      },
      "source": [
        "train['cf_ratio'] = train['child_num'] / train['family_size']\n",
        "test['cf_ratio'] = test['child_num'] / test['family_size']\n",
        "\n",
        "# train['if_ratio'] = train['income_total'] / train['family_size']\n",
        "# test['if_ratio'] = test['income_total'] / test['family_size']"
      ],
      "execution_count": 151,
      "outputs": []
    },
    {
      "cell_type": "code",
      "metadata": {
        "id": "MT4wyjSoXu9g",
        "outputId": "21cff04b-59a3-46cf-b852-98ba0729c9de",
        "colab": {
          "base_uri": "https://localhost:8080/"
        }
      },
      "source": [
        "train['family_size'].value_counts()"
      ],
      "execution_count": 152,
      "outputs": [
        {
          "output_type": "execute_result",
          "data": {
            "text/plain": [
              "2.0    14106\n",
              "1.0     5108\n",
              "3.0     4632\n",
              "4.0     2260\n",
              "5.0      291\n",
              "6.0       44\n",
              "7.0        9\n",
              "9.0        2\n",
              "Name: family_size, dtype: int64"
            ]
          },
          "metadata": {
            "tags": []
          },
          "execution_count": 152
        }
      ]
    },
    {
      "cell_type": "code",
      "metadata": {
        "id": "ZL3-ugvhYMam"
      },
      "source": [
        "# family_size > 7 인 것도 지우기\n",
        "train = train[(train['family_size']<=7)]\n",
        "train = train.reset_index(drop=True)"
      ],
      "execution_count": 153,
      "outputs": []
    },
    {
      "cell_type": "markdown",
      "metadata": {
        "id": "tApqPLoNforH"
      },
      "source": [
        "#### 5) 결측치 채우기 - unemployed 만들고 nan 처리"
      ]
    },
    {
      "cell_type": "code",
      "metadata": {
        "id": "n__9qpcEckin"
      },
      "source": [
        "def unemployed(data):\n",
        "  data.loc[(data['DAYS_EMPLOYED'] == 0), 'occyp_type'] = 'unemployed'\n",
        "\n",
        "unemployed(train)\n",
        "unemployed(test)"
      ],
      "execution_count": 154,
      "outputs": []
    },
    {
      "cell_type": "code",
      "metadata": {
        "id": "Jx_CGoWFg8Hb"
      },
      "source": [
        "train.fillna('Nan', inplace=True)\n",
        "test.fillna('Nan',inplace=True)\n"
      ],
      "execution_count": 155,
      "outputs": []
    },
    {
      "cell_type": "code",
      "metadata": {
        "colab": {
          "base_uri": "https://localhost:8080/",
          "height": 378
        },
        "id": "HfvF5bKrj1Bn",
        "outputId": "e04cd3a8-9433-4dc7-c666-3e58888ead68"
      },
      "source": [
        "train.head()"
      ],
      "execution_count": 156,
      "outputs": [
        {
          "output_type": "execute_result",
          "data": {
            "text/html": [
              "<div>\n",
              "<style scoped>\n",
              "    .dataframe tbody tr th:only-of-type {\n",
              "        vertical-align: middle;\n",
              "    }\n",
              "\n",
              "    .dataframe tbody tr th {\n",
              "        vertical-align: top;\n",
              "    }\n",
              "\n",
              "    .dataframe thead th {\n",
              "        text-align: right;\n",
              "    }\n",
              "</style>\n",
              "<table border=\"1\" class=\"dataframe\">\n",
              "  <thead>\n",
              "    <tr style=\"text-align: right;\">\n",
              "      <th></th>\n",
              "      <th>index</th>\n",
              "      <th>gender</th>\n",
              "      <th>car</th>\n",
              "      <th>reality</th>\n",
              "      <th>child_num</th>\n",
              "      <th>income_total</th>\n",
              "      <th>income_type</th>\n",
              "      <th>edu_type</th>\n",
              "      <th>family_type</th>\n",
              "      <th>house_type</th>\n",
              "      <th>DAYS_BIRTH</th>\n",
              "      <th>DAYS_EMPLOYED</th>\n",
              "      <th>FLAG_MOBIL</th>\n",
              "      <th>work_phone</th>\n",
              "      <th>phone</th>\n",
              "      <th>email</th>\n",
              "      <th>occyp_type</th>\n",
              "      <th>family_size</th>\n",
              "      <th>begin_month</th>\n",
              "      <th>credit</th>\n",
              "      <th>EMPLOYED</th>\n",
              "      <th>age</th>\n",
              "      <th>cf_ratio</th>\n",
              "    </tr>\n",
              "  </thead>\n",
              "  <tbody>\n",
              "    <tr>\n",
              "      <th>0</th>\n",
              "      <td>0</td>\n",
              "      <td>F</td>\n",
              "      <td>N</td>\n",
              "      <td>N</td>\n",
              "      <td>0</td>\n",
              "      <td>12.218500</td>\n",
              "      <td>Commercial associate</td>\n",
              "      <td>Higher education</td>\n",
              "      <td>Married</td>\n",
              "      <td>Municipal apartment</td>\n",
              "      <td>13899</td>\n",
              "      <td>4709</td>\n",
              "      <td>1</td>\n",
              "      <td>0</td>\n",
              "      <td>0</td>\n",
              "      <td>0</td>\n",
              "      <td>Nan</td>\n",
              "      <td>2.0</td>\n",
              "      <td>6</td>\n",
              "      <td>1.0</td>\n",
              "      <td>2.644795</td>\n",
              "      <td>38</td>\n",
              "      <td>0.000000</td>\n",
              "    </tr>\n",
              "    <tr>\n",
              "      <th>1</th>\n",
              "      <td>1</td>\n",
              "      <td>F</td>\n",
              "      <td>N</td>\n",
              "      <td>Y</td>\n",
              "      <td>1</td>\n",
              "      <td>12.419170</td>\n",
              "      <td>Commercial associate</td>\n",
              "      <td>Secondary / secondary special</td>\n",
              "      <td>Civil marriage</td>\n",
              "      <td>House / apartment</td>\n",
              "      <td>11380</td>\n",
              "      <td>1540</td>\n",
              "      <td>1</td>\n",
              "      <td>0</td>\n",
              "      <td>0</td>\n",
              "      <td>1</td>\n",
              "      <td>Laborers</td>\n",
              "      <td>3.0</td>\n",
              "      <td>5</td>\n",
              "      <td>1.0</td>\n",
              "      <td>1.663505</td>\n",
              "      <td>31</td>\n",
              "      <td>0.333333</td>\n",
              "    </tr>\n",
              "    <tr>\n",
              "      <th>2</th>\n",
              "      <td>2</td>\n",
              "      <td>M</td>\n",
              "      <td>Y</td>\n",
              "      <td>Y</td>\n",
              "      <td>0</td>\n",
              "      <td>13.017005</td>\n",
              "      <td>Working</td>\n",
              "      <td>Higher education</td>\n",
              "      <td>Married</td>\n",
              "      <td>House / apartment</td>\n",
              "      <td>19087</td>\n",
              "      <td>4434</td>\n",
              "      <td>1</td>\n",
              "      <td>0</td>\n",
              "      <td>1</td>\n",
              "      <td>0</td>\n",
              "      <td>Managers</td>\n",
              "      <td>2.0</td>\n",
              "      <td>22</td>\n",
              "      <td>2.0</td>\n",
              "      <td>2.589016</td>\n",
              "      <td>53</td>\n",
              "      <td>0.000000</td>\n",
              "    </tr>\n",
              "    <tr>\n",
              "      <th>3</th>\n",
              "      <td>3</td>\n",
              "      <td>F</td>\n",
              "      <td>N</td>\n",
              "      <td>Y</td>\n",
              "      <td>0</td>\n",
              "      <td>12.218500</td>\n",
              "      <td>Commercial associate</td>\n",
              "      <td>Secondary / secondary special</td>\n",
              "      <td>Married</td>\n",
              "      <td>House / apartment</td>\n",
              "      <td>15088</td>\n",
              "      <td>2092</td>\n",
              "      <td>1</td>\n",
              "      <td>0</td>\n",
              "      <td>1</td>\n",
              "      <td>0</td>\n",
              "      <td>Sales staff</td>\n",
              "      <td>2.0</td>\n",
              "      <td>37</td>\n",
              "      <td>0.0</td>\n",
              "      <td>1.918555</td>\n",
              "      <td>41</td>\n",
              "      <td>0.000000</td>\n",
              "    </tr>\n",
              "    <tr>\n",
              "      <th>4</th>\n",
              "      <td>4</td>\n",
              "      <td>F</td>\n",
              "      <td>Y</td>\n",
              "      <td>Y</td>\n",
              "      <td>0</td>\n",
              "      <td>11.967187</td>\n",
              "      <td>State servant</td>\n",
              "      <td>Higher education</td>\n",
              "      <td>Married</td>\n",
              "      <td>House / apartment</td>\n",
              "      <td>15037</td>\n",
              "      <td>2105</td>\n",
              "      <td>1</td>\n",
              "      <td>0</td>\n",
              "      <td>0</td>\n",
              "      <td>0</td>\n",
              "      <td>Managers</td>\n",
              "      <td>2.0</td>\n",
              "      <td>26</td>\n",
              "      <td>2.0</td>\n",
              "      <td>1.923843</td>\n",
              "      <td>41</td>\n",
              "      <td>0.000000</td>\n",
              "    </tr>\n",
              "  </tbody>\n",
              "</table>\n",
              "</div>"
            ],
            "text/plain": [
              "   index gender car reality  ...  credit  EMPLOYED age  cf_ratio\n",
              "0      0      F   N       N  ...     1.0  2.644795  38  0.000000\n",
              "1      1      F   N       Y  ...     1.0  1.663505  31  0.333333\n",
              "2      2      M   Y       Y  ...     2.0  2.589016  53  0.000000\n",
              "3      3      F   N       Y  ...     0.0  1.918555  41  0.000000\n",
              "4      4      F   Y       Y  ...     2.0  1.923843  41  0.000000\n",
              "\n",
              "[5 rows x 23 columns]"
            ]
          },
          "metadata": {
            "tags": []
          },
          "execution_count": 156
        }
      ]
    },
    {
      "cell_type": "markdown",
      "metadata": {
        "id": "eWjwg14szzF0"
      },
      "source": [
        "#### 명목형 변수 처리 - OrdinalEncoder"
      ]
    },
    {
      "cell_type": "code",
      "metadata": {
        "id": "PdKlLGkBm0HY"
      },
      "source": [
        "encoder = OrdinalEncoder()"
      ],
      "execution_count": 157,
      "outputs": []
    },
    {
      "cell_type": "code",
      "metadata": {
        "id": "YD4-JU9cmwgM",
        "outputId": "63bd5c66-fb57-42fa-af84-a58a2a43619a",
        "colab": {
          "base_uri": "https://localhost:8080/"
        }
      },
      "source": [
        "cate_feature = train.dtypes[train.dtypes == 'object'].index.tolist()\n",
        "print(len(cate_feature))\n",
        "print(train.dtypes)"
      ],
      "execution_count": 158,
      "outputs": [
        {
          "output_type": "stream",
          "text": [
            "8\n",
            "index              int64\n",
            "gender            object\n",
            "car               object\n",
            "reality           object\n",
            "child_num          int64\n",
            "income_total     float64\n",
            "income_type       object\n",
            "edu_type          object\n",
            "family_type       object\n",
            "house_type        object\n",
            "DAYS_BIRTH         int64\n",
            "DAYS_EMPLOYED      int64\n",
            "FLAG_MOBIL         int64\n",
            "work_phone         int64\n",
            "phone              int64\n",
            "email              int64\n",
            "occyp_type        object\n",
            "family_size      float64\n",
            "begin_month        int64\n",
            "credit           float64\n",
            "EMPLOYED         float64\n",
            "age                int64\n",
            "cf_ratio         float64\n",
            "dtype: object\n"
          ],
          "name": "stdout"
        }
      ]
    },
    {
      "cell_type": "code",
      "metadata": {
        "colab": {
          "base_uri": "https://localhost:8080/"
        },
        "id": "3YsPFkgKm2Ew",
        "outputId": "22c3724f-6590-4cc5-ba03-fe8742f5f430"
      },
      "source": [
        "train[cate_feature] = encoder.fit_transform(train[cate_feature],train['credit'])\n",
        "test[cate_feature] = encoder.fit_transform(test[cate_feature])"
      ],
      "execution_count": 159,
      "outputs": [
        {
          "output_type": "stream",
          "text": [
            "/usr/local/lib/python3.7/dist-packages/category_encoders/utils.py:21: FutureWarning: is_categorical is deprecated and will be removed in a future version.  Use is_categorical_dtype instead\n",
            "  elif pd.api.types.is_categorical(cols):\n"
          ],
          "name": "stderr"
        }
      ]
    },
    {
      "cell_type": "code",
      "metadata": {
        "id": "pqX2zuShdGFW"
      },
      "source": [
        "train = train.drop(['index', 'FLAG_MOBIL', 'DAYS_BIRTH', 'DAYS_EMPLOYED', 'child_num','cf_ratio'], axis = 1)"
      ],
      "execution_count": 160,
      "outputs": []
    },
    {
      "cell_type": "code",
      "metadata": {
        "colab": {
          "base_uri": "https://localhost:8080/",
          "height": 222
        },
        "id": "EqSTQo1-u_1S",
        "outputId": "ecaccaae-14b0-4ace-ebae-4168096eef28"
      },
      "source": [
        "train.head()"
      ],
      "execution_count": 161,
      "outputs": [
        {
          "output_type": "execute_result",
          "data": {
            "text/html": [
              "<div>\n",
              "<style scoped>\n",
              "    .dataframe tbody tr th:only-of-type {\n",
              "        vertical-align: middle;\n",
              "    }\n",
              "\n",
              "    .dataframe tbody tr th {\n",
              "        vertical-align: top;\n",
              "    }\n",
              "\n",
              "    .dataframe thead th {\n",
              "        text-align: right;\n",
              "    }\n",
              "</style>\n",
              "<table border=\"1\" class=\"dataframe\">\n",
              "  <thead>\n",
              "    <tr style=\"text-align: right;\">\n",
              "      <th></th>\n",
              "      <th>gender</th>\n",
              "      <th>car</th>\n",
              "      <th>reality</th>\n",
              "      <th>income_total</th>\n",
              "      <th>income_type</th>\n",
              "      <th>edu_type</th>\n",
              "      <th>family_type</th>\n",
              "      <th>house_type</th>\n",
              "      <th>work_phone</th>\n",
              "      <th>phone</th>\n",
              "      <th>email</th>\n",
              "      <th>occyp_type</th>\n",
              "      <th>family_size</th>\n",
              "      <th>begin_month</th>\n",
              "      <th>credit</th>\n",
              "      <th>EMPLOYED</th>\n",
              "      <th>age</th>\n",
              "    </tr>\n",
              "  </thead>\n",
              "  <tbody>\n",
              "    <tr>\n",
              "      <th>0</th>\n",
              "      <td>1</td>\n",
              "      <td>1</td>\n",
              "      <td>1</td>\n",
              "      <td>12.218500</td>\n",
              "      <td>1</td>\n",
              "      <td>1</td>\n",
              "      <td>1</td>\n",
              "      <td>1</td>\n",
              "      <td>0</td>\n",
              "      <td>0</td>\n",
              "      <td>0</td>\n",
              "      <td>1</td>\n",
              "      <td>2.0</td>\n",
              "      <td>6</td>\n",
              "      <td>1.0</td>\n",
              "      <td>2.644795</td>\n",
              "      <td>38</td>\n",
              "    </tr>\n",
              "    <tr>\n",
              "      <th>1</th>\n",
              "      <td>1</td>\n",
              "      <td>1</td>\n",
              "      <td>2</td>\n",
              "      <td>12.419170</td>\n",
              "      <td>1</td>\n",
              "      <td>2</td>\n",
              "      <td>2</td>\n",
              "      <td>2</td>\n",
              "      <td>0</td>\n",
              "      <td>0</td>\n",
              "      <td>1</td>\n",
              "      <td>2</td>\n",
              "      <td>3.0</td>\n",
              "      <td>5</td>\n",
              "      <td>1.0</td>\n",
              "      <td>1.663505</td>\n",
              "      <td>31</td>\n",
              "    </tr>\n",
              "    <tr>\n",
              "      <th>2</th>\n",
              "      <td>2</td>\n",
              "      <td>2</td>\n",
              "      <td>2</td>\n",
              "      <td>13.017005</td>\n",
              "      <td>2</td>\n",
              "      <td>1</td>\n",
              "      <td>1</td>\n",
              "      <td>2</td>\n",
              "      <td>0</td>\n",
              "      <td>1</td>\n",
              "      <td>0</td>\n",
              "      <td>3</td>\n",
              "      <td>2.0</td>\n",
              "      <td>22</td>\n",
              "      <td>2.0</td>\n",
              "      <td>2.589016</td>\n",
              "      <td>53</td>\n",
              "    </tr>\n",
              "    <tr>\n",
              "      <th>3</th>\n",
              "      <td>1</td>\n",
              "      <td>1</td>\n",
              "      <td>2</td>\n",
              "      <td>12.218500</td>\n",
              "      <td>1</td>\n",
              "      <td>2</td>\n",
              "      <td>1</td>\n",
              "      <td>2</td>\n",
              "      <td>0</td>\n",
              "      <td>1</td>\n",
              "      <td>0</td>\n",
              "      <td>4</td>\n",
              "      <td>2.0</td>\n",
              "      <td>37</td>\n",
              "      <td>0.0</td>\n",
              "      <td>1.918555</td>\n",
              "      <td>41</td>\n",
              "    </tr>\n",
              "    <tr>\n",
              "      <th>4</th>\n",
              "      <td>1</td>\n",
              "      <td>2</td>\n",
              "      <td>2</td>\n",
              "      <td>11.967187</td>\n",
              "      <td>3</td>\n",
              "      <td>1</td>\n",
              "      <td>1</td>\n",
              "      <td>2</td>\n",
              "      <td>0</td>\n",
              "      <td>0</td>\n",
              "      <td>0</td>\n",
              "      <td>3</td>\n",
              "      <td>2.0</td>\n",
              "      <td>26</td>\n",
              "      <td>2.0</td>\n",
              "      <td>1.923843</td>\n",
              "      <td>41</td>\n",
              "    </tr>\n",
              "  </tbody>\n",
              "</table>\n",
              "</div>"
            ],
            "text/plain": [
              "   gender  car  reality  income_total  ...  begin_month  credit  EMPLOYED  age\n",
              "0       1    1        1     12.218500  ...            6     1.0  2.644795   38\n",
              "1       1    1        2     12.419170  ...            5     1.0  1.663505   31\n",
              "2       2    2        2     13.017005  ...           22     2.0  2.589016   53\n",
              "3       1    1        2     12.218500  ...           37     0.0  1.918555   41\n",
              "4       1    2        2     11.967187  ...           26     2.0  1.923843   41\n",
              "\n",
              "[5 rows x 17 columns]"
            ]
          },
          "metadata": {
            "tags": []
          },
          "execution_count": 161
        }
      ]
    },
    {
      "cell_type": "code",
      "metadata": {
        "id": "ljGdMqOrf3V1"
      },
      "source": [
        "# 간단한 autoencoder 모델 구현"
      ],
      "execution_count": null,
      "outputs": []
    },
    {
      "cell_type": "markdown",
      "metadata": {
        "id": "StLLt7srN9Qf"
      },
      "source": [
        "AutoEncoder + NN 구현"
      ]
    },
    {
      "cell_type": "markdown",
      "metadata": {
        "id": "UfbnmL4fRSY6"
      },
      "source": [
        "* 입출력이 같은 구조\n",
        "* input data를 잘 복원한다.\n",
        "\n"
      ]
    },
    {
      "cell_type": "code",
      "metadata": {
        "id": "qwX5O8umSivv"
      },
      "source": [
        "import tensorflow as tf\n",
        "from tensorflow.keras.layers import Dense, Input\n",
        "from tensorflow.keras.models import Model"
      ],
      "execution_count": 163,
      "outputs": []
    },
    {
      "cell_type": "markdown",
      "metadata": {
        "id": "rKMg7TKVSuHT"
      },
      "source": [
        "인코더 작성"
      ]
    },
    {
      "cell_type": "code",
      "metadata": {
        "id": "P_MTFNcEN3p6"
      },
      "source": [
        "input_dim = Input(shape=(16,)) # 입력 채널 수: 16"
      ],
      "execution_count": 173,
      "outputs": []
    },
    {
      "cell_type": "code",
      "metadata": {
        "id": "UuPMYa5eS49Q"
      },
      "source": [
        "encoder1 = Dense(8, activation = 'relu')(input_dim)\n",
        "encoder2 = Dense(3, activation = 'relu')(encoder1)"
      ],
      "execution_count": 174,
      "outputs": []
    },
    {
      "cell_type": "code",
      "metadata": {
        "id": "uSAvsw5MS5Ut"
      },
      "source": [
        "decoder1 = Dense(8, activation='relu')(encoder2)\n",
        "decoder2 = Dense(16, activation='relu')(decoder1)"
      ],
      "execution_count": 175,
      "outputs": []
    },
    {
      "cell_type": "markdown",
      "metadata": {
        "id": "ZUjRnOVaTbJ_"
      },
      "source": [
        "모델 작성 및 컴파일"
      ]
    },
    {
      "cell_type": "code",
      "metadata": {
        "id": "x7vVj-A_S5eB"
      },
      "source": [
        "autoencoder = Model(inputs = input_dim, outputs = decoder2)\n"
      ],
      "execution_count": 176,
      "outputs": []
    },
    {
      "cell_type": "code",
      "metadata": {
        "id": "ry3OGFz6S5mo"
      },
      "source": [
        "autoencoder.compile(optimizer = 'adam', loss = 'binary_crossentropy')"
      ],
      "execution_count": 177,
      "outputs": []
    },
    {
      "cell_type": "code",
      "metadata": {
        "id": "dRUrmqjKhDAJ"
      },
      "source": [
        "train_y = train['credit']\n"
      ],
      "execution_count": 169,
      "outputs": []
    },
    {
      "cell_type": "code",
      "metadata": {
        "id": "Y2vsooHfCMik"
      },
      "source": [
        "train_x = train.drop(\"credit\", axis = 1)\n",
        "\n",
        "\n",
        "x_train, x_test, y_train, y_test = train_test_split(train_x, train_y,\n",
        "                 stratify = train_y, \n",
        "                 test_size = 0.2,\n",
        "                 random_state = 10086\n",
        "                 )\n"
      ],
      "execution_count": 171,
      "outputs": []
    },
    {
      "cell_type": "code",
      "metadata": {
        "id": "yQdxa_TuTnJ5",
        "outputId": "94a1cc0f-4687-4c34-ddaf-09e0b38cc6db",
        "colab": {
          "base_uri": "https://localhost:8080/"
        }
      },
      "source": [
        "autoencoder.fit(x_train, x_train, batch_size= 32, shuffle= True, validation_data = (x_test,x_test))"
      ],
      "execution_count": 178,
      "outputs": [
        {
          "output_type": "stream",
          "text": [
            "662/662 [==============================] - 2s 2ms/step - loss: 65.9169 - val_loss: 60.6431\n"
          ],
          "name": "stdout"
        },
        {
          "output_type": "execute_result",
          "data": {
            "text/plain": [
              "<tensorflow.python.keras.callbacks.History at 0x7f3a68394890>"
            ]
          },
          "metadata": {
            "tags": []
          },
          "execution_count": 178
        }
      ]
    },
    {
      "cell_type": "code",
      "metadata": {
        "id": "aVP3segziTWM"
      },
      "source": [
        "import torch\n",
        "import torch.nn as nn\n",
        "import torch.nn.functional as F"
      ],
      "execution_count": null,
      "outputs": []
    },
    {
      "cell_type": "code",
      "metadata": {
        "id": "Xr9xR_2pi3hd"
      },
      "source": [
        "class Net(nn.Module):\n",
        "  def __init__(self): # 초기화\n",
        "    super(Net,self).__init__()\n",
        "    self.conv1"
      ],
      "execution_count": null,
      "outputs": []
    },
    {
      "cell_type": "code",
      "metadata": {
        "id": "J3FEdh5wi3eC"
      },
      "source": [
        ""
      ],
      "execution_count": null,
      "outputs": []
    },
    {
      "cell_type": "code",
      "metadata": {
        "id": "nRveJaDbi3YE"
      },
      "source": [
        ""
      ],
      "execution_count": null,
      "outputs": []
    },
    {
      "cell_type": "code",
      "metadata": {
        "id": "zLu5YURyi3Nl"
      },
      "source": [
        ""
      ],
      "execution_count": null,
      "outputs": []
    },
    {
      "cell_type": "markdown",
      "metadata": {
        "id": "9hA51hmAfsvv"
      },
      "source": [
        "명목형 변수 처리 - AutoEncoder  \n",
        "(https://dacon.io/competitions/official/235713/codeshare/2562?page=3&dtype=recent) 참고"
      ]
    }
  ]
}