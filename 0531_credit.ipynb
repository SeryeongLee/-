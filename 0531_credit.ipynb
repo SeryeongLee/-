{
  "nbformat": 4,
  "nbformat_minor": 0,
  "metadata": {
    "colab": {
      "name": "0531_변수만들기_혜린.ipynb",
      "provenance": [],
      "collapsed_sections": [
        "XFRwzuBQb20S",
        "tWddbz6SfPRs",
        "IycM8KyvcGBG",
        "tApqPLoNforH",
        "K9XWRqkfqarN",
        "M-NTcwkLvSEZ",
        "ZmX_HqZsxIEo",
        "BMRG5QQ9xVA5",
        "ygBOo-5A0W7i"
      ],
      "include_colab_link": true
    },
    "kernelspec": {
      "name": "python3",
      "display_name": "Python 3"
    },
    "language_info": {
      "name": "python"
    }
  },
  "cells": [
    {
      "cell_type": "markdown",
      "metadata": {
        "id": "view-in-github",
        "colab_type": "text"
      },
      "source": [
        "<a href=\"https://colab.research.google.com/github/SeryeongLee/-/blob/main/0531_credit.ipynb\" target=\"_parent\"><img src=\"https://colab.research.google.com/assets/colab-badge.svg\" alt=\"Open In Colab\"/></a>"
      ]
    },
    {
      "cell_type": "code",
      "metadata": {
        "colab": {
          "base_uri": "https://localhost:8080/"
        },
        "id": "aDV9bGf6ZawO",
        "outputId": "ff6f915c-eaa4-4002-cfdf-d959d15faf3c"
      },
      "source": [
        "from google.colab import drive\n",
        "drive.mount('/content/drive')"
      ],
      "execution_count": null,
      "outputs": [
        {
          "output_type": "stream",
          "text": [
            "Drive already mounted at /content/drive; to attempt to forcibly remount, call drive.mount(\"/content/drive\", force_remount=True).\n"
          ],
          "name": "stdout"
        }
      ]
    },
    {
      "cell_type": "code",
      "metadata": {
        "id": "Zjvi8lcMaTDU"
      },
      "source": [
        "import pandas as pd\n",
        "import numpy as np\n",
        "\n",
        "import matplotlib.pyplot as plt\n",
        "import seaborn as sns\n",
        "\n",
        "import os\n",
        "import re\n",
        "\n",
        "from IPython.core.interactiveshell import InteractiveShell\n",
        "InteractiveShell.ast_node_interactivity = \"all\"\n",
        "\n",
        "from sklearn.linear_model import LinearRegression\n",
        "from sklearn.linear_model import Lasso\n",
        "from sklearn.linear_model import Ridge\n",
        "from sklearn.linear_model import ElasticNet\n",
        "from sklearn.neighbors import KNeighborsRegressor\n",
        "from sklearn.tree import DecisionTreeRegressor\n",
        "from sklearn.ensemble import GradientBoostingRegressor\n",
        "from sklearn.ensemble import AdaBoostRegressor\n",
        "from sklearn.ensemble import BaggingRegressor\n",
        "\n",
        "from sklearn import preprocessing\n",
        "from sklearn.preprocessing import MinMaxScaler, StandardScaler\n",
        "from sklearn.model_selection import train_test_split\n",
        "from sklearn.model_selection import RandomizedSearchCV \n",
        "from sklearn.metrics import accuracy_score\n",
        "from sklearn.metrics import mean_squared_error\n",
        "from sklearn.utils import shuffle\n",
        "from scipy.special import erfc\n",
        "from sklearn.dummy import DummyRegressor\n",
        "from sklearn.svm import SVR\n",
        "\n",
        "from sklearn.model_selection import KFold\n",
        "from sklearn.model_selection import cross_val_score\n",
        "\n",
        "from sklearn.model_selection import train_test_split, cross_validate, RandomizedSearchCV\n",
        "from sklearn.metrics import accuracy_score, precision_score, recall_score, confusion_matrix, mean_squared_error, r2_score\n",
        "from sklearn.ensemble import RandomForestClassifier, GradientBoostingClassifier, RandomForestRegressor, VotingRegressor\n",
        "\n",
        "from lightgbm import LGBMRegressor\n",
        "\n",
        "import xgboost as xgb\n",
        "from xgboost import XGBClassifier, XGBRegressor\n",
        "\n",
        "import warnings"
      ],
      "execution_count": null,
      "outputs": []
    },
    {
      "cell_type": "code",
      "metadata": {
        "id": "NxNQGDfmaaXz"
      },
      "source": [
        "train = pd.read_csv('/content/drive/MyDrive/data science/first/data/train.csv')\n",
        "test = pd.read_csv('/content/drive/MyDrive/data science/first/data/test.csv')"
      ],
      "execution_count": null,
      "outputs": []
    },
    {
      "cell_type": "code",
      "metadata": {
        "id": "irqdyVyiL96w"
      },
      "source": [
        "train_original = train.copy()\n",
        "test_original = test.copy()"
      ],
      "execution_count": null,
      "outputs": []
    },
    {
      "cell_type": "markdown",
      "metadata": {
        "id": "SsWQ7J2zzmQb"
      },
      "source": [
        "## 기본 변환"
      ]
    },
    {
      "cell_type": "markdown",
      "metadata": {
        "id": "XFRwzuBQb20S"
      },
      "source": [
        "#### 1) 0, 1 변환"
      ]
    },
    {
      "cell_type": "code",
      "metadata": {
        "id": "lxckFHZtaaWA"
      },
      "source": [
        "# binary transform (0, 1)\n",
        "\n",
        "train.gender = train.gender.replace(['F','M'],[0,1])  \n",
        "test.gender = test.gender.replace(['F','M'],[0,1])\n",
        "\n",
        "train.car = train.car.replace(['N','Y'],[0,1])  \n",
        "test.car = test.car.replace(['N','Y'],[0,1])\n",
        "\n",
        "train.reality = train.reality.replace(['N','Y'],[0,1])  \n",
        "test.reality = test.reality.replace(['N','Y'],[0,1])"
      ],
      "execution_count": null,
      "outputs": []
    },
    {
      "cell_type": "markdown",
      "metadata": {
        "id": "tWddbz6SfPRs"
      },
      "source": [
        "#### 2) 수 변환"
      ]
    },
    {
      "cell_type": "code",
      "metadata": {
        "id": "o28BxZnLaaTs"
      },
      "source": [
        "# 음수 -> 양수 변환\n",
        "\n",
        "train.DAYS_BIRTH = -train.DAYS_BIRTH\n",
        "test.DAYS_BIRTH = -test.DAYS_BIRTH\n",
        "\n",
        "train.DAYS_EMPLOYED = -train.DAYS_EMPLOYED\n",
        "test.DAYS_EMPLOYED = -test.DAYS_EMPLOYED\n",
        "\n",
        "train.begin_month = -train.begin_month\n",
        "test.begin_month = -test.begin_month"
      ],
      "execution_count": null,
      "outputs": []
    },
    {
      "cell_type": "code",
      "metadata": {
        "id": "t7eXyyutaaQt"
      },
      "source": [
        "# 365243 인 값 0으로 바꾸기\n",
        "\n",
        "train.DAYS_EMPLOYED = train.DAYS_EMPLOYED.replace([-365243],[0])\n",
        "test.DAYS_EMPLOYED = test.DAYS_EMPLOYED.replace([-365243],[0])"
      ],
      "execution_count": null,
      "outputs": []
    },
    {
      "cell_type": "code",
      "metadata": {
        "id": "I7OF1ayKfN03"
      },
      "source": [
        "# 360으로 나눠서 나이, 일한 년수 계산\n",
        "\n",
        "train['EMPLOYED']= train.DAYS_EMPLOYED.apply(lambda x: abs(x/360) )\n",
        "train['age']= train.DAYS_BIRTH.apply(lambda x: abs(x/360) ).astype(int)\n",
        "train['begin_month']= train.begin_month.apply(lambda x: abs(x) ).astype(int)\n",
        "\n",
        "test['EMPLOYED']= test.DAYS_EMPLOYED.apply(lambda x: abs(x/360) )\n",
        "test['age']= test.DAYS_BIRTH.apply(lambda x: abs(x/360) ).astype(int)\n",
        "test['begin_month']= test.begin_month.apply(lambda x: abs(x) ).astype(int)"
      ],
      "execution_count": null,
      "outputs": []
    },
    {
      "cell_type": "markdown",
      "metadata": {
        "id": "IycM8KyvcGBG"
      },
      "source": [
        "#### 3) 로그변환"
      ]
    },
    {
      "cell_type": "code",
      "metadata": {
        "id": "_CYBox1aaaN_"
      },
      "source": [
        "tr_it=train['income_total']\n",
        "tr_it_log = np.log1p(tr_it)\n",
        "train['income_total']= tr_it_log\n",
        "te_it=test['income_total']\n",
        "te_it_log = np.log1p(te_it)\n",
        "test['income_total']= te_it_log"
      ],
      "execution_count": null,
      "outputs": []
    },
    {
      "cell_type": "code",
      "metadata": {
        "id": "kFxg08XvaaLg"
      },
      "source": [
        "train['EMPLOYED']= np.log1p(train['EMPLOYED'])\n",
        "test['EMPLOYED']= np.log1p(test['EMPLOYED'])"
      ],
      "execution_count": null,
      "outputs": []
    },
    {
      "cell_type": "markdown",
      "metadata": {
        "id": "ij0p241Vfe5h"
      },
      "source": [
        "#### 4) child_num, family_size 관련 컬럼 추가"
      ]
    },
    {
      "cell_type": "code",
      "metadata": {
        "id": "Fogp3bv5ckm4"
      },
      "source": [
        "# child_num이 14, 19인 행 지우기\n",
        "\n",
        "idx_child_drop = train[(train['child_num'] == 14)|(train['child_num'] == 19)].index\n",
        "train = train.drop(idx_child_drop)"
      ],
      "execution_count": null,
      "outputs": []
    },
    {
      "cell_type": "code",
      "metadata": {
        "id": "PCNkwx6Eckk3"
      },
      "source": [
        "# child_num이 family_size보다 큰 행도 지우기\n",
        "\n",
        "idx_child_drop2 = train[train['family_size'] < train['child_num']].index\n",
        "train = train.drop(idx_child_drop2)"
      ],
      "execution_count": null,
      "outputs": []
    },
    {
      "cell_type": "code",
      "metadata": {
        "id": "71eukZr7ckgI"
      },
      "source": [
        "train['cf_ratio'] = train['child_num'] / train['family_size']\n",
        "test['cf_ratio'] = test['child_num'] / test['family_size']\n",
        "\n",
        "# train['if_ratio'] = train['income_total'] / train['family_size']\n",
        "# test['if_ratio'] = test['income_total'] / test['family_size']"
      ],
      "execution_count": null,
      "outputs": []
    },
    {
      "cell_type": "markdown",
      "metadata": {
        "id": "tApqPLoNforH"
      },
      "source": [
        "#### 5) 결측치 채우기 - unemployed 만들고 나머지는 일단 Laborers으로 채우고 진행함."
      ]
    },
    {
      "cell_type": "code",
      "metadata": {
        "id": "n__9qpcEckin"
      },
      "source": [
        "def unemployed(data):\n",
        "  data.loc[(data['DAYS_EMPLOYED'] == 0), 'occyp_type'] = 'unemployed'\n",
        "\n",
        "unemployed(train)\n",
        "unemployed(test)"
      ],
      "execution_count": null,
      "outputs": []
    },
    {
      "cell_type": "code",
      "metadata": {
        "colab": {
          "base_uri": "https://localhost:8080/"
        },
        "id": "_O_Lgd7TgN2Q",
        "outputId": "a4dc9ffb-4c33-4455-f9d0-2a06d7404e52"
      },
      "source": [
        "train['occyp_type'].unique()"
      ],
      "execution_count": null,
      "outputs": [
        {
          "output_type": "execute_result",
          "data": {
            "text/plain": [
              "array([nan, 'Laborers', 'Managers', 'Sales staff',\n",
              "       'High skill tech staff', 'Core staff', 'Drivers', 'Medicine staff',\n",
              "       'Accountants', 'unemployed', 'Realty agents', 'Security staff',\n",
              "       'Cleaning staff', 'Private service staff', 'Cooking staff',\n",
              "       'Secretaries', 'HR staff', 'IT staff', 'Low-skill Laborers',\n",
              "       'Waiters/barmen staff'], dtype=object)"
            ]
          },
          "metadata": {
            "tags": []
          },
          "execution_count": 204
        }
      ]
    },
    {
      "cell_type": "code",
      "metadata": {
        "id": "cqBrvf9_c8WU"
      },
      "source": [
        "# 나머지는 일단 datawig 쓰면 시간이 너무 오래걸려서 Laborers로 채우겠다\n",
        "train = train.fillna('Laborers')"
      ],
      "execution_count": null,
      "outputs": []
    },
    {
      "cell_type": "code",
      "metadata": {
        "colab": {
          "base_uri": "https://localhost:8080/"
        },
        "id": "pvOqdvhWc8UC",
        "outputId": "90f46553-bdd6-49f5-f5af-12afd6c39cd2"
      },
      "source": [
        "train.info()"
      ],
      "execution_count": null,
      "outputs": [
        {
          "output_type": "stream",
          "text": [
            "<class 'pandas.core.frame.DataFrame'>\n",
            "Int64Index: 26452 entries, 0 to 26456\n",
            "Data columns (total 23 columns):\n",
            " #   Column         Non-Null Count  Dtype  \n",
            "---  ------         --------------  -----  \n",
            " 0   index          26452 non-null  int64  \n",
            " 1   gender         26452 non-null  int64  \n",
            " 2   car            26452 non-null  int64  \n",
            " 3   reality        26452 non-null  int64  \n",
            " 4   child_num      26452 non-null  int64  \n",
            " 5   income_total   26452 non-null  float64\n",
            " 6   income_type    26452 non-null  object \n",
            " 7   edu_type       26452 non-null  object \n",
            " 8   family_type    26452 non-null  object \n",
            " 9   house_type     26452 non-null  object \n",
            " 10  DAYS_BIRTH     26452 non-null  int64  \n",
            " 11  DAYS_EMPLOYED  26452 non-null  int64  \n",
            " 12  FLAG_MOBIL     26452 non-null  int64  \n",
            " 13  work_phone     26452 non-null  int64  \n",
            " 14  phone          26452 non-null  int64  \n",
            " 15  email          26452 non-null  int64  \n",
            " 16  occyp_type     26452 non-null  object \n",
            " 17  family_size    26452 non-null  float64\n",
            " 18  begin_month    26452 non-null  int64  \n",
            " 19  credit         26452 non-null  float64\n",
            " 20  EMPLOYED       26452 non-null  float64\n",
            " 21  age            26452 non-null  int64  \n",
            " 22  cf_ratio       26452 non-null  float64\n",
            "dtypes: float64(5), int64(13), object(5)\n",
            "memory usage: 4.8+ MB\n"
          ],
          "name": "stdout"
        }
      ]
    },
    {
      "cell_type": "code",
      "metadata": {
        "id": "Jx_CGoWFg8Hb"
      },
      "source": [
        "# test도\n",
        "test = test.fillna('Laborers')"
      ],
      "execution_count": null,
      "outputs": []
    },
    {
      "cell_type": "code",
      "metadata": {
        "colab": {
          "base_uri": "https://localhost:8080/"
        },
        "id": "HfvF5bKrj1Bn",
        "outputId": "97e31a7e-2505-43cd-caa1-4167d98e9961"
      },
      "source": [
        "train.head()"
      ],
      "execution_count": null,
      "outputs": [
        {
          "output_type": "execute_result",
          "data": {
            "text/html": [
              "<div>\n",
              "<style scoped>\n",
              "    .dataframe tbody tr th:only-of-type {\n",
              "        vertical-align: middle;\n",
              "    }\n",
              "\n",
              "    .dataframe tbody tr th {\n",
              "        vertical-align: top;\n",
              "    }\n",
              "\n",
              "    .dataframe thead th {\n",
              "        text-align: right;\n",
              "    }\n",
              "</style>\n",
              "<table border=\"1\" class=\"dataframe\">\n",
              "  <thead>\n",
              "    <tr style=\"text-align: right;\">\n",
              "      <th></th>\n",
              "      <th>index</th>\n",
              "      <th>gender</th>\n",
              "      <th>car</th>\n",
              "      <th>reality</th>\n",
              "      <th>child_num</th>\n",
              "      <th>income_total</th>\n",
              "      <th>income_type</th>\n",
              "      <th>edu_type</th>\n",
              "      <th>family_type</th>\n",
              "      <th>house_type</th>\n",
              "      <th>DAYS_BIRTH</th>\n",
              "      <th>DAYS_EMPLOYED</th>\n",
              "      <th>FLAG_MOBIL</th>\n",
              "      <th>work_phone</th>\n",
              "      <th>phone</th>\n",
              "      <th>email</th>\n",
              "      <th>occyp_type</th>\n",
              "      <th>family_size</th>\n",
              "      <th>begin_month</th>\n",
              "      <th>credit</th>\n",
              "      <th>EMPLOYED</th>\n",
              "      <th>age</th>\n",
              "      <th>cf_ratio</th>\n",
              "    </tr>\n",
              "  </thead>\n",
              "  <tbody>\n",
              "    <tr>\n",
              "      <th>0</th>\n",
              "      <td>0</td>\n",
              "      <td>0</td>\n",
              "      <td>0</td>\n",
              "      <td>0</td>\n",
              "      <td>0</td>\n",
              "      <td>12.218500</td>\n",
              "      <td>Commercial associate</td>\n",
              "      <td>Higher education</td>\n",
              "      <td>Married</td>\n",
              "      <td>Municipal apartment</td>\n",
              "      <td>13899</td>\n",
              "      <td>4709</td>\n",
              "      <td>1</td>\n",
              "      <td>0</td>\n",
              "      <td>0</td>\n",
              "      <td>0</td>\n",
              "      <td>Laborers</td>\n",
              "      <td>2.0</td>\n",
              "      <td>6</td>\n",
              "      <td>1.0</td>\n",
              "      <td>2.644795</td>\n",
              "      <td>38</td>\n",
              "      <td>0.000000</td>\n",
              "    </tr>\n",
              "    <tr>\n",
              "      <th>1</th>\n",
              "      <td>1</td>\n",
              "      <td>0</td>\n",
              "      <td>0</td>\n",
              "      <td>1</td>\n",
              "      <td>1</td>\n",
              "      <td>12.419170</td>\n",
              "      <td>Commercial associate</td>\n",
              "      <td>Secondary / secondary special</td>\n",
              "      <td>Civil marriage</td>\n",
              "      <td>House / apartment</td>\n",
              "      <td>11380</td>\n",
              "      <td>1540</td>\n",
              "      <td>1</td>\n",
              "      <td>0</td>\n",
              "      <td>0</td>\n",
              "      <td>1</td>\n",
              "      <td>Laborers</td>\n",
              "      <td>3.0</td>\n",
              "      <td>5</td>\n",
              "      <td>1.0</td>\n",
              "      <td>1.663505</td>\n",
              "      <td>31</td>\n",
              "      <td>0.333333</td>\n",
              "    </tr>\n",
              "    <tr>\n",
              "      <th>2</th>\n",
              "      <td>2</td>\n",
              "      <td>1</td>\n",
              "      <td>1</td>\n",
              "      <td>1</td>\n",
              "      <td>0</td>\n",
              "      <td>13.017005</td>\n",
              "      <td>Working</td>\n",
              "      <td>Higher education</td>\n",
              "      <td>Married</td>\n",
              "      <td>House / apartment</td>\n",
              "      <td>19087</td>\n",
              "      <td>4434</td>\n",
              "      <td>1</td>\n",
              "      <td>0</td>\n",
              "      <td>1</td>\n",
              "      <td>0</td>\n",
              "      <td>Managers</td>\n",
              "      <td>2.0</td>\n",
              "      <td>22</td>\n",
              "      <td>2.0</td>\n",
              "      <td>2.589016</td>\n",
              "      <td>53</td>\n",
              "      <td>0.000000</td>\n",
              "    </tr>\n",
              "    <tr>\n",
              "      <th>3</th>\n",
              "      <td>3</td>\n",
              "      <td>0</td>\n",
              "      <td>0</td>\n",
              "      <td>1</td>\n",
              "      <td>0</td>\n",
              "      <td>12.218500</td>\n",
              "      <td>Commercial associate</td>\n",
              "      <td>Secondary / secondary special</td>\n",
              "      <td>Married</td>\n",
              "      <td>House / apartment</td>\n",
              "      <td>15088</td>\n",
              "      <td>2092</td>\n",
              "      <td>1</td>\n",
              "      <td>0</td>\n",
              "      <td>1</td>\n",
              "      <td>0</td>\n",
              "      <td>Sales staff</td>\n",
              "      <td>2.0</td>\n",
              "      <td>37</td>\n",
              "      <td>0.0</td>\n",
              "      <td>1.918555</td>\n",
              "      <td>41</td>\n",
              "      <td>0.000000</td>\n",
              "    </tr>\n",
              "    <tr>\n",
              "      <th>4</th>\n",
              "      <td>4</td>\n",
              "      <td>0</td>\n",
              "      <td>1</td>\n",
              "      <td>1</td>\n",
              "      <td>0</td>\n",
              "      <td>11.967187</td>\n",
              "      <td>State servant</td>\n",
              "      <td>Higher education</td>\n",
              "      <td>Married</td>\n",
              "      <td>House / apartment</td>\n",
              "      <td>15037</td>\n",
              "      <td>2105</td>\n",
              "      <td>1</td>\n",
              "      <td>0</td>\n",
              "      <td>0</td>\n",
              "      <td>0</td>\n",
              "      <td>Managers</td>\n",
              "      <td>2.0</td>\n",
              "      <td>26</td>\n",
              "      <td>2.0</td>\n",
              "      <td>1.923843</td>\n",
              "      <td>41</td>\n",
              "      <td>0.000000</td>\n",
              "    </tr>\n",
              "  </tbody>\n",
              "</table>\n",
              "</div>"
            ],
            "text/plain": [
              "   index  gender  car  reality  ...  credit  EMPLOYED age  cf_ratio\n",
              "0      0       0    0        0  ...     1.0  2.644795  38  0.000000\n",
              "1      1       0    0        1  ...     1.0  1.663505  31  0.333333\n",
              "2      2       1    1        1  ...     2.0  2.589016  53  0.000000\n",
              "3      3       0    0        1  ...     0.0  1.918555  41  0.000000\n",
              "4      4       0    1        1  ...     2.0  1.923843  41  0.000000\n",
              "\n",
              "[5 rows x 23 columns]"
            ]
          },
          "metadata": {
            "tags": []
          },
          "execution_count": 208
        }
      ]
    },
    {
      "cell_type": "markdown",
      "metadata": {
        "id": "1CqdjVXezuFi"
      },
      "source": [
        ""
      ]
    },
    {
      "cell_type": "markdown",
      "metadata": {
        "id": "K9XWRqkfqarN"
      },
      "source": [
        "## child_num, family_size PCA 해보기"
      ]
    },
    {
      "cell_type": "markdown",
      "metadata": {
        "id": "qxpCb_X1RF0b"
      },
      "source": [
        "위에서 child_num, family_size의 비율을 고려해서 새로운 변수 만들었었는데(cf_ratio) 이거랑 pca 쓴 변수랑 뭐가 더 성능 좋을지 확인해보려 한다."
      ]
    },
    {
      "cell_type": "code",
      "metadata": {
        "id": "IQe5KSeWg8B8"
      },
      "source": [
        "train_pca = train[['child_num', 'family_size']]\n",
        "train_pca_target = train['credit']"
      ],
      "execution_count": null,
      "outputs": []
    },
    {
      "cell_type": "code",
      "metadata": {
        "id": "lgKFony9g7_c"
      },
      "source": [
        "train_pca = StandardScaler().fit_transform(train_pca)"
      ],
      "execution_count": null,
      "outputs": []
    },
    {
      "cell_type": "code",
      "metadata": {
        "id": "hhgwsMGIg79S"
      },
      "source": [
        "from sklearn.decomposition import PCA\n",
        "pca = PCA(n_components=1) # 어차피 변수 2개라서 하나로만 진행\n",
        "printcipalComponents = pca.fit_transform(train_pca)\n",
        "principalDf = pd.DataFrame(data=printcipalComponents, columns = ['principal component'])"
      ],
      "execution_count": null,
      "outputs": []
    },
    {
      "cell_type": "code",
      "metadata": {
        "colab": {
          "base_uri": "https://localhost:8080/"
        },
        "id": "tsAvjOWeg76e",
        "outputId": "f09ff68a-07c8-4b50-bdad-8e6f8cc366f6"
      },
      "source": [
        "principalDf.head()"
      ],
      "execution_count": null,
      "outputs": [
        {
          "output_type": "execute_result",
          "data": {
            "text/html": [
              "<div>\n",
              "<style scoped>\n",
              "    .dataframe tbody tr th:only-of-type {\n",
              "        vertical-align: middle;\n",
              "    }\n",
              "\n",
              "    .dataframe tbody tr th {\n",
              "        vertical-align: top;\n",
              "    }\n",
              "\n",
              "    .dataframe thead th {\n",
              "        text-align: right;\n",
              "    }\n",
              "</style>\n",
              "<table border=\"1\" class=\"dataframe\">\n",
              "  <thead>\n",
              "    <tr style=\"text-align: right;\">\n",
              "      <th></th>\n",
              "      <th>principal component</th>\n",
              "    </tr>\n",
              "  </thead>\n",
              "  <tbody>\n",
              "    <tr>\n",
              "      <th>0</th>\n",
              "      <td>-0.569295</td>\n",
              "    </tr>\n",
              "    <tr>\n",
              "      <th>1</th>\n",
              "      <td>1.192758</td>\n",
              "    </tr>\n",
              "    <tr>\n",
              "      <th>2</th>\n",
              "      <td>-0.569295</td>\n",
              "    </tr>\n",
              "    <tr>\n",
              "      <th>3</th>\n",
              "      <td>-0.569295</td>\n",
              "    </tr>\n",
              "    <tr>\n",
              "      <th>4</th>\n",
              "      <td>-0.569295</td>\n",
              "    </tr>\n",
              "  </tbody>\n",
              "</table>\n",
              "</div>"
            ],
            "text/plain": [
              "   principal component\n",
              "0            -0.569295\n",
              "1             1.192758\n",
              "2            -0.569295\n",
              "3            -0.569295\n",
              "4            -0.569295"
            ]
          },
          "metadata": {
            "tags": []
          },
          "execution_count": 212
        }
      ]
    },
    {
      "cell_type": "code",
      "metadata": {
        "colab": {
          "base_uri": "https://localhost:8080/"
        },
        "id": "v4hDFBvNS6qs",
        "outputId": "fdaff7e7-846f-45e4-eeb2-34611e139c1e"
      },
      "source": [
        "principalDf.shape # 여기는 26452개 맞는데,,,"
      ],
      "execution_count": null,
      "outputs": [
        {
          "output_type": "execute_result",
          "data": {
            "text/plain": [
              "(26452, 1)"
            ]
          },
          "metadata": {
            "tags": []
          },
          "execution_count": 213
        }
      ]
    },
    {
      "cell_type": "code",
      "metadata": {
        "colab": {
          "base_uri": "https://localhost:8080/"
        },
        "id": "Rf8Vkv-fg73s",
        "outputId": "c32f79e5-8f9c-453a-e449-57f03de19f61"
      },
      "source": [
        "pca.explained_variance_ratio_ # 전체 분산의 약 94% 설명"
      ],
      "execution_count": null,
      "outputs": [
        {
          "output_type": "execute_result",
          "data": {
            "text/plain": [
              "array([0.94343342])"
            ]
          },
          "metadata": {
            "tags": []
          },
          "execution_count": 214
        }
      ]
    },
    {
      "cell_type": "code",
      "metadata": {
        "id": "MPjc5-3pm6d_"
      },
      "source": [
        "train['cf_pca'] = principalDf # 기존 데이터 셋에 넣어주기"
      ],
      "execution_count": null,
      "outputs": []
    },
    {
      "cell_type": "code",
      "metadata": {
        "colab": {
          "base_uri": "https://localhost:8080/"
        },
        "id": "wzZsry9Huk0J",
        "outputId": "8d73a145-3590-44e9-feca-17aa21a3a9cb"
      },
      "source": [
        "train.info() # 근데 넣으면 26447개 된다...???"
      ],
      "execution_count": null,
      "outputs": [
        {
          "output_type": "stream",
          "text": [
            "<class 'pandas.core.frame.DataFrame'>\n",
            "Int64Index: 26452 entries, 0 to 26456\n",
            "Data columns (total 24 columns):\n",
            " #   Column         Non-Null Count  Dtype  \n",
            "---  ------         --------------  -----  \n",
            " 0   index          26452 non-null  int64  \n",
            " 1   gender         26452 non-null  int64  \n",
            " 2   car            26452 non-null  int64  \n",
            " 3   reality        26452 non-null  int64  \n",
            " 4   child_num      26452 non-null  int64  \n",
            " 5   income_total   26452 non-null  float64\n",
            " 6   income_type    26452 non-null  object \n",
            " 7   edu_type       26452 non-null  object \n",
            " 8   family_type    26452 non-null  object \n",
            " 9   house_type     26452 non-null  object \n",
            " 10  DAYS_BIRTH     26452 non-null  int64  \n",
            " 11  DAYS_EMPLOYED  26452 non-null  int64  \n",
            " 12  FLAG_MOBIL     26452 non-null  int64  \n",
            " 13  work_phone     26452 non-null  int64  \n",
            " 14  phone          26452 non-null  int64  \n",
            " 15  email          26452 non-null  int64  \n",
            " 16  occyp_type     26452 non-null  object \n",
            " 17  family_size    26452 non-null  float64\n",
            " 18  begin_month    26452 non-null  int64  \n",
            " 19  credit         26452 non-null  float64\n",
            " 20  EMPLOYED       26452 non-null  float64\n",
            " 21  age            26452 non-null  int64  \n",
            " 22  cf_ratio       26452 non-null  float64\n",
            " 23  cf_pca         26447 non-null  float64\n",
            "dtypes: float64(6), int64(13), object(5)\n",
            "memory usage: 5.0+ MB\n"
          ],
          "name": "stdout"
        }
      ]
    },
    {
      "cell_type": "code",
      "metadata": {
        "id": "b_AhDjgZ6-Gn"
      },
      "source": [
        "train_or = train.copy()"
      ],
      "execution_count": null,
      "outputs": []
    },
    {
      "cell_type": "markdown",
      "metadata": {
        "id": "eWjwg14szzF0"
      },
      "source": [
        "## 일단 라벨링.."
      ]
    },
    {
      "cell_type": "markdown",
      "metadata": {
        "id": "gHB5qMchm6zA"
      },
      "source": [
        "원래는 임베딩이랑 원핫인코딩 얘기했었는데 뭔가 잘 안돼서 일단 라벨링으로 하고 성능 확인해보겠다"
      ]
    },
    {
      "cell_type": "code",
      "metadata": {
        "id": "PdKlLGkBm0HY"
      },
      "source": [
        "label_encoder = preprocessing.LabelEncoder()"
      ],
      "execution_count": null,
      "outputs": []
    },
    {
      "cell_type": "code",
      "metadata": {
        "id": "YD4-JU9cmwgM"
      },
      "source": [
        "train['income_type'] = label_encoder.fit_transform(train['income_type'])\n",
        "test['income_type'] = label_encoder.transform(test['income_type'])\n",
        "\n",
        "train['edu_type'] = label_encoder.fit_transform(train['edu_type'])\n",
        "test['edu_type'] = label_encoder.transform(test['edu_type'])\n",
        "\n",
        "train['family_type'] = label_encoder.fit_transform(train['family_type'])\n",
        "test['family_type'] = label_encoder.transform(test['family_type'])\n",
        "\n",
        "train['house_type'] = label_encoder.fit_transform(train['house_type'])\n",
        "test['house_type'] = label_encoder.transform(test['house_type'])\n",
        "\n",
        "train['occyp_type'] = label_encoder.fit_transform(train['occyp_type'])\n",
        "test['occyp_type'] = label_encoder.transform(test['occyp_type'])"
      ],
      "execution_count": null,
      "outputs": []
    },
    {
      "cell_type": "code",
      "metadata": {
        "colab": {
          "base_uri": "https://localhost:8080/",
          "height": 224
        },
        "id": "3YsPFkgKm2Ew",
        "outputId": "0f1ca4f1-dce5-4bc2-d230-fd4110a863a2"
      },
      "source": [
        "train.head()"
      ],
      "execution_count": null,
      "outputs": [
        {
          "output_type": "execute_result",
          "data": {
            "text/html": [
              "<div>\n",
              "<style scoped>\n",
              "    .dataframe tbody tr th:only-of-type {\n",
              "        vertical-align: middle;\n",
              "    }\n",
              "\n",
              "    .dataframe tbody tr th {\n",
              "        vertical-align: top;\n",
              "    }\n",
              "\n",
              "    .dataframe thead th {\n",
              "        text-align: right;\n",
              "    }\n",
              "</style>\n",
              "<table border=\"1\" class=\"dataframe\">\n",
              "  <thead>\n",
              "    <tr style=\"text-align: right;\">\n",
              "      <th></th>\n",
              "      <th>index</th>\n",
              "      <th>gender</th>\n",
              "      <th>car</th>\n",
              "      <th>reality</th>\n",
              "      <th>child_num</th>\n",
              "      <th>income_total</th>\n",
              "      <th>income_type</th>\n",
              "      <th>edu_type</th>\n",
              "      <th>family_type</th>\n",
              "      <th>house_type</th>\n",
              "      <th>DAYS_BIRTH</th>\n",
              "      <th>DAYS_EMPLOYED</th>\n",
              "      <th>FLAG_MOBIL</th>\n",
              "      <th>work_phone</th>\n",
              "      <th>phone</th>\n",
              "      <th>email</th>\n",
              "      <th>occyp_type</th>\n",
              "      <th>family_size</th>\n",
              "      <th>begin_month</th>\n",
              "      <th>credit</th>\n",
              "      <th>EMPLOYED</th>\n",
              "      <th>age</th>\n",
              "      <th>cf_ratio</th>\n",
              "      <th>cf_pca</th>\n",
              "    </tr>\n",
              "  </thead>\n",
              "  <tbody>\n",
              "    <tr>\n",
              "      <th>0</th>\n",
              "      <td>0</td>\n",
              "      <td>0</td>\n",
              "      <td>0</td>\n",
              "      <td>0</td>\n",
              "      <td>0</td>\n",
              "      <td>12.218500</td>\n",
              "      <td>0</td>\n",
              "      <td>1</td>\n",
              "      <td>1</td>\n",
              "      <td>2</td>\n",
              "      <td>13899</td>\n",
              "      <td>4709</td>\n",
              "      <td>1</td>\n",
              "      <td>0</td>\n",
              "      <td>0</td>\n",
              "      <td>0</td>\n",
              "      <td>8</td>\n",
              "      <td>2.0</td>\n",
              "      <td>6</td>\n",
              "      <td>1.0</td>\n",
              "      <td>2.644795</td>\n",
              "      <td>38</td>\n",
              "      <td>0.000000</td>\n",
              "      <td>-0.569295</td>\n",
              "    </tr>\n",
              "    <tr>\n",
              "      <th>1</th>\n",
              "      <td>1</td>\n",
              "      <td>0</td>\n",
              "      <td>0</td>\n",
              "      <td>1</td>\n",
              "      <td>1</td>\n",
              "      <td>12.419170</td>\n",
              "      <td>0</td>\n",
              "      <td>4</td>\n",
              "      <td>0</td>\n",
              "      <td>1</td>\n",
              "      <td>11380</td>\n",
              "      <td>1540</td>\n",
              "      <td>1</td>\n",
              "      <td>0</td>\n",
              "      <td>0</td>\n",
              "      <td>1</td>\n",
              "      <td>8</td>\n",
              "      <td>3.0</td>\n",
              "      <td>5</td>\n",
              "      <td>1.0</td>\n",
              "      <td>1.663505</td>\n",
              "      <td>31</td>\n",
              "      <td>0.333333</td>\n",
              "      <td>1.192758</td>\n",
              "    </tr>\n",
              "    <tr>\n",
              "      <th>2</th>\n",
              "      <td>2</td>\n",
              "      <td>1</td>\n",
              "      <td>1</td>\n",
              "      <td>1</td>\n",
              "      <td>0</td>\n",
              "      <td>13.017005</td>\n",
              "      <td>4</td>\n",
              "      <td>1</td>\n",
              "      <td>1</td>\n",
              "      <td>1</td>\n",
              "      <td>19087</td>\n",
              "      <td>4434</td>\n",
              "      <td>1</td>\n",
              "      <td>0</td>\n",
              "      <td>1</td>\n",
              "      <td>0</td>\n",
              "      <td>10</td>\n",
              "      <td>2.0</td>\n",
              "      <td>22</td>\n",
              "      <td>2.0</td>\n",
              "      <td>2.589016</td>\n",
              "      <td>53</td>\n",
              "      <td>0.000000</td>\n",
              "      <td>-0.569295</td>\n",
              "    </tr>\n",
              "    <tr>\n",
              "      <th>3</th>\n",
              "      <td>3</td>\n",
              "      <td>0</td>\n",
              "      <td>0</td>\n",
              "      <td>1</td>\n",
              "      <td>0</td>\n",
              "      <td>12.218500</td>\n",
              "      <td>0</td>\n",
              "      <td>4</td>\n",
              "      <td>1</td>\n",
              "      <td>1</td>\n",
              "      <td>15088</td>\n",
              "      <td>2092</td>\n",
              "      <td>1</td>\n",
              "      <td>0</td>\n",
              "      <td>1</td>\n",
              "      <td>0</td>\n",
              "      <td>14</td>\n",
              "      <td>2.0</td>\n",
              "      <td>37</td>\n",
              "      <td>0.0</td>\n",
              "      <td>1.918555</td>\n",
              "      <td>41</td>\n",
              "      <td>0.000000</td>\n",
              "      <td>-0.569295</td>\n",
              "    </tr>\n",
              "    <tr>\n",
              "      <th>4</th>\n",
              "      <td>4</td>\n",
              "      <td>0</td>\n",
              "      <td>1</td>\n",
              "      <td>1</td>\n",
              "      <td>0</td>\n",
              "      <td>11.967187</td>\n",
              "      <td>2</td>\n",
              "      <td>1</td>\n",
              "      <td>1</td>\n",
              "      <td>1</td>\n",
              "      <td>15037</td>\n",
              "      <td>2105</td>\n",
              "      <td>1</td>\n",
              "      <td>0</td>\n",
              "      <td>0</td>\n",
              "      <td>0</td>\n",
              "      <td>10</td>\n",
              "      <td>2.0</td>\n",
              "      <td>26</td>\n",
              "      <td>2.0</td>\n",
              "      <td>1.923843</td>\n",
              "      <td>41</td>\n",
              "      <td>0.000000</td>\n",
              "      <td>-0.569295</td>\n",
              "    </tr>\n",
              "  </tbody>\n",
              "</table>\n",
              "</div>"
            ],
            "text/plain": [
              "   index  gender  car  reality  ...  EMPLOYED  age  cf_ratio    cf_pca\n",
              "0      0       0    0        0  ...  2.644795   38  0.000000 -0.569295\n",
              "1      1       0    0        1  ...  1.663505   31  0.333333  1.192758\n",
              "2      2       1    1        1  ...  2.589016   53  0.000000 -0.569295\n",
              "3      3       0    0        1  ...  1.918555   41  0.000000 -0.569295\n",
              "4      4       0    1        1  ...  1.923843   41  0.000000 -0.569295\n",
              "\n",
              "[5 rows x 24 columns]"
            ]
          },
          "metadata": {
            "tags": []
          },
          "execution_count": 220
        }
      ]
    },
    {
      "cell_type": "code",
      "metadata": {
        "colab": {
          "base_uri": "https://localhost:8080/"
        },
        "id": "Anmam12wnhiN",
        "outputId": "3fe616eb-1292-44e5-bf81-bae1f5b8681e"
      },
      "source": [
        "train.info()"
      ],
      "execution_count": null,
      "outputs": [
        {
          "output_type": "stream",
          "text": [
            "<class 'pandas.core.frame.DataFrame'>\n",
            "Int64Index: 26452 entries, 0 to 26456\n",
            "Data columns (total 24 columns):\n",
            " #   Column         Non-Null Count  Dtype  \n",
            "---  ------         --------------  -----  \n",
            " 0   index          26452 non-null  int64  \n",
            " 1   gender         26452 non-null  int64  \n",
            " 2   car            26452 non-null  int64  \n",
            " 3   reality        26452 non-null  int64  \n",
            " 4   child_num      26452 non-null  int64  \n",
            " 5   income_total   26452 non-null  float64\n",
            " 6   income_type    26452 non-null  int64  \n",
            " 7   edu_type       26452 non-null  int64  \n",
            " 8   family_type    26452 non-null  int64  \n",
            " 9   house_type     26452 non-null  int64  \n",
            " 10  DAYS_BIRTH     26452 non-null  int64  \n",
            " 11  DAYS_EMPLOYED  26452 non-null  int64  \n",
            " 12  FLAG_MOBIL     26452 non-null  int64  \n",
            " 13  work_phone     26452 non-null  int64  \n",
            " 14  phone          26452 non-null  int64  \n",
            " 15  email          26452 non-null  int64  \n",
            " 16  occyp_type     26452 non-null  int64  \n",
            " 17  family_size    26452 non-null  float64\n",
            " 18  begin_month    26452 non-null  int64  \n",
            " 19  credit         26452 non-null  float64\n",
            " 20  EMPLOYED       26452 non-null  float64\n",
            " 21  age            26452 non-null  int64  \n",
            " 22  cf_ratio       26452 non-null  float64\n",
            " 23  cf_pca         26447 non-null  float64\n",
            "dtypes: float64(6), int64(18)\n",
            "memory usage: 5.0 MB\n"
          ],
          "name": "stdout"
        }
      ]
    },
    {
      "cell_type": "code",
      "metadata": {
        "id": "l7ACvx0DyHs9"
      },
      "source": [
        "# PCA에 결측치가 5개 있다 왜지?\n",
        "# 왜인지 모르겠어서 일단 뒤에서 성능 확인할 때는 드랍하고 해주겠다ㅜㅜ"
      ],
      "execution_count": null,
      "outputs": []
    },
    {
      "cell_type": "code",
      "metadata": {
        "id": "edcqIOEM7JtG"
      },
      "source": [
        "train_dup = train.copy()"
      ],
      "execution_count": null,
      "outputs": []
    },
    {
      "cell_type": "code",
      "metadata": {
        "id": "pqX2zuShdGFW"
      },
      "source": [
        "train = train.drop(['index', 'FLAG_MOBIL', 'DAYS_BIRTH', 'DAYS_EMPLOYED', 'child_num', 'family_size'], axis = 1)"
      ],
      "execution_count": null,
      "outputs": []
    },
    {
      "cell_type": "code",
      "metadata": {
        "colab": {
          "base_uri": "https://localhost:8080/",
          "height": 204
        },
        "id": "EqSTQo1-u_1S",
        "outputId": "59e38bd5-8834-4fda-bc4c-a2f549b8a513"
      },
      "source": [
        "train.head()"
      ],
      "execution_count": null,
      "outputs": [
        {
          "output_type": "execute_result",
          "data": {
            "text/html": [
              "<div>\n",
              "<style scoped>\n",
              "    .dataframe tbody tr th:only-of-type {\n",
              "        vertical-align: middle;\n",
              "    }\n",
              "\n",
              "    .dataframe tbody tr th {\n",
              "        vertical-align: top;\n",
              "    }\n",
              "\n",
              "    .dataframe thead th {\n",
              "        text-align: right;\n",
              "    }\n",
              "</style>\n",
              "<table border=\"1\" class=\"dataframe\">\n",
              "  <thead>\n",
              "    <tr style=\"text-align: right;\">\n",
              "      <th></th>\n",
              "      <th>gender</th>\n",
              "      <th>car</th>\n",
              "      <th>reality</th>\n",
              "      <th>income_total</th>\n",
              "      <th>income_type</th>\n",
              "      <th>edu_type</th>\n",
              "      <th>family_type</th>\n",
              "      <th>house_type</th>\n",
              "      <th>work_phone</th>\n",
              "      <th>phone</th>\n",
              "      <th>email</th>\n",
              "      <th>occyp_type</th>\n",
              "      <th>begin_month</th>\n",
              "      <th>credit</th>\n",
              "      <th>EMPLOYED</th>\n",
              "      <th>age</th>\n",
              "      <th>cf_ratio</th>\n",
              "      <th>cf_pca</th>\n",
              "    </tr>\n",
              "  </thead>\n",
              "  <tbody>\n",
              "    <tr>\n",
              "      <th>0</th>\n",
              "      <td>0</td>\n",
              "      <td>0</td>\n",
              "      <td>0</td>\n",
              "      <td>12.218500</td>\n",
              "      <td>0</td>\n",
              "      <td>1</td>\n",
              "      <td>1</td>\n",
              "      <td>2</td>\n",
              "      <td>0</td>\n",
              "      <td>0</td>\n",
              "      <td>0</td>\n",
              "      <td>8</td>\n",
              "      <td>6</td>\n",
              "      <td>1.0</td>\n",
              "      <td>2.644795</td>\n",
              "      <td>38</td>\n",
              "      <td>0.000000</td>\n",
              "      <td>-0.569295</td>\n",
              "    </tr>\n",
              "    <tr>\n",
              "      <th>1</th>\n",
              "      <td>0</td>\n",
              "      <td>0</td>\n",
              "      <td>1</td>\n",
              "      <td>12.419170</td>\n",
              "      <td>0</td>\n",
              "      <td>4</td>\n",
              "      <td>0</td>\n",
              "      <td>1</td>\n",
              "      <td>0</td>\n",
              "      <td>0</td>\n",
              "      <td>1</td>\n",
              "      <td>8</td>\n",
              "      <td>5</td>\n",
              "      <td>1.0</td>\n",
              "      <td>1.663505</td>\n",
              "      <td>31</td>\n",
              "      <td>0.333333</td>\n",
              "      <td>1.192758</td>\n",
              "    </tr>\n",
              "    <tr>\n",
              "      <th>2</th>\n",
              "      <td>1</td>\n",
              "      <td>1</td>\n",
              "      <td>1</td>\n",
              "      <td>13.017005</td>\n",
              "      <td>4</td>\n",
              "      <td>1</td>\n",
              "      <td>1</td>\n",
              "      <td>1</td>\n",
              "      <td>0</td>\n",
              "      <td>1</td>\n",
              "      <td>0</td>\n",
              "      <td>10</td>\n",
              "      <td>22</td>\n",
              "      <td>2.0</td>\n",
              "      <td>2.589016</td>\n",
              "      <td>53</td>\n",
              "      <td>0.000000</td>\n",
              "      <td>-0.569295</td>\n",
              "    </tr>\n",
              "    <tr>\n",
              "      <th>3</th>\n",
              "      <td>0</td>\n",
              "      <td>0</td>\n",
              "      <td>1</td>\n",
              "      <td>12.218500</td>\n",
              "      <td>0</td>\n",
              "      <td>4</td>\n",
              "      <td>1</td>\n",
              "      <td>1</td>\n",
              "      <td>0</td>\n",
              "      <td>1</td>\n",
              "      <td>0</td>\n",
              "      <td>14</td>\n",
              "      <td>37</td>\n",
              "      <td>0.0</td>\n",
              "      <td>1.918555</td>\n",
              "      <td>41</td>\n",
              "      <td>0.000000</td>\n",
              "      <td>-0.569295</td>\n",
              "    </tr>\n",
              "    <tr>\n",
              "      <th>4</th>\n",
              "      <td>0</td>\n",
              "      <td>1</td>\n",
              "      <td>1</td>\n",
              "      <td>11.967187</td>\n",
              "      <td>2</td>\n",
              "      <td>1</td>\n",
              "      <td>1</td>\n",
              "      <td>1</td>\n",
              "      <td>0</td>\n",
              "      <td>0</td>\n",
              "      <td>0</td>\n",
              "      <td>10</td>\n",
              "      <td>26</td>\n",
              "      <td>2.0</td>\n",
              "      <td>1.923843</td>\n",
              "      <td>41</td>\n",
              "      <td>0.000000</td>\n",
              "      <td>-0.569295</td>\n",
              "    </tr>\n",
              "  </tbody>\n",
              "</table>\n",
              "</div>"
            ],
            "text/plain": [
              "   gender  car  reality  income_total  ...  EMPLOYED  age  cf_ratio    cf_pca\n",
              "0       0    0        0     12.218500  ...  2.644795   38  0.000000 -0.569295\n",
              "1       0    0        1     12.419170  ...  1.663505   31  0.333333  1.192758\n",
              "2       1    1        1     13.017005  ...  2.589016   53  0.000000 -0.569295\n",
              "3       0    0        1     12.218500  ...  1.918555   41  0.000000 -0.569295\n",
              "4       0    1        1     11.967187  ...  1.923843   41  0.000000 -0.569295\n",
              "\n",
              "[5 rows x 18 columns]"
            ]
          },
          "metadata": {
            "tags": []
          },
          "execution_count": 224
        }
      ]
    },
    {
      "cell_type": "code",
      "metadata": {
        "id": "pIcd-cAhvGS1"
      },
      "source": [
        "train1 = train.drop('cf_pca', axis = 1) # ratio 성능 확인용\n",
        "train2 = train.drop('cf_ratio', axis = 1)# pca 성능 확인용"
      ],
      "execution_count": null,
      "outputs": []
    },
    {
      "cell_type": "code",
      "metadata": {
        "id": "798zS5LUvdaF"
      },
      "source": [
        ""
      ],
      "execution_count": null,
      "outputs": []
    },
    {
      "cell_type": "markdown",
      "metadata": {
        "id": "M-NTcwkLvSEZ"
      },
      "source": [
        "## PCA 성능 확인 --> ratio보다 pca가 성능 좋음"
      ]
    },
    {
      "cell_type": "markdown",
      "metadata": {
        "id": "ZmX_HqZsxIEo"
      },
      "source": [
        "### cf_ratio로 확인"
      ]
    },
    {
      "cell_type": "code",
      "metadata": {
        "id": "qgL5MEJ7aaGp"
      },
      "source": [
        "train1_x = train1.drop(\"credit\", axis = 1)\n",
        "train1_y = train1['credit']"
      ],
      "execution_count": null,
      "outputs": []
    },
    {
      "cell_type": "code",
      "metadata": {
        "colab": {
          "base_uri": "https://localhost:8080/"
        },
        "id": "g2NzqDXYaaD3",
        "outputId": "6419b856-c1d9-44cb-c776-3bb58355bdae"
      },
      "source": [
        "clf = RandomForestClassifier()\n",
        "\n",
        "X_train1, X_val1, y_train1, y_val1 = train_test_split(train1_x, train1_y,\n",
        "                 stratify = train1_y, \n",
        "                 test_size = 0.25,\n",
        "                 random_state = 10086\n",
        "                 )\n",
        "\n",
        "clf.fit(X_train1, y_train1)"
      ],
      "execution_count": null,
      "outputs": [
        {
          "output_type": "execute_result",
          "data": {
            "text/plain": [
              "RandomForestClassifier(bootstrap=True, ccp_alpha=0.0, class_weight=None,\n",
              "                       criterion='gini', max_depth=None, max_features='auto',\n",
              "                       max_leaf_nodes=None, max_samples=None,\n",
              "                       min_impurity_decrease=0.0, min_impurity_split=None,\n",
              "                       min_samples_leaf=1, min_samples_split=2,\n",
              "                       min_weight_fraction_leaf=0.0, n_estimators=100,\n",
              "                       n_jobs=None, oob_score=False, random_state=None,\n",
              "                       verbose=0, warm_start=False)"
            ]
          },
          "metadata": {
            "tags": []
          },
          "execution_count": 88
        }
      ]
    },
    {
      "cell_type": "code",
      "metadata": {
        "id": "k3lcNx8jboNf"
      },
      "source": [
        "y_proba1 = clf.predict_proba(X_val1)\n",
        "y_val_onehot1 = pd.get_dummies(y_val1)"
      ],
      "execution_count": null,
      "outputs": []
    },
    {
      "cell_type": "code",
      "metadata": {
        "colab": {
          "base_uri": "https://localhost:8080/"
        },
        "id": "hNJNJzJ-buXq",
        "outputId": "9a046a75-a927-46a9-8e57-59cdf36c2175"
      },
      "source": [
        "y_proba1"
      ],
      "execution_count": null,
      "outputs": [
        {
          "output_type": "execute_result",
          "data": {
            "text/plain": [
              "array([[0.19, 0.43, 0.38],\n",
              "       [0.31, 0.06, 0.63],\n",
              "       [0.54, 0.11, 0.35],\n",
              "       ...,\n",
              "       [0.01, 0.03, 0.96],\n",
              "       [0.16, 0.06, 0.78],\n",
              "       [0.09, 0.19, 0.72]])"
            ]
          },
          "metadata": {
            "tags": []
          },
          "execution_count": 90
        }
      ]
    },
    {
      "cell_type": "code",
      "metadata": {
        "colab": {
          "base_uri": "https://localhost:8080/",
          "height": 419
        },
        "id": "WrwuSP20bvOm",
        "outputId": "d9de06b2-b140-471c-d5d4-b8e9dcaae4ae"
      },
      "source": [
        "y_val_onehot1"
      ],
      "execution_count": null,
      "outputs": [
        {
          "output_type": "execute_result",
          "data": {
            "text/html": [
              "<div>\n",
              "<style scoped>\n",
              "    .dataframe tbody tr th:only-of-type {\n",
              "        vertical-align: middle;\n",
              "    }\n",
              "\n",
              "    .dataframe tbody tr th {\n",
              "        vertical-align: top;\n",
              "    }\n",
              "\n",
              "    .dataframe thead th {\n",
              "        text-align: right;\n",
              "    }\n",
              "</style>\n",
              "<table border=\"1\" class=\"dataframe\">\n",
              "  <thead>\n",
              "    <tr style=\"text-align: right;\">\n",
              "      <th></th>\n",
              "      <th>0.0</th>\n",
              "      <th>1.0</th>\n",
              "      <th>2.0</th>\n",
              "    </tr>\n",
              "  </thead>\n",
              "  <tbody>\n",
              "    <tr>\n",
              "      <th>16210</th>\n",
              "      <td>0</td>\n",
              "      <td>1</td>\n",
              "      <td>0</td>\n",
              "    </tr>\n",
              "    <tr>\n",
              "      <th>22921</th>\n",
              "      <td>0</td>\n",
              "      <td>0</td>\n",
              "      <td>1</td>\n",
              "    </tr>\n",
              "    <tr>\n",
              "      <th>7039</th>\n",
              "      <td>0</td>\n",
              "      <td>0</td>\n",
              "      <td>1</td>\n",
              "    </tr>\n",
              "    <tr>\n",
              "      <th>7888</th>\n",
              "      <td>0</td>\n",
              "      <td>0</td>\n",
              "      <td>1</td>\n",
              "    </tr>\n",
              "    <tr>\n",
              "      <th>5909</th>\n",
              "      <td>0</td>\n",
              "      <td>0</td>\n",
              "      <td>1</td>\n",
              "    </tr>\n",
              "    <tr>\n",
              "      <th>...</th>\n",
              "      <td>...</td>\n",
              "      <td>...</td>\n",
              "      <td>...</td>\n",
              "    </tr>\n",
              "    <tr>\n",
              "      <th>3601</th>\n",
              "      <td>0</td>\n",
              "      <td>0</td>\n",
              "      <td>1</td>\n",
              "    </tr>\n",
              "    <tr>\n",
              "      <th>23310</th>\n",
              "      <td>0</td>\n",
              "      <td>0</td>\n",
              "      <td>1</td>\n",
              "    </tr>\n",
              "    <tr>\n",
              "      <th>17227</th>\n",
              "      <td>0</td>\n",
              "      <td>0</td>\n",
              "      <td>1</td>\n",
              "    </tr>\n",
              "    <tr>\n",
              "      <th>25175</th>\n",
              "      <td>0</td>\n",
              "      <td>1</td>\n",
              "      <td>0</td>\n",
              "    </tr>\n",
              "    <tr>\n",
              "      <th>6233</th>\n",
              "      <td>0</td>\n",
              "      <td>0</td>\n",
              "      <td>1</td>\n",
              "    </tr>\n",
              "  </tbody>\n",
              "</table>\n",
              "<p>6613 rows × 3 columns</p>\n",
              "</div>"
            ],
            "text/plain": [
              "       0.0  1.0  2.0\n",
              "16210    0    1    0\n",
              "22921    0    0    1\n",
              "7039     0    0    1\n",
              "7888     0    0    1\n",
              "5909     0    0    1\n",
              "...    ...  ...  ...\n",
              "3601     0    0    1\n",
              "23310    0    0    1\n",
              "17227    0    0    1\n",
              "25175    0    1    0\n",
              "6233     0    0    1\n",
              "\n",
              "[6613 rows x 3 columns]"
            ]
          },
          "metadata": {
            "tags": []
          },
          "execution_count": 91
        }
      ]
    },
    {
      "cell_type": "code",
      "metadata": {
        "colab": {
          "base_uri": "https://localhost:8080/"
        },
        "id": "GGCAJ09vwbxO",
        "outputId": "de7719f7-cbb2-44ea-8b00-a025c3b3144b"
      },
      "source": [
        "from sklearn.metrics import log_loss\n",
        "log_loss(y_val_onehot1, y_proba1)"
      ],
      "execution_count": null,
      "outputs": [
        {
          "output_type": "execute_result",
          "data": {
            "text/plain": [
              "0.9159015275014014"
            ]
          },
          "metadata": {
            "tags": []
          },
          "execution_count": 92
        }
      ]
    },
    {
      "cell_type": "markdown",
      "metadata": {
        "id": "BMRG5QQ9xVA5"
      },
      "source": [
        "### cf_pca로 확인"
      ]
    },
    {
      "cell_type": "code",
      "metadata": {
        "colab": {
          "base_uri": "https://localhost:8080/"
        },
        "id": "0ifXXldWxu8B",
        "outputId": "1bcb656e-6f5f-4edf-c1d4-ecf0c43595d5"
      },
      "source": [
        "train2.shape"
      ],
      "execution_count": null,
      "outputs": [
        {
          "output_type": "execute_result",
          "data": {
            "text/plain": [
              "(26452, 17)"
            ]
          },
          "metadata": {
            "tags": []
          },
          "execution_count": 93
        }
      ]
    },
    {
      "cell_type": "code",
      "metadata": {
        "id": "9TV3vX8zzBGV"
      },
      "source": [
        "train2 = train2.dropna(axis = 0)"
      ],
      "execution_count": null,
      "outputs": []
    },
    {
      "cell_type": "code",
      "metadata": {
        "colab": {
          "base_uri": "https://localhost:8080/"
        },
        "id": "-XHzp-8LzF--",
        "outputId": "76b96668-933e-4c7b-c3f5-77a4a233b335"
      },
      "source": [
        "train2.shape # 5개 행 제거 됨"
      ],
      "execution_count": null,
      "outputs": [
        {
          "output_type": "execute_result",
          "data": {
            "text/plain": [
              "(26447, 17)"
            ]
          },
          "metadata": {
            "tags": []
          },
          "execution_count": 95
        }
      ]
    },
    {
      "cell_type": "code",
      "metadata": {
        "id": "sFicSzp7xOMO"
      },
      "source": [
        "train2_x = train2.drop(\"credit\", axis = 1)\n",
        "train2_y = train2['credit']\n",
        "\n",
        "X_train2, X_val2, y_train2, y_val2 = train_test_split(train2_x, train2_y,\n",
        "                 stratify = train2_y, \n",
        "                 test_size = 0.25,\n",
        "                 random_state = 10086\n",
        "                 )"
      ],
      "execution_count": null,
      "outputs": []
    },
    {
      "cell_type": "code",
      "metadata": {
        "colab": {
          "base_uri": "https://localhost:8080/"
        },
        "id": "OqQ5K25Cxm1M",
        "outputId": "203e78de-48ad-4cc6-b402-165d5d55bfc6"
      },
      "source": [
        "clf.fit(X_train2, y_train2)\n",
        "\n",
        "y_proba2 = clf.predict_proba(X_val2)\n",
        "y_val_onehot2 = pd.get_dummies(y_val2)"
      ],
      "execution_count": null,
      "outputs": [
        {
          "output_type": "execute_result",
          "data": {
            "text/plain": [
              "RandomForestClassifier(bootstrap=True, ccp_alpha=0.0, class_weight=None,\n",
              "                       criterion='gini', max_depth=None, max_features='auto',\n",
              "                       max_leaf_nodes=None, max_samples=None,\n",
              "                       min_impurity_decrease=0.0, min_impurity_split=None,\n",
              "                       min_samples_leaf=1, min_samples_split=2,\n",
              "                       min_weight_fraction_leaf=0.0, n_estimators=100,\n",
              "                       n_jobs=None, oob_score=False, random_state=None,\n",
              "                       verbose=0, warm_start=False)"
            ]
          },
          "metadata": {
            "tags": []
          },
          "execution_count": 97
        }
      ]
    },
    {
      "cell_type": "code",
      "metadata": {
        "colab": {
          "base_uri": "https://localhost:8080/"
        },
        "id": "pEcCetUjxOEt",
        "outputId": "18eb0a08-1f55-4664-f5f5-ba9a7e94a117"
      },
      "source": [
        "log_loss(y_val_onehot2, y_proba2) # 성능 좋아졌다."
      ],
      "execution_count": null,
      "outputs": [
        {
          "output_type": "execute_result",
          "data": {
            "text/plain": [
              "0.8031040350148698"
            ]
          },
          "metadata": {
            "tags": []
          },
          "execution_count": 98
        }
      ]
    },
    {
      "cell_type": "markdown",
      "metadata": {
        "id": "nkIBX71q0IOR"
      },
      "source": [
        "저번에 고려했던 income_total/family_size 변수를 넣고 돌릴 때 보다 빼고 할 때 성능이 더 좋게 나온다... 어떤 팀은 넣고 했던데 조합을 다른거랑 해보거나 해야할..듯?"
      ]
    },
    {
      "cell_type": "markdown",
      "metadata": {
        "id": "6ZWjQggZzRGk"
      },
      "source": [
        "### child_num과 family_size는 pca로 바꿔서 사용하는게 성능에 더 좋을 것 같다. \n",
        "\n",
        "다만 위에서 5개 nan 값이 생겨서 일단 지우고 했는데, 이거는.... 왜인지 모르겠다."
      ]
    },
    {
      "cell_type": "markdown",
      "metadata": {
        "id": "ygBOo-5A0W7i"
      },
      "source": [
        "## 직업 변수 묶어보기--> 변화 X"
      ]
    },
    {
      "cell_type": "code",
      "metadata": {
        "id": "1jGWrFRo8Onn"
      },
      "source": [
        "train_or['income_type'] = label_encoder.fit_transform(train_or['income_type'])\n",
        "\n",
        "train_or['edu_type'] = label_encoder.fit_transform(train_or['edu_type'])\n",
        "\n",
        "train_or['family_type'] = label_encoder.fit_transform(train_or['family_type'])\n",
        "\n",
        "train_or['house_type'] = label_encoder.fit_transform(train_or['house_type'])"
      ],
      "execution_count": null,
      "outputs": []
    },
    {
      "cell_type": "code",
      "metadata": {
        "id": "xORTibYS0a0u"
      },
      "source": [
        "def occpy(data):\n",
        "    data.loc[(data['occyp_type'] == 'IT staff')|(data['occyp_type'] == 'Low-skill Laborers')|(data['occyp_type'] == 'Private service staff'), 'occyp_type_c'] = 0\n",
        "    data.loc[(data['occyp_type'] == 'High skill tech staff')|(data['occyp_type'] == 'Secretaries')|(data['occyp_type'] == 'Waiters/barmen staff'), 'occyp_type_c'] = 1\n",
        "    data.loc[(data['occyp_type'] == 'HR staff')|(data['occyp_type'] == 'Medicine staff')|(data['occyp_type'] == 'Realty agents')|(data['occyp_type'] == 'Security staff')|(data['occyp_type'] == 'Cleaning staff'), 'occyp_type_c'] = 2\n",
        "    data.loc[data['occyp_type'] == 'Core staff', 'occyp_type_c'] = 3\n",
        "    data.loc[data['occyp_type'] == 'Drivers', 'occyp_type_c'] = 4\n",
        "    data.loc[data['occyp_type'] == 'Laborers', 'occyp_type_c'] = 5\n",
        "    data.loc[data['occyp_type'] == 'Managers', 'occyp_type_c'] = 6\n",
        "    data.loc[data['occyp_type'] == 'Sales staff', 'occyp_type_c'] = 7\n",
        "    data.loc[(data['occyp_type'] == 'Accountants')|(data['occyp_type'] == 'Cooking staff'), 'occyp_type_c'] = 8\n",
        "    data.loc[data['occyp_type'] == 'unemployed', 'occyp_type_c'] = 9\n",
        "\n",
        "\n",
        "occpy(train_or)\n"
      ],
      "execution_count": null,
      "outputs": []
    },
    {
      "cell_type": "code",
      "metadata": {
        "colab": {
          "base_uri": "https://localhost:8080/",
          "height": 224
        },
        "id": "vyzDLluj-DTD",
        "outputId": "507ee735-e54d-4c5d-e759-3a964986a130"
      },
      "source": [
        "train_or.head()"
      ],
      "execution_count": null,
      "outputs": [
        {
          "output_type": "execute_result",
          "data": {
            "text/html": [
              "<div>\n",
              "<style scoped>\n",
              "    .dataframe tbody tr th:only-of-type {\n",
              "        vertical-align: middle;\n",
              "    }\n",
              "\n",
              "    .dataframe tbody tr th {\n",
              "        vertical-align: top;\n",
              "    }\n",
              "\n",
              "    .dataframe thead th {\n",
              "        text-align: right;\n",
              "    }\n",
              "</style>\n",
              "<table border=\"1\" class=\"dataframe\">\n",
              "  <thead>\n",
              "    <tr style=\"text-align: right;\">\n",
              "      <th></th>\n",
              "      <th>index</th>\n",
              "      <th>gender</th>\n",
              "      <th>car</th>\n",
              "      <th>reality</th>\n",
              "      <th>child_num</th>\n",
              "      <th>income_total</th>\n",
              "      <th>income_type</th>\n",
              "      <th>edu_type</th>\n",
              "      <th>family_type</th>\n",
              "      <th>house_type</th>\n",
              "      <th>DAYS_BIRTH</th>\n",
              "      <th>DAYS_EMPLOYED</th>\n",
              "      <th>FLAG_MOBIL</th>\n",
              "      <th>work_phone</th>\n",
              "      <th>phone</th>\n",
              "      <th>email</th>\n",
              "      <th>occyp_type</th>\n",
              "      <th>family_size</th>\n",
              "      <th>begin_month</th>\n",
              "      <th>credit</th>\n",
              "      <th>EMPLOYED</th>\n",
              "      <th>age</th>\n",
              "      <th>cf_ratio</th>\n",
              "      <th>cf_pca</th>\n",
              "      <th>try</th>\n",
              "      <th>occyp_type_c</th>\n",
              "    </tr>\n",
              "  </thead>\n",
              "  <tbody>\n",
              "    <tr>\n",
              "      <th>0</th>\n",
              "      <td>0</td>\n",
              "      <td>0</td>\n",
              "      <td>0</td>\n",
              "      <td>0</td>\n",
              "      <td>0</td>\n",
              "      <td>12.218500</td>\n",
              "      <td>0</td>\n",
              "      <td>1</td>\n",
              "      <td>1</td>\n",
              "      <td>2</td>\n",
              "      <td>13899</td>\n",
              "      <td>4709</td>\n",
              "      <td>1</td>\n",
              "      <td>0</td>\n",
              "      <td>0</td>\n",
              "      <td>0</td>\n",
              "      <td>Laborers</td>\n",
              "      <td>2.0</td>\n",
              "      <td>6</td>\n",
              "      <td>1.0</td>\n",
              "      <td>2.644795</td>\n",
              "      <td>38</td>\n",
              "      <td>0.000000</td>\n",
              "      <td>-0.569295</td>\n",
              "      <td>0.0</td>\n",
              "      <td>5.0</td>\n",
              "    </tr>\n",
              "    <tr>\n",
              "      <th>1</th>\n",
              "      <td>1</td>\n",
              "      <td>0</td>\n",
              "      <td>0</td>\n",
              "      <td>1</td>\n",
              "      <td>1</td>\n",
              "      <td>12.419170</td>\n",
              "      <td>0</td>\n",
              "      <td>4</td>\n",
              "      <td>0</td>\n",
              "      <td>1</td>\n",
              "      <td>11380</td>\n",
              "      <td>1540</td>\n",
              "      <td>1</td>\n",
              "      <td>0</td>\n",
              "      <td>0</td>\n",
              "      <td>1</td>\n",
              "      <td>Laborers</td>\n",
              "      <td>3.0</td>\n",
              "      <td>5</td>\n",
              "      <td>1.0</td>\n",
              "      <td>1.663505</td>\n",
              "      <td>31</td>\n",
              "      <td>0.333333</td>\n",
              "      <td>1.192758</td>\n",
              "      <td>1.0</td>\n",
              "      <td>5.0</td>\n",
              "    </tr>\n",
              "    <tr>\n",
              "      <th>2</th>\n",
              "      <td>2</td>\n",
              "      <td>1</td>\n",
              "      <td>1</td>\n",
              "      <td>1</td>\n",
              "      <td>0</td>\n",
              "      <td>13.017005</td>\n",
              "      <td>4</td>\n",
              "      <td>1</td>\n",
              "      <td>1</td>\n",
              "      <td>1</td>\n",
              "      <td>19087</td>\n",
              "      <td>4434</td>\n",
              "      <td>1</td>\n",
              "      <td>0</td>\n",
              "      <td>1</td>\n",
              "      <td>0</td>\n",
              "      <td>Managers</td>\n",
              "      <td>2.0</td>\n",
              "      <td>22</td>\n",
              "      <td>2.0</td>\n",
              "      <td>2.589016</td>\n",
              "      <td>53</td>\n",
              "      <td>0.000000</td>\n",
              "      <td>-0.569295</td>\n",
              "      <td>2.0</td>\n",
              "      <td>6.0</td>\n",
              "    </tr>\n",
              "    <tr>\n",
              "      <th>3</th>\n",
              "      <td>3</td>\n",
              "      <td>0</td>\n",
              "      <td>0</td>\n",
              "      <td>1</td>\n",
              "      <td>0</td>\n",
              "      <td>12.218500</td>\n",
              "      <td>0</td>\n",
              "      <td>4</td>\n",
              "      <td>1</td>\n",
              "      <td>1</td>\n",
              "      <td>15088</td>\n",
              "      <td>2092</td>\n",
              "      <td>1</td>\n",
              "      <td>0</td>\n",
              "      <td>1</td>\n",
              "      <td>0</td>\n",
              "      <td>Sales staff</td>\n",
              "      <td>2.0</td>\n",
              "      <td>37</td>\n",
              "      <td>0.0</td>\n",
              "      <td>1.918555</td>\n",
              "      <td>41</td>\n",
              "      <td>0.000000</td>\n",
              "      <td>-0.569295</td>\n",
              "      <td>2.0</td>\n",
              "      <td>7.0</td>\n",
              "    </tr>\n",
              "    <tr>\n",
              "      <th>4</th>\n",
              "      <td>4</td>\n",
              "      <td>0</td>\n",
              "      <td>1</td>\n",
              "      <td>1</td>\n",
              "      <td>0</td>\n",
              "      <td>11.967187</td>\n",
              "      <td>2</td>\n",
              "      <td>1</td>\n",
              "      <td>1</td>\n",
              "      <td>1</td>\n",
              "      <td>15037</td>\n",
              "      <td>2105</td>\n",
              "      <td>1</td>\n",
              "      <td>0</td>\n",
              "      <td>0</td>\n",
              "      <td>0</td>\n",
              "      <td>Managers</td>\n",
              "      <td>2.0</td>\n",
              "      <td>26</td>\n",
              "      <td>2.0</td>\n",
              "      <td>1.923843</td>\n",
              "      <td>41</td>\n",
              "      <td>0.000000</td>\n",
              "      <td>-0.569295</td>\n",
              "      <td>0.0</td>\n",
              "      <td>6.0</td>\n",
              "    </tr>\n",
              "  </tbody>\n",
              "</table>\n",
              "</div>"
            ],
            "text/plain": [
              "   index  gender  car  reality  ...  cf_ratio    cf_pca  try  occyp_type_c\n",
              "0      0       0    0        0  ...  0.000000 -0.569295  0.0           5.0\n",
              "1      1       0    0        1  ...  0.333333  1.192758  1.0           5.0\n",
              "2      2       1    1        1  ...  0.000000 -0.569295  2.0           6.0\n",
              "3      3       0    0        1  ...  0.000000 -0.569295  2.0           7.0\n",
              "4      4       0    1        1  ...  0.000000 -0.569295  0.0           6.0\n",
              "\n",
              "[5 rows x 26 columns]"
            ]
          },
          "metadata": {
            "tags": []
          },
          "execution_count": 105
        }
      ]
    },
    {
      "cell_type": "code",
      "metadata": {
        "id": "bEdr4Iha-Xyt"
      },
      "source": [
        "train_occ = train_or.drop(['index', 'FLAG_MOBIL', 'DAYS_BIRTH', 'DAYS_EMPLOYED', 'child_num', 'family_size', 'cf_ratio', 'occyp_type'], axis = 1)"
      ],
      "execution_count": null,
      "outputs": []
    },
    {
      "cell_type": "code",
      "metadata": {
        "colab": {
          "base_uri": "https://localhost:8080/"
        },
        "id": "e6tIvp7c_g-D",
        "outputId": "6f5d05e4-8951-43d6-c48e-1e6677ab1058"
      },
      "source": [
        "train_occ.info()"
      ],
      "execution_count": null,
      "outputs": [
        {
          "output_type": "stream",
          "text": [
            "<class 'pandas.core.frame.DataFrame'>\n",
            "Int64Index: 26452 entries, 0 to 26456\n",
            "Data columns (total 18 columns):\n",
            " #   Column        Non-Null Count  Dtype  \n",
            "---  ------        --------------  -----  \n",
            " 0   gender        26452 non-null  int64  \n",
            " 1   car           26452 non-null  int64  \n",
            " 2   reality       26452 non-null  int64  \n",
            " 3   income_total  26452 non-null  float64\n",
            " 4   income_type   26452 non-null  int64  \n",
            " 5   edu_type      26452 non-null  int64  \n",
            " 6   family_type   26452 non-null  int64  \n",
            " 7   house_type    26452 non-null  int64  \n",
            " 8   work_phone    26452 non-null  int64  \n",
            " 9   phone         26452 non-null  int64  \n",
            " 10  email         26452 non-null  int64  \n",
            " 11  begin_month   26452 non-null  int64  \n",
            " 12  credit        26452 non-null  float64\n",
            " 13  EMPLOYED      26452 non-null  float64\n",
            " 14  age           26452 non-null  int64  \n",
            " 15  cf_pca        26447 non-null  float64\n",
            " 16  try           26452 non-null  float64\n",
            " 17  occyp_type_c  26452 non-null  float64\n",
            "dtypes: float64(6), int64(12)\n",
            "memory usage: 3.8 MB\n"
          ],
          "name": "stdout"
        }
      ]
    },
    {
      "cell_type": "code",
      "metadata": {
        "id": "HomazJ_8_g7q"
      },
      "source": [
        "train_occ = train_occ.dropna(axis = 0)"
      ],
      "execution_count": null,
      "outputs": []
    },
    {
      "cell_type": "code",
      "metadata": {
        "colab": {
          "base_uri": "https://localhost:8080/"
        },
        "id": "ezSwMneY_g4_",
        "outputId": "0f950d64-324c-44df-8692-c27fc8644baa"
      },
      "source": [
        "train_occ_x = train_occ.drop(\"credit\", axis = 1)\n",
        "train_occ_y = train_occ['credit']\n",
        "\n",
        "X_train_occ, X_val_occ, y_train_occ, y_val_occ = train_test_split(train_occ_x, train_occ_y,\n",
        "                 stratify = train_occ_y, \n",
        "                 test_size = 0.25,\n",
        "                 random_state = 10086\n",
        "                 )\n",
        "\n",
        "clf.fit(X_train_occ, y_train_occ)\n",
        "\n",
        "y_proba_occ = clf.predict_proba(X_val_occ)\n",
        "y_val_onehot_occ = pd.get_dummies(y_val_occ)"
      ],
      "execution_count": null,
      "outputs": [
        {
          "output_type": "execute_result",
          "data": {
            "text/plain": [
              "RandomForestClassifier(bootstrap=True, ccp_alpha=0.0, class_weight=None,\n",
              "                       criterion='gini', max_depth=None, max_features='auto',\n",
              "                       max_leaf_nodes=None, max_samples=None,\n",
              "                       min_impurity_decrease=0.0, min_impurity_split=None,\n",
              "                       min_samples_leaf=1, min_samples_split=2,\n",
              "                       min_weight_fraction_leaf=0.0, n_estimators=100,\n",
              "                       n_jobs=None, oob_score=False, random_state=None,\n",
              "                       verbose=0, warm_start=False)"
            ]
          },
          "metadata": {
            "tags": []
          },
          "execution_count": 109
        }
      ]
    },
    {
      "cell_type": "code",
      "metadata": {
        "colab": {
          "base_uri": "https://localhost:8080/"
        },
        "id": "EksIarWf_g2g",
        "outputId": "8d89ed5a-c9b3-4bc0-b307-ba573e3d363f"
      },
      "source": [
        "log_loss(y_val_onehot_occ, y_proba_occ) # 성능이 안좋아졌다,,,, 그냥 범주화 하지 말고 쓰는게 나으려나?"
      ],
      "execution_count": null,
      "outputs": [
        {
          "output_type": "execute_result",
          "data": {
            "text/plain": [
              "0.839025363097569"
            ]
          },
          "metadata": {
            "tags": []
          },
          "execution_count": 110
        }
      ]
    },
    {
      "cell_type": "markdown",
      "metadata": {
        "id": "DzcyQmutCtbr"
      },
      "source": [
        "### 직업 변수를 묶어봤는데, 묶는 방법이 이상했던 건지 아니면 묶는게 안 좋은 시도인지 성능이 오히려 낮아졌다. 그냥 쓰는게 나을수도.."
      ]
    },
    {
      "cell_type": "markdown",
      "metadata": {
        "id": "4WRIZx1hA37D"
      },
      "source": [
        "## work_phone, phone, email 묶기 --> 괜찮\n"
      ]
    },
    {
      "cell_type": "markdown",
      "metadata": {
        "id": "tbuZf9UrDGG4"
      },
      "source": [
        "세 변수 다 폰 또는 이메일 소유 여부를 나타내어 그냥 묶어봤다"
      ]
    },
    {
      "cell_type": "code",
      "metadata": {
        "id": "pzTDGkbZA6zd"
      },
      "source": [
        "def try_t(data):\n",
        "  data.loc[(data['work_phone'] == 0)&(data['phone'] == 0)&(data['email'] == 0), 'try'] = 0\n",
        "  data.loc[(data['work_phone'] == 0)&(data['phone'] == 0)&(data['email'] == 1), 'try'] = 1\n",
        "  data.loc[(data['work_phone'] == 0)&(data['phone'] == 1)&(data['email'] == 0), 'try'] = 2\n",
        "  data.loc[(data['work_phone'] == 1)&(data['phone'] == 0)&(data['email'] == 0), 'try'] = 3\n",
        "  data.loc[(data['work_phone'] == 0)&(data['phone'] == 1)&(data['email'] == 1), 'try'] = 4\n",
        "  data.loc[(data['work_phone'] == 1)&(data['phone'] == 0)&(data['email'] == 1), 'try'] = 5\n",
        "  data.loc[(data['work_phone'] == 1)&(data['phone'] == 1)&(data['email'] == 0), 'try'] = 6\n",
        "  data.loc[(data['work_phone'] == 1)&(data['phone'] == 1)&(data['email'] == 1), 'try'] = 7\n",
        "\n",
        "try_t(train)"
      ],
      "execution_count": null,
      "outputs": []
    },
    {
      "cell_type": "code",
      "metadata": {
        "colab": {
          "base_uri": "https://localhost:8080/",
          "height": 204
        },
        "id": "k7XQvrdRA7AR",
        "outputId": "874389e9-84b4-4ee2-d1b5-f340e4ac8026"
      },
      "source": [
        "train.head()"
      ],
      "execution_count": null,
      "outputs": [
        {
          "output_type": "execute_result",
          "data": {
            "text/html": [
              "<div>\n",
              "<style scoped>\n",
              "    .dataframe tbody tr th:only-of-type {\n",
              "        vertical-align: middle;\n",
              "    }\n",
              "\n",
              "    .dataframe tbody tr th {\n",
              "        vertical-align: top;\n",
              "    }\n",
              "\n",
              "    .dataframe thead th {\n",
              "        text-align: right;\n",
              "    }\n",
              "</style>\n",
              "<table border=\"1\" class=\"dataframe\">\n",
              "  <thead>\n",
              "    <tr style=\"text-align: right;\">\n",
              "      <th></th>\n",
              "      <th>gender</th>\n",
              "      <th>car</th>\n",
              "      <th>reality</th>\n",
              "      <th>income_total</th>\n",
              "      <th>income_type</th>\n",
              "      <th>edu_type</th>\n",
              "      <th>family_type</th>\n",
              "      <th>house_type</th>\n",
              "      <th>work_phone</th>\n",
              "      <th>phone</th>\n",
              "      <th>email</th>\n",
              "      <th>occyp_type</th>\n",
              "      <th>begin_month</th>\n",
              "      <th>credit</th>\n",
              "      <th>EMPLOYED</th>\n",
              "      <th>age</th>\n",
              "      <th>cf_ratio</th>\n",
              "      <th>cf_pca</th>\n",
              "      <th>try</th>\n",
              "    </tr>\n",
              "  </thead>\n",
              "  <tbody>\n",
              "    <tr>\n",
              "      <th>0</th>\n",
              "      <td>0</td>\n",
              "      <td>0</td>\n",
              "      <td>0</td>\n",
              "      <td>12.218500</td>\n",
              "      <td>0</td>\n",
              "      <td>1</td>\n",
              "      <td>1</td>\n",
              "      <td>2</td>\n",
              "      <td>0</td>\n",
              "      <td>0</td>\n",
              "      <td>0</td>\n",
              "      <td>8</td>\n",
              "      <td>6</td>\n",
              "      <td>1.0</td>\n",
              "      <td>2.644795</td>\n",
              "      <td>38</td>\n",
              "      <td>0.000000</td>\n",
              "      <td>-0.569295</td>\n",
              "      <td>0.0</td>\n",
              "    </tr>\n",
              "    <tr>\n",
              "      <th>1</th>\n",
              "      <td>0</td>\n",
              "      <td>0</td>\n",
              "      <td>1</td>\n",
              "      <td>12.419170</td>\n",
              "      <td>0</td>\n",
              "      <td>4</td>\n",
              "      <td>0</td>\n",
              "      <td>1</td>\n",
              "      <td>0</td>\n",
              "      <td>0</td>\n",
              "      <td>1</td>\n",
              "      <td>8</td>\n",
              "      <td>5</td>\n",
              "      <td>1.0</td>\n",
              "      <td>1.663505</td>\n",
              "      <td>31</td>\n",
              "      <td>0.333333</td>\n",
              "      <td>1.192758</td>\n",
              "      <td>1.0</td>\n",
              "    </tr>\n",
              "    <tr>\n",
              "      <th>2</th>\n",
              "      <td>1</td>\n",
              "      <td>1</td>\n",
              "      <td>1</td>\n",
              "      <td>13.017005</td>\n",
              "      <td>4</td>\n",
              "      <td>1</td>\n",
              "      <td>1</td>\n",
              "      <td>1</td>\n",
              "      <td>0</td>\n",
              "      <td>1</td>\n",
              "      <td>0</td>\n",
              "      <td>10</td>\n",
              "      <td>22</td>\n",
              "      <td>2.0</td>\n",
              "      <td>2.589016</td>\n",
              "      <td>53</td>\n",
              "      <td>0.000000</td>\n",
              "      <td>-0.569295</td>\n",
              "      <td>2.0</td>\n",
              "    </tr>\n",
              "    <tr>\n",
              "      <th>3</th>\n",
              "      <td>0</td>\n",
              "      <td>0</td>\n",
              "      <td>1</td>\n",
              "      <td>12.218500</td>\n",
              "      <td>0</td>\n",
              "      <td>4</td>\n",
              "      <td>1</td>\n",
              "      <td>1</td>\n",
              "      <td>0</td>\n",
              "      <td>1</td>\n",
              "      <td>0</td>\n",
              "      <td>14</td>\n",
              "      <td>37</td>\n",
              "      <td>0.0</td>\n",
              "      <td>1.918555</td>\n",
              "      <td>41</td>\n",
              "      <td>0.000000</td>\n",
              "      <td>-0.569295</td>\n",
              "      <td>2.0</td>\n",
              "    </tr>\n",
              "    <tr>\n",
              "      <th>4</th>\n",
              "      <td>0</td>\n",
              "      <td>1</td>\n",
              "      <td>1</td>\n",
              "      <td>11.967187</td>\n",
              "      <td>2</td>\n",
              "      <td>1</td>\n",
              "      <td>1</td>\n",
              "      <td>1</td>\n",
              "      <td>0</td>\n",
              "      <td>0</td>\n",
              "      <td>0</td>\n",
              "      <td>10</td>\n",
              "      <td>26</td>\n",
              "      <td>2.0</td>\n",
              "      <td>1.923843</td>\n",
              "      <td>41</td>\n",
              "      <td>0.000000</td>\n",
              "      <td>-0.569295</td>\n",
              "      <td>0.0</td>\n",
              "    </tr>\n",
              "  </tbody>\n",
              "</table>\n",
              "</div>"
            ],
            "text/plain": [
              "   gender  car  reality  income_total  ...  age  cf_ratio    cf_pca  try\n",
              "0       0    0        0     12.218500  ...   38  0.000000 -0.569295  0.0\n",
              "1       0    0        1     12.419170  ...   31  0.333333  1.192758  1.0\n",
              "2       1    1        1     13.017005  ...   53  0.000000 -0.569295  2.0\n",
              "3       0    0        1     12.218500  ...   41  0.000000 -0.569295  2.0\n",
              "4       0    1        1     11.967187  ...   41  0.000000 -0.569295  0.0\n",
              "\n",
              "[5 rows x 19 columns]"
            ]
          },
          "metadata": {
            "tags": []
          },
          "execution_count": 150
        }
      ]
    },
    {
      "cell_type": "code",
      "metadata": {
        "id": "CA6xYC9zA65V"
      },
      "source": [
        "train_try = train.drop(['cf_ratio', 'work_phone', 'phone', 'email'], axis = 1)"
      ],
      "execution_count": null,
      "outputs": []
    },
    {
      "cell_type": "code",
      "metadata": {
        "colab": {
          "base_uri": "https://localhost:8080/"
        },
        "id": "VlMXqo43CMnF",
        "outputId": "8a128a1b-eba8-47f6-86c2-4fce9ec9aff5"
      },
      "source": [
        "train_try.info()"
      ],
      "execution_count": null,
      "outputs": [
        {
          "output_type": "stream",
          "text": [
            "<class 'pandas.core.frame.DataFrame'>\n",
            "Int64Index: 26452 entries, 0 to 26456\n",
            "Data columns (total 15 columns):\n",
            " #   Column        Non-Null Count  Dtype  \n",
            "---  ------        --------------  -----  \n",
            " 0   gender        26452 non-null  int64  \n",
            " 1   car           26452 non-null  int64  \n",
            " 2   reality       26452 non-null  int64  \n",
            " 3   income_total  26452 non-null  float64\n",
            " 4   income_type   26452 non-null  int64  \n",
            " 5   edu_type      26452 non-null  int64  \n",
            " 6   family_type   26452 non-null  int64  \n",
            " 7   house_type    26452 non-null  int64  \n",
            " 8   occyp_type    26452 non-null  int64  \n",
            " 9   begin_month   26452 non-null  int64  \n",
            " 10  credit        26452 non-null  float64\n",
            " 11  EMPLOYED      26452 non-null  float64\n",
            " 12  age           26452 non-null  int64  \n",
            " 13  cf_pca        26447 non-null  float64\n",
            " 14  try           26452 non-null  float64\n",
            "dtypes: float64(5), int64(10)\n",
            "memory usage: 3.2 MB\n"
          ],
          "name": "stdout"
        }
      ]
    },
    {
      "cell_type": "code",
      "metadata": {
        "id": "MmZNTGuRCMlF"
      },
      "source": [
        "train_try = train_try.dropna(axis = 0)"
      ],
      "execution_count": null,
      "outputs": []
    },
    {
      "cell_type": "code",
      "metadata": {
        "colab": {
          "base_uri": "https://localhost:8080/"
        },
        "id": "Y2vsooHfCMik",
        "outputId": "a0f7c4f5-9a07-4391-c636-1b03013d4f98"
      },
      "source": [
        "train_try_x = train_try.drop(\"credit\", axis = 1)\n",
        "train_try_y = train_try['credit']\n",
        "\n",
        "X_train_try, X_val_try, y_train_try, y_val_try = train_test_split(train_try_x, train_try_y,\n",
        "                 stratify = train_try_y, \n",
        "                 test_size = 0.25,\n",
        "                 random_state = 10086\n",
        "                 )\n",
        "\n",
        "clf.fit(X_train_try, y_train_try)\n",
        "\n",
        "y_proba_try = clf.predict_proba(X_val_try)\n",
        "y_val_onehot_try = pd.get_dummies(y_val_try)"
      ],
      "execution_count": null,
      "outputs": [
        {
          "output_type": "execute_result",
          "data": {
            "text/plain": [
              "RandomForestClassifier(bootstrap=True, ccp_alpha=0.0, class_weight=None,\n",
              "                       criterion='gini', max_depth=None, max_features='auto',\n",
              "                       max_leaf_nodes=None, max_samples=None,\n",
              "                       min_impurity_decrease=0.0, min_impurity_split=None,\n",
              "                       min_samples_leaf=1, min_samples_split=2,\n",
              "                       min_weight_fraction_leaf=0.0, n_estimators=100,\n",
              "                       n_jobs=None, oob_score=False, random_state=None,\n",
              "                       verbose=0, warm_start=False)"
            ]
          },
          "metadata": {
            "tags": []
          },
          "execution_count": 154
        }
      ]
    },
    {
      "cell_type": "code",
      "metadata": {
        "colab": {
          "base_uri": "https://localhost:8080/"
        },
        "id": "9JD21-8bA618",
        "outputId": "a8d102e5-c2fb-4fa4-ca73-ad688d2243aa"
      },
      "source": [
        "log_loss(y_val_onehot_try, y_proba_try) # 성능이 좋아졌당"
      ],
      "execution_count": null,
      "outputs": [
        {
          "output_type": "execute_result",
          "data": {
            "text/plain": [
              "0.7970578665030416"
            ]
          },
          "metadata": {
            "tags": []
          },
          "execution_count": 155
        }
      ]
    },
    {
      "cell_type": "markdown",
      "metadata": {
        "id": "bT31BglMDxJP"
      },
      "source": [
        "### 묶어서 새로운 변수로 만든게 성능이 더 좋아졌다. 이 세 변수는 묶어봐도 좋을듯..?\n",
        "\n",
        "그리고 세개로 만든 새로운 변수 추가하고 기존 변수들 누락하지 않고 진행하는게 더 성능이 좋을 수도 있을 것 같다."
      ]
    },
    {
      "cell_type": "markdown",
      "metadata": {
        "id": "VFm6N_cOxZHb"
      },
      "source": [
        "## 중복데이터 처리\n",
        "\n",
        "초반에도 중복 데이터가 있는 것 같았는데 결과를 보니 역시 이 중복 데이터를 어떻게 처리하는지가 중요하게 작용되었던 것 같다. \n",
        "\n",
        "일단 확인해보자.."
      ]
    },
    {
      "cell_type": "code",
      "metadata": {
        "id": "duR7yxOSDwt5"
      },
      "source": [
        "train_dup_check = train_original.drop(['index', 'begin_month', 'credit'], axis = 1)"
      ],
      "execution_count": null,
      "outputs": []
    },
    {
      "cell_type": "code",
      "metadata": {
        "colab": {
          "base_uri": "https://localhost:8080/"
        },
        "id": "8fsWmKwM21Fb",
        "outputId": "3209047b-596d-4486-c714-23db79631599"
      },
      "source": [
        "train_dup_check.duplicated().sum() "
      ],
      "execution_count": null,
      "outputs": [
        {
          "output_type": "execute_result",
          "data": {
            "text/plain": [
              "17698"
            ]
          },
          "metadata": {
            "tags": []
          },
          "execution_count": 227
        }
      ]
    },
    {
      "cell_type": "markdown",
      "metadata": {
        "id": "wrKBf3F53pKV"
      },
      "source": [
        "고유값인 인덱스와 같은 사람이 여러 장 발급받을 수 있음을 고려해 제외한 begin_month, 타겟 credit을 제외한 변수들의 중복 행이 총 17698개로 절반 이상이였다.\n",
        "\n",
        "같은 사람을 하나로 묶기 위해서 변수를 만들어보자.."
      ]
    },
    {
      "cell_type": "code",
      "metadata": {
        "colab": {
          "base_uri": "https://localhost:8080/",
          "height": 592
        },
        "id": "52_cH-vB20_J",
        "outputId": "1702ffdf-e3ee-4af3-a7eb-bb98a67282d4"
      },
      "source": [
        "def duplicated(df):\n",
        "    df['ID'] = \\\n",
        "    df['child_num'].astype(str) + '_' + df['income_total'].astype(str) + '_' +\\\n",
        "    df['DAYS_BIRTH'].astype(str) + '_' + df['DAYS_EMPLOYED'].astype(str) + '_' +\\\n",
        "    df['work_phone'].astype(str) + '_' + df['phone'].astype(str) + '_' +\\\n",
        "    df['email'].astype(str) + '_' + df['family_size'].astype(str) + '_' +\\\n",
        "    df['gender'].astype(str) + '_' + df['car'].astype(str) + '_' +\\\n",
        "    df['reality'].astype(str) + '_' + df['income_type'].astype(str) + '_' +\\\n",
        "    df['edu_type'].astype(str) + '_' + df['family_type'].astype(str) + '_' +\\\n",
        "    df['house_type'].astype(str) + '_' + df['occyp_type'].astype(str)\n",
        "\n",
        "# 아까 중간 저장해뒀던 train_dup 쓰자\n",
        "duplicated(train_dup)"
      ],
      "execution_count": null,
      "outputs": [
        {
          "output_type": "error",
          "ename": "KeyError",
          "evalue": "ignored",
          "traceback": [
            "\u001b[0;31m---------------------------------------------------------------------------\u001b[0m",
            "\u001b[0;31mKeyError\u001b[0m                                  Traceback (most recent call last)",
            "\u001b[0;32m/usr/local/lib/python3.7/dist-packages/pandas/core/indexes/base.py\u001b[0m in \u001b[0;36mget_loc\u001b[0;34m(self, key, method, tolerance)\u001b[0m\n\u001b[1;32m   2897\u001b[0m             \u001b[0;32mtry\u001b[0m\u001b[0;34m:\u001b[0m\u001b[0;34m\u001b[0m\u001b[0;34m\u001b[0m\u001b[0m\n\u001b[0;32m-> 2898\u001b[0;31m                 \u001b[0;32mreturn\u001b[0m \u001b[0mself\u001b[0m\u001b[0;34m.\u001b[0m\u001b[0m_engine\u001b[0m\u001b[0;34m.\u001b[0m\u001b[0mget_loc\u001b[0m\u001b[0;34m(\u001b[0m\u001b[0mcasted_key\u001b[0m\u001b[0;34m)\u001b[0m\u001b[0;34m\u001b[0m\u001b[0;34m\u001b[0m\u001b[0m\n\u001b[0m\u001b[1;32m   2899\u001b[0m             \u001b[0;32mexcept\u001b[0m \u001b[0mKeyError\u001b[0m \u001b[0;32mas\u001b[0m \u001b[0merr\u001b[0m\u001b[0;34m:\u001b[0m\u001b[0;34m\u001b[0m\u001b[0;34m\u001b[0m\u001b[0m\n",
            "\u001b[0;32mpandas/_libs/index.pyx\u001b[0m in \u001b[0;36mpandas._libs.index.IndexEngine.get_loc\u001b[0;34m()\u001b[0m\n",
            "\u001b[0;32mpandas/_libs/index.pyx\u001b[0m in \u001b[0;36mpandas._libs.index.IndexEngine.get_loc\u001b[0;34m()\u001b[0m\n",
            "\u001b[0;32mpandas/_libs/hashtable_class_helper.pxi\u001b[0m in \u001b[0;36mpandas._libs.hashtable.PyObjectHashTable.get_item\u001b[0;34m()\u001b[0m\n",
            "\u001b[0;32mpandas/_libs/hashtable_class_helper.pxi\u001b[0m in \u001b[0;36mpandas._libs.hashtable.PyObjectHashTable.get_item\u001b[0;34m()\u001b[0m\n",
            "\u001b[0;31mKeyError\u001b[0m: 'child_num'",
            "\nThe above exception was the direct cause of the following exception:\n",
            "\u001b[0;31mKeyError\u001b[0m                                  Traceback (most recent call last)",
            "\u001b[0;32m<ipython-input-249-7602b4f0b1c0>\u001b[0m in \u001b[0;36m<module>\u001b[0;34m()\u001b[0m\n\u001b[1;32m      3\u001b[0m \u001b[0;34m\u001b[0m\u001b[0m\n\u001b[1;32m      4\u001b[0m \u001b[0;31m# 아까 중간 저장해뒀던 train_dup 쓰자\u001b[0m\u001b[0;34m\u001b[0m\u001b[0;34m\u001b[0m\u001b[0;34m\u001b[0m\u001b[0m\n\u001b[0;32m----> 5\u001b[0;31m \u001b[0mduplicated\u001b[0m\u001b[0;34m(\u001b[0m\u001b[0mtrain_dup\u001b[0m\u001b[0;34m)\u001b[0m\u001b[0;34m\u001b[0m\u001b[0;34m\u001b[0m\u001b[0m\n\u001b[0m",
            "\u001b[0;32m<ipython-input-249-7602b4f0b1c0>\u001b[0m in \u001b[0;36mduplicated\u001b[0;34m(df)\u001b[0m\n\u001b[1;32m      1\u001b[0m \u001b[0;32mdef\u001b[0m \u001b[0mduplicated\u001b[0m\u001b[0;34m(\u001b[0m\u001b[0mdf\u001b[0m\u001b[0;34m)\u001b[0m\u001b[0;34m:\u001b[0m\u001b[0;34m\u001b[0m\u001b[0;34m\u001b[0m\u001b[0m\n\u001b[0;32m----> 2\u001b[0;31m     \u001b[0mdf\u001b[0m\u001b[0;34m[\u001b[0m\u001b[0;34m'ID'\u001b[0m\u001b[0;34m]\u001b[0m \u001b[0;34m=\u001b[0m     \u001b[0mdf\u001b[0m\u001b[0;34m[\u001b[0m\u001b[0;34m'child_num'\u001b[0m\u001b[0;34m]\u001b[0m\u001b[0;34m.\u001b[0m\u001b[0mastype\u001b[0m\u001b[0;34m(\u001b[0m\u001b[0mstr\u001b[0m\u001b[0;34m)\u001b[0m \u001b[0;34m+\u001b[0m \u001b[0;34m'_'\u001b[0m \u001b[0;34m+\u001b[0m \u001b[0mdf\u001b[0m\u001b[0;34m[\u001b[0m\u001b[0;34m'income_total'\u001b[0m\u001b[0;34m]\u001b[0m\u001b[0;34m.\u001b[0m\u001b[0mastype\u001b[0m\u001b[0;34m(\u001b[0m\u001b[0mstr\u001b[0m\u001b[0;34m)\u001b[0m \u001b[0;34m+\u001b[0m \u001b[0;34m'_'\u001b[0m \u001b[0;34m+\u001b[0m    \u001b[0mdf\u001b[0m\u001b[0;34m[\u001b[0m\u001b[0;34m'DAYS_BIRTH'\u001b[0m\u001b[0;34m]\u001b[0m\u001b[0;34m.\u001b[0m\u001b[0mastype\u001b[0m\u001b[0;34m(\u001b[0m\u001b[0mstr\u001b[0m\u001b[0;34m)\u001b[0m \u001b[0;34m+\u001b[0m \u001b[0;34m'_'\u001b[0m \u001b[0;34m+\u001b[0m \u001b[0mdf\u001b[0m\u001b[0;34m[\u001b[0m\u001b[0;34m'DAYS_EMPLOYED'\u001b[0m\u001b[0;34m]\u001b[0m\u001b[0;34m.\u001b[0m\u001b[0mastype\u001b[0m\u001b[0;34m(\u001b[0m\u001b[0mstr\u001b[0m\u001b[0;34m)\u001b[0m \u001b[0;34m+\u001b[0m \u001b[0;34m'_'\u001b[0m \u001b[0;34m+\u001b[0m    \u001b[0mdf\u001b[0m\u001b[0;34m[\u001b[0m\u001b[0;34m'work_phone'\u001b[0m\u001b[0;34m]\u001b[0m\u001b[0;34m.\u001b[0m\u001b[0mastype\u001b[0m\u001b[0;34m(\u001b[0m\u001b[0mstr\u001b[0m\u001b[0;34m)\u001b[0m \u001b[0;34m+\u001b[0m \u001b[0;34m'_'\u001b[0m \u001b[0;34m+\u001b[0m \u001b[0mdf\u001b[0m\u001b[0;34m[\u001b[0m\u001b[0;34m'phone'\u001b[0m\u001b[0;34m]\u001b[0m\u001b[0;34m.\u001b[0m\u001b[0mastype\u001b[0m\u001b[0;34m(\u001b[0m\u001b[0mstr\u001b[0m\u001b[0;34m)\u001b[0m \u001b[0;34m+\u001b[0m \u001b[0;34m'_'\u001b[0m \u001b[0;34m+\u001b[0m    \u001b[0mdf\u001b[0m\u001b[0;34m[\u001b[0m\u001b[0;34m'email'\u001b[0m\u001b[0;34m]\u001b[0m\u001b[0;34m.\u001b[0m\u001b[0mastype\u001b[0m\u001b[0;34m(\u001b[0m\u001b[0mstr\u001b[0m\u001b[0;34m)\u001b[0m \u001b[0;34m+\u001b[0m \u001b[0;34m'_'\u001b[0m \u001b[0;34m+\u001b[0m \u001b[0mdf\u001b[0m\u001b[0;34m[\u001b[0m\u001b[0;34m'family_size'\u001b[0m\u001b[0;34m]\u001b[0m\u001b[0;34m.\u001b[0m\u001b[0mastype\u001b[0m\u001b[0;34m(\u001b[0m\u001b[0mstr\u001b[0m\u001b[0;34m)\u001b[0m \u001b[0;34m+\u001b[0m \u001b[0;34m'_'\u001b[0m \u001b[0;34m+\u001b[0m    \u001b[0mdf\u001b[0m\u001b[0;34m[\u001b[0m\u001b[0;34m'gender'\u001b[0m\u001b[0;34m]\u001b[0m\u001b[0;34m.\u001b[0m\u001b[0mastype\u001b[0m\u001b[0;34m(\u001b[0m\u001b[0mstr\u001b[0m\u001b[0;34m)\u001b[0m \u001b[...\n\u001b[0m\u001b[1;32m      3\u001b[0m \u001b[0;34m\u001b[0m\u001b[0m\n\u001b[1;32m      4\u001b[0m \u001b[0;31m# 아까 중간 저장해뒀던 train_dup 쓰자\u001b[0m\u001b[0;34m\u001b[0m\u001b[0;34m\u001b[0m\u001b[0;34m\u001b[0m\u001b[0m\n\u001b[1;32m      5\u001b[0m \u001b[0mduplicated\u001b[0m\u001b[0;34m(\u001b[0m\u001b[0mtrain_dup\u001b[0m\u001b[0;34m)\u001b[0m\u001b[0;34m\u001b[0m\u001b[0;34m\u001b[0m\u001b[0m\n",
            "\u001b[0;32m/usr/local/lib/python3.7/dist-packages/pandas/core/frame.py\u001b[0m in \u001b[0;36m__getitem__\u001b[0;34m(self, key)\u001b[0m\n\u001b[1;32m   2904\u001b[0m             \u001b[0;32mif\u001b[0m \u001b[0mself\u001b[0m\u001b[0;34m.\u001b[0m\u001b[0mcolumns\u001b[0m\u001b[0;34m.\u001b[0m\u001b[0mnlevels\u001b[0m \u001b[0;34m>\u001b[0m \u001b[0;36m1\u001b[0m\u001b[0;34m:\u001b[0m\u001b[0;34m\u001b[0m\u001b[0;34m\u001b[0m\u001b[0m\n\u001b[1;32m   2905\u001b[0m                 \u001b[0;32mreturn\u001b[0m \u001b[0mself\u001b[0m\u001b[0;34m.\u001b[0m\u001b[0m_getitem_multilevel\u001b[0m\u001b[0;34m(\u001b[0m\u001b[0mkey\u001b[0m\u001b[0;34m)\u001b[0m\u001b[0;34m\u001b[0m\u001b[0;34m\u001b[0m\u001b[0m\n\u001b[0;32m-> 2906\u001b[0;31m             \u001b[0mindexer\u001b[0m \u001b[0;34m=\u001b[0m \u001b[0mself\u001b[0m\u001b[0;34m.\u001b[0m\u001b[0mcolumns\u001b[0m\u001b[0;34m.\u001b[0m\u001b[0mget_loc\u001b[0m\u001b[0;34m(\u001b[0m\u001b[0mkey\u001b[0m\u001b[0;34m)\u001b[0m\u001b[0;34m\u001b[0m\u001b[0;34m\u001b[0m\u001b[0m\n\u001b[0m\u001b[1;32m   2907\u001b[0m             \u001b[0;32mif\u001b[0m \u001b[0mis_integer\u001b[0m\u001b[0;34m(\u001b[0m\u001b[0mindexer\u001b[0m\u001b[0;34m)\u001b[0m\u001b[0;34m:\u001b[0m\u001b[0;34m\u001b[0m\u001b[0;34m\u001b[0m\u001b[0m\n\u001b[1;32m   2908\u001b[0m                 \u001b[0mindexer\u001b[0m \u001b[0;34m=\u001b[0m \u001b[0;34m[\u001b[0m\u001b[0mindexer\u001b[0m\u001b[0;34m]\u001b[0m\u001b[0;34m\u001b[0m\u001b[0;34m\u001b[0m\u001b[0m\n",
            "\u001b[0;32m/usr/local/lib/python3.7/dist-packages/pandas/core/indexes/base.py\u001b[0m in \u001b[0;36mget_loc\u001b[0;34m(self, key, method, tolerance)\u001b[0m\n\u001b[1;32m   2898\u001b[0m                 \u001b[0;32mreturn\u001b[0m \u001b[0mself\u001b[0m\u001b[0;34m.\u001b[0m\u001b[0m_engine\u001b[0m\u001b[0;34m.\u001b[0m\u001b[0mget_loc\u001b[0m\u001b[0;34m(\u001b[0m\u001b[0mcasted_key\u001b[0m\u001b[0;34m)\u001b[0m\u001b[0;34m\u001b[0m\u001b[0;34m\u001b[0m\u001b[0m\n\u001b[1;32m   2899\u001b[0m             \u001b[0;32mexcept\u001b[0m \u001b[0mKeyError\u001b[0m \u001b[0;32mas\u001b[0m \u001b[0merr\u001b[0m\u001b[0;34m:\u001b[0m\u001b[0;34m\u001b[0m\u001b[0;34m\u001b[0m\u001b[0m\n\u001b[0;32m-> 2900\u001b[0;31m                 \u001b[0;32mraise\u001b[0m \u001b[0mKeyError\u001b[0m\u001b[0;34m(\u001b[0m\u001b[0mkey\u001b[0m\u001b[0;34m)\u001b[0m \u001b[0;32mfrom\u001b[0m \u001b[0merr\u001b[0m\u001b[0;34m\u001b[0m\u001b[0;34m\u001b[0m\u001b[0m\n\u001b[0m\u001b[1;32m   2901\u001b[0m \u001b[0;34m\u001b[0m\u001b[0m\n\u001b[1;32m   2902\u001b[0m         \u001b[0;32mif\u001b[0m \u001b[0mtolerance\u001b[0m \u001b[0;32mis\u001b[0m \u001b[0;32mnot\u001b[0m \u001b[0;32mNone\u001b[0m\u001b[0;34m:\u001b[0m\u001b[0;34m\u001b[0m\u001b[0;34m\u001b[0m\u001b[0m\n",
            "\u001b[0;31mKeyError\u001b[0m: 'child_num'"
          ]
        }
      ]
    },
    {
      "cell_type": "code",
      "metadata": {
        "colab": {
          "base_uri": "https://localhost:8080/",
          "height": 204
        },
        "id": "56Vy7Ty-20pa",
        "outputId": "71ae8658-c64c-4861-9c55-1014191e3450"
      },
      "source": [
        "train_dup.head()"
      ],
      "execution_count": null,
      "outputs": [
        {
          "output_type": "execute_result",
          "data": {
            "text/html": [
              "<div>\n",
              "<style scoped>\n",
              "    .dataframe tbody tr th:only-of-type {\n",
              "        vertical-align: middle;\n",
              "    }\n",
              "\n",
              "    .dataframe tbody tr th {\n",
              "        vertical-align: top;\n",
              "    }\n",
              "\n",
              "    .dataframe thead th {\n",
              "        text-align: right;\n",
              "    }\n",
              "</style>\n",
              "<table border=\"1\" class=\"dataframe\">\n",
              "  <thead>\n",
              "    <tr style=\"text-align: right;\">\n",
              "      <th></th>\n",
              "      <th>gender</th>\n",
              "      <th>car</th>\n",
              "      <th>reality</th>\n",
              "      <th>income_total</th>\n",
              "      <th>income_type</th>\n",
              "      <th>edu_type</th>\n",
              "      <th>family_type</th>\n",
              "      <th>house_type</th>\n",
              "      <th>occyp_type</th>\n",
              "      <th>begin_month</th>\n",
              "      <th>credit</th>\n",
              "      <th>EMPLOYED</th>\n",
              "      <th>age</th>\n",
              "      <th>cf_pca</th>\n",
              "      <th>ID</th>\n",
              "      <th>try</th>\n",
              "    </tr>\n",
              "  </thead>\n",
              "  <tbody>\n",
              "    <tr>\n",
              "      <th>0</th>\n",
              "      <td>0</td>\n",
              "      <td>0</td>\n",
              "      <td>0</td>\n",
              "      <td>12.218500</td>\n",
              "      <td>0</td>\n",
              "      <td>1</td>\n",
              "      <td>1</td>\n",
              "      <td>2</td>\n",
              "      <td>8</td>\n",
              "      <td>6</td>\n",
              "      <td>1.0</td>\n",
              "      <td>2.644795</td>\n",
              "      <td>38</td>\n",
              "      <td>-0.569295</td>\n",
              "      <td>4131</td>\n",
              "      <td>0.0</td>\n",
              "    </tr>\n",
              "    <tr>\n",
              "      <th>1</th>\n",
              "      <td>0</td>\n",
              "      <td>0</td>\n",
              "      <td>1</td>\n",
              "      <td>12.419170</td>\n",
              "      <td>0</td>\n",
              "      <td>4</td>\n",
              "      <td>0</td>\n",
              "      <td>1</td>\n",
              "      <td>8</td>\n",
              "      <td>5</td>\n",
              "      <td>1.0</td>\n",
              "      <td>1.663505</td>\n",
              "      <td>31</td>\n",
              "      <td>1.192758</td>\n",
              "      <td>7506</td>\n",
              "      <td>1.0</td>\n",
              "    </tr>\n",
              "    <tr>\n",
              "      <th>2</th>\n",
              "      <td>1</td>\n",
              "      <td>1</td>\n",
              "      <td>1</td>\n",
              "      <td>13.017005</td>\n",
              "      <td>4</td>\n",
              "      <td>1</td>\n",
              "      <td>1</td>\n",
              "      <td>1</td>\n",
              "      <td>10</td>\n",
              "      <td>22</td>\n",
              "      <td>2.0</td>\n",
              "      <td>2.589016</td>\n",
              "      <td>53</td>\n",
              "      <td>-0.569295</td>\n",
              "      <td>6041</td>\n",
              "      <td>2.0</td>\n",
              "    </tr>\n",
              "    <tr>\n",
              "      <th>3</th>\n",
              "      <td>0</td>\n",
              "      <td>0</td>\n",
              "      <td>1</td>\n",
              "      <td>12.218500</td>\n",
              "      <td>0</td>\n",
              "      <td>4</td>\n",
              "      <td>1</td>\n",
              "      <td>1</td>\n",
              "      <td>14</td>\n",
              "      <td>37</td>\n",
              "      <td>0.0</td>\n",
              "      <td>1.918555</td>\n",
              "      <td>41</td>\n",
              "      <td>-0.569295</td>\n",
              "      <td>4163</td>\n",
              "      <td>2.0</td>\n",
              "    </tr>\n",
              "    <tr>\n",
              "      <th>4</th>\n",
              "      <td>0</td>\n",
              "      <td>1</td>\n",
              "      <td>1</td>\n",
              "      <td>11.967187</td>\n",
              "      <td>2</td>\n",
              "      <td>1</td>\n",
              "      <td>1</td>\n",
              "      <td>1</td>\n",
              "      <td>10</td>\n",
              "      <td>26</td>\n",
              "      <td>2.0</td>\n",
              "      <td>1.923843</td>\n",
              "      <td>41</td>\n",
              "      <td>-0.569295</td>\n",
              "      <td>2953</td>\n",
              "      <td>0.0</td>\n",
              "    </tr>\n",
              "  </tbody>\n",
              "</table>\n",
              "</div>"
            ],
            "text/plain": [
              "   gender  car  reality  income_total  ...  age    cf_pca    ID  try\n",
              "0       0    0        0     12.218500  ...   38 -0.569295  4131  0.0\n",
              "1       0    0        1     12.419170  ...   31  1.192758  7506  1.0\n",
              "2       1    1        1     13.017005  ...   53 -0.569295  6041  2.0\n",
              "3       0    0        1     12.218500  ...   41 -0.569295  4163  2.0\n",
              "4       0    1        1     11.967187  ...   41 -0.569295  2953  0.0\n",
              "\n",
              "[5 rows x 16 columns]"
            ]
          },
          "metadata": {
            "tags": []
          },
          "execution_count": 248
        }
      ]
    },
    {
      "cell_type": "code",
      "metadata": {
        "id": "V8B9c7_E8DIa"
      },
      "source": [
        "# 위에서 했던 try_t()도 하자\n",
        "try_t(train_dup)"
      ],
      "execution_count": null,
      "outputs": []
    },
    {
      "cell_type": "code",
      "metadata": {
        "id": "ud9BWTF6KYoq"
      },
      "source": [
        "# 드랍해보자\n",
        "train_dup = train_dup.drop(['index', 'FLAG_MOBIL', 'DAYS_BIRTH', 'DAYS_EMPLOYED', 'child_num', 'family_size', 'cf_ratio'], axis = 1)"
      ],
      "execution_count": null,
      "outputs": []
    },
    {
      "cell_type": "code",
      "metadata": {
        "id": "QAB9sUbe9NcC"
      },
      "source": [
        "train_dup = train_dup.drop(['work_phone', 'phone', 'email'], axis = 1)"
      ],
      "execution_count": null,
      "outputs": []
    },
    {
      "cell_type": "code",
      "metadata": {
        "colab": {
          "base_uri": "https://localhost:8080/"
        },
        "id": "YNR4LLFj7-Ia",
        "outputId": "9a02dd4d-a928-4a75-f7ee-3b92c8eca2e3"
      },
      "source": [
        "train_dup.info()"
      ],
      "execution_count": null,
      "outputs": [
        {
          "output_type": "stream",
          "text": [
            "<class 'pandas.core.frame.DataFrame'>\n",
            "Int64Index: 26447 entries, 0 to 26451\n",
            "Data columns (total 16 columns):\n",
            " #   Column        Non-Null Count  Dtype  \n",
            "---  ------        --------------  -----  \n",
            " 0   gender        26447 non-null  int64  \n",
            " 1   car           26447 non-null  int64  \n",
            " 2   reality       26447 non-null  int64  \n",
            " 3   income_total  26447 non-null  float64\n",
            " 4   income_type   26447 non-null  int64  \n",
            " 5   edu_type      26447 non-null  int64  \n",
            " 6   family_type   26447 non-null  int64  \n",
            " 7   house_type    26447 non-null  int64  \n",
            " 8   occyp_type    26447 non-null  int64  \n",
            " 9   begin_month   26447 non-null  int64  \n",
            " 10  credit        26447 non-null  float64\n",
            " 11  EMPLOYED      26447 non-null  float64\n",
            " 12  age           26447 non-null  int64  \n",
            " 13  cf_pca        26447 non-null  float64\n",
            " 14  ID            26447 non-null  int64  \n",
            " 15  try           26447 non-null  float64\n",
            "dtypes: float64(5), int64(11)\n",
            "memory usage: 3.4 MB\n"
          ],
          "name": "stdout"
        }
      ]
    },
    {
      "cell_type": "code",
      "metadata": {
        "id": "6Cxb-CLP8Qde"
      },
      "source": [
        "train_dup = train_dup.dropna(axis = 0)"
      ],
      "execution_count": null,
      "outputs": []
    },
    {
      "cell_type": "code",
      "metadata": {
        "id": "mPUlx-3b8vWW"
      },
      "source": [
        "# ID 변수 라벨링\n",
        "train_dup['ID'] = label_encoder.fit_transform(train_dup['ID'])"
      ],
      "execution_count": null,
      "outputs": []
    },
    {
      "cell_type": "code",
      "metadata": {
        "colab": {
          "base_uri": "https://localhost:8080/"
        },
        "id": "-U-kwStd8Uvm",
        "outputId": "ba3a1b8b-9077-405c-bfe8-54591adfe35b"
      },
      "source": [
        "train_dup_x = train_dup.drop(\"credit\", axis = 1)\n",
        "train_dup_y = train_dup['credit']\n",
        "\n",
        "X_train_dup, X_val_dup, y_train_dup, y_val_dup = train_test_split(train_dup_x, train_dup_y,\n",
        "                 stratify = train_dup_y, \n",
        "                 test_size = 0.25,\n",
        "                 random_state = 10086\n",
        "                 )\n",
        "\n",
        "clf.fit(X_train_dup, y_train_dup)\n",
        "\n",
        "y_proba_dup = clf.predict_proba(X_val_dup)\n",
        "y_val_onehot_dup = pd.get_dummies(y_val_dup)"
      ],
      "execution_count": null,
      "outputs": [
        {
          "output_type": "execute_result",
          "data": {
            "text/plain": [
              "RandomForestClassifier(bootstrap=True, ccp_alpha=0.0, class_weight=None,\n",
              "                       criterion='gini', max_depth=None, max_features='auto',\n",
              "                       max_leaf_nodes=None, max_samples=None,\n",
              "                       min_impurity_decrease=0.0, min_impurity_split=None,\n",
              "                       min_samples_leaf=1, min_samples_split=2,\n",
              "                       min_weight_fraction_leaf=0.0, n_estimators=100,\n",
              "                       n_jobs=None, oob_score=False, random_state=None,\n",
              "                       verbose=0, warm_start=False)"
            ]
          },
          "metadata": {
            "tags": []
          },
          "execution_count": 246
        }
      ]
    },
    {
      "cell_type": "code",
      "metadata": {
        "colab": {
          "base_uri": "https://localhost:8080/"
        },
        "id": "Wm-5xTnK8UtF",
        "outputId": "9f59fa09-f8a9-4815-af65-4f94562f10b6"
      },
      "source": [
        "log_loss(y_val_onehot_dup, y_proba_dup)"
      ],
      "execution_count": null,
      "outputs": [
        {
          "output_type": "execute_result",
          "data": {
            "text/plain": [
              "0.8537431630539011"
            ]
          },
          "metadata": {
            "tags": []
          },
          "execution_count": 247
        }
      ]
    }
  ]
}