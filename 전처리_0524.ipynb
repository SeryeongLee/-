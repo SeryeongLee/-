{
  "nbformat": 4,
  "nbformat_minor": 0,
  "metadata": {
    "colab": {
      "name": "전처리 0524.ipynb",
      "provenance": [],
      "collapsed_sections": [],
      "include_colab_link": true
    },
    "kernelspec": {
      "name": "python3",
      "display_name": "Python 3"
    },
    "language_info": {
      "name": "python"
    },
    "accelerator": "GPU"
  },
  "cells": [
    {
      "cell_type": "markdown",
      "metadata": {
        "id": "view-in-github",
        "colab_type": "text"
      },
      "source": [
        "<a href=\"https://colab.research.google.com/github/SeryeongLee/-/blob/main/%EC%A0%84%EC%B2%98%EB%A6%AC_0524.ipynb\" target=\"_parent\"><img src=\"https://colab.research.google.com/assets/colab-badge.svg\" alt=\"Open In Colab\"/></a>"
      ]
    },
    {
      "cell_type": "code",
      "metadata": {
        "colab": {
          "base_uri": "https://localhost:8080/"
        },
        "id": "1Kmmyh73F9gh",
        "outputId": "d983a4e1-89ba-4833-b3c9-34f9d00d12b8"
      },
      "source": [
        "from google.colab import drive\n",
        "drive.mount('/content/drive')"
      ],
      "execution_count": null,
      "outputs": [
        {
          "output_type": "stream",
          "text": [
            "Drive already mounted at /content/drive; to attempt to forcibly remount, call drive.mount(\"/content/drive\", force_remount=True).\n"
          ],
          "name": "stdout"
        }
      ]
    },
    {
      "cell_type": "code",
      "metadata": {
        "colab": {
          "base_uri": "https://localhost:8080/",
          "height": 333
        },
        "id": "ni0iWSttbX4J",
        "outputId": "ce129af2-79a1-455c-f419-821cdf52f892"
      },
      "source": [
        "# pip install --upgrade pandas"
      ],
      "execution_count": null,
      "outputs": [
        {
          "output_type": "stream",
          "text": [
            "Collecting pandas\n",
            "\u001b[?25l  Downloading https://files.pythonhosted.org/packages/51/51/48f3fc47c4e2144da2806dfb6629c4dd1fa3d5a143f9652b141e979a8ca9/pandas-1.2.4-cp37-cp37m-manylinux1_x86_64.whl (9.9MB)\n",
            "\u001b[K     |████████████████████████████████| 9.9MB 7.1MB/s \n",
            "\u001b[?25hRequirement already satisfied, skipping upgrade: pytz>=2017.3 in /usr/local/lib/python3.7/dist-packages (from pandas) (2018.9)\n",
            "Requirement already satisfied, skipping upgrade: numpy>=1.16.5 in /usr/local/lib/python3.7/dist-packages (from pandas) (1.19.5)\n",
            "Requirement already satisfied, skipping upgrade: python-dateutil>=2.7.3 in /usr/local/lib/python3.7/dist-packages (from pandas) (2.8.1)\n",
            "Requirement already satisfied, skipping upgrade: six>=1.5 in /usr/local/lib/python3.7/dist-packages (from python-dateutil>=2.7.3->pandas) (1.15.0)\n",
            "\u001b[31mERROR: google-colab 1.0.0 has requirement pandas~=1.1.0; python_version >= \"3.0\", but you'll have pandas 1.2.4 which is incompatible.\u001b[0m\n",
            "Installing collected packages: pandas\n",
            "  Found existing installation: pandas 1.1.5\n",
            "    Uninstalling pandas-1.1.5:\n",
            "      Successfully uninstalled pandas-1.1.5\n",
            "Successfully installed pandas-1.2.4\n"
          ],
          "name": "stdout"
        },
        {
          "output_type": "display_data",
          "data": {
            "application/vnd.colab-display-data+json": {
              "pip_warning": {
                "packages": [
                  "pandas"
                ]
              }
            }
          },
          "metadata": {
            "tags": []
          }
        }
      ]
    },
    {
      "cell_type": "code",
      "metadata": {
        "id": "ysI2lkv-Dj0T"
      },
      "source": [
        "import pandas as pd\n",
        "import numpy as np\n",
        "\n",
        "import matplotlib.pyplot as plt\n",
        "import seaborn as sns\n",
        "\n",
        "import os\n",
        "import re\n",
        "\n",
        "from IPython.core.interactiveshell import InteractiveShell\n",
        "InteractiveShell.ast_node_interactivity = \"all\"\n",
        "\n",
        "from sklearn.linear_model import LinearRegression\n",
        "from sklearn.linear_model import Lasso\n",
        "from sklearn.linear_model import Ridge\n",
        "from sklearn.linear_model import ElasticNet\n",
        "from sklearn.neighbors import KNeighborsRegressor\n",
        "from sklearn.tree import DecisionTreeRegressor\n",
        "from sklearn.ensemble import GradientBoostingRegressor\n",
        "from sklearn.ensemble import AdaBoostRegressor\n",
        "from sklearn.ensemble import BaggingRegressor\n",
        "\n",
        "from sklearn import preprocessing\n",
        "from sklearn.preprocessing import MinMaxScaler, StandardScaler\n",
        "from sklearn.model_selection import train_test_split\n",
        "from sklearn.model_selection import RandomizedSearchCV \n",
        "from sklearn.metrics import accuracy_score\n",
        "from sklearn.metrics import mean_squared_error\n",
        "from sklearn.utils import shuffle\n",
        "from scipy.special import erfc\n",
        "from sklearn.dummy import DummyRegressor\n",
        "from sklearn.svm import SVR\n",
        "\n",
        "from sklearn.model_selection import KFold\n",
        "from sklearn.model_selection import cross_val_score\n",
        "\n",
        "from sklearn.model_selection import train_test_split, cross_validate, RandomizedSearchCV\n",
        "from sklearn.metrics import accuracy_score, precision_score, recall_score, confusion_matrix, mean_squared_error, r2_score\n",
        "from sklearn.ensemble import RandomForestClassifier, GradientBoostingClassifier, RandomForestRegressor, VotingRegressor\n",
        "\n",
        "from lightgbm import LGBMRegressor\n",
        "\n",
        "import xgboost as xgb\n",
        "from xgboost import XGBClassifier, XGBRegressor\n",
        "\n",
        "import warnings"
      ],
      "execution_count": null,
      "outputs": []
    },
    {
      "cell_type": "code",
      "metadata": {
        "id": "WucZOJCvETyC"
      },
      "source": [
        "train = pd.read_csv('/content/drive/MyDrive/data science/first/data/train.csv')\n",
        "test = pd.read_csv('/content/drive/MyDrive/data science/first/data/test.csv')"
      ],
      "execution_count": null,
      "outputs": []
    },
    {
      "cell_type": "code",
      "metadata": {
        "colab": {
          "base_uri": "https://localhost:8080/",
          "height": 191
        },
        "id": "hjYcAPMPaZkJ",
        "outputId": "b5ad3f4b-5710-42b2-af43-e4212c5708ee"
      },
      "source": [
        "train.head()"
      ],
      "execution_count": null,
      "outputs": [
        {
          "output_type": "execute_result",
          "data": {
            "text/html": [
              "<div>\n",
              "<style scoped>\n",
              "    .dataframe tbody tr th:only-of-type {\n",
              "        vertical-align: middle;\n",
              "    }\n",
              "\n",
              "    .dataframe tbody tr th {\n",
              "        vertical-align: top;\n",
              "    }\n",
              "\n",
              "    .dataframe thead th {\n",
              "        text-align: right;\n",
              "    }\n",
              "</style>\n",
              "<table border=\"1\" class=\"dataframe\">\n",
              "  <thead>\n",
              "    <tr style=\"text-align: right;\">\n",
              "      <th></th>\n",
              "      <th>index</th>\n",
              "      <th>gender</th>\n",
              "      <th>car</th>\n",
              "      <th>reality</th>\n",
              "      <th>child_num</th>\n",
              "      <th>income_total</th>\n",
              "      <th>income_type</th>\n",
              "      <th>edu_type</th>\n",
              "      <th>family_type</th>\n",
              "      <th>house_type</th>\n",
              "      <th>DAYS_BIRTH</th>\n",
              "      <th>DAYS_EMPLOYED</th>\n",
              "      <th>FLAG_MOBIL</th>\n",
              "      <th>work_phone</th>\n",
              "      <th>phone</th>\n",
              "      <th>email</th>\n",
              "      <th>occyp_type</th>\n",
              "      <th>family_size</th>\n",
              "      <th>begin_month</th>\n",
              "      <th>credit</th>\n",
              "    </tr>\n",
              "  </thead>\n",
              "  <tbody>\n",
              "    <tr>\n",
              "      <th>0</th>\n",
              "      <td>0</td>\n",
              "      <td>F</td>\n",
              "      <td>N</td>\n",
              "      <td>N</td>\n",
              "      <td>0</td>\n",
              "      <td>202500.0</td>\n",
              "      <td>Commercial associate</td>\n",
              "      <td>Higher education</td>\n",
              "      <td>Married</td>\n",
              "      <td>Municipal apartment</td>\n",
              "      <td>-13899</td>\n",
              "      <td>-4709</td>\n",
              "      <td>1</td>\n",
              "      <td>0</td>\n",
              "      <td>0</td>\n",
              "      <td>0</td>\n",
              "      <td>NaN</td>\n",
              "      <td>2.0</td>\n",
              "      <td>-6.0</td>\n",
              "      <td>1.0</td>\n",
              "    </tr>\n",
              "    <tr>\n",
              "      <th>1</th>\n",
              "      <td>1</td>\n",
              "      <td>F</td>\n",
              "      <td>N</td>\n",
              "      <td>Y</td>\n",
              "      <td>1</td>\n",
              "      <td>247500.0</td>\n",
              "      <td>Commercial associate</td>\n",
              "      <td>Secondary / secondary special</td>\n",
              "      <td>Civil marriage</td>\n",
              "      <td>House / apartment</td>\n",
              "      <td>-11380</td>\n",
              "      <td>-1540</td>\n",
              "      <td>1</td>\n",
              "      <td>0</td>\n",
              "      <td>0</td>\n",
              "      <td>1</td>\n",
              "      <td>Laborers</td>\n",
              "      <td>3.0</td>\n",
              "      <td>-5.0</td>\n",
              "      <td>1.0</td>\n",
              "    </tr>\n",
              "    <tr>\n",
              "      <th>2</th>\n",
              "      <td>2</td>\n",
              "      <td>M</td>\n",
              "      <td>Y</td>\n",
              "      <td>Y</td>\n",
              "      <td>0</td>\n",
              "      <td>450000.0</td>\n",
              "      <td>Working</td>\n",
              "      <td>Higher education</td>\n",
              "      <td>Married</td>\n",
              "      <td>House / apartment</td>\n",
              "      <td>-19087</td>\n",
              "      <td>-4434</td>\n",
              "      <td>1</td>\n",
              "      <td>0</td>\n",
              "      <td>1</td>\n",
              "      <td>0</td>\n",
              "      <td>Managers</td>\n",
              "      <td>2.0</td>\n",
              "      <td>-22.0</td>\n",
              "      <td>2.0</td>\n",
              "    </tr>\n",
              "    <tr>\n",
              "      <th>3</th>\n",
              "      <td>3</td>\n",
              "      <td>F</td>\n",
              "      <td>N</td>\n",
              "      <td>Y</td>\n",
              "      <td>0</td>\n",
              "      <td>202500.0</td>\n",
              "      <td>Commercial associate</td>\n",
              "      <td>Secondary / secondary special</td>\n",
              "      <td>Married</td>\n",
              "      <td>House / apartment</td>\n",
              "      <td>-15088</td>\n",
              "      <td>-2092</td>\n",
              "      <td>1</td>\n",
              "      <td>0</td>\n",
              "      <td>1</td>\n",
              "      <td>0</td>\n",
              "      <td>Sales staff</td>\n",
              "      <td>2.0</td>\n",
              "      <td>-37.0</td>\n",
              "      <td>0.0</td>\n",
              "    </tr>\n",
              "    <tr>\n",
              "      <th>4</th>\n",
              "      <td>4</td>\n",
              "      <td>F</td>\n",
              "      <td>Y</td>\n",
              "      <td>Y</td>\n",
              "      <td>0</td>\n",
              "      <td>157500.0</td>\n",
              "      <td>State servant</td>\n",
              "      <td>Higher education</td>\n",
              "      <td>Married</td>\n",
              "      <td>House / apartment</td>\n",
              "      <td>-15037</td>\n",
              "      <td>-2105</td>\n",
              "      <td>1</td>\n",
              "      <td>0</td>\n",
              "      <td>0</td>\n",
              "      <td>0</td>\n",
              "      <td>Managers</td>\n",
              "      <td>2.0</td>\n",
              "      <td>-26.0</td>\n",
              "      <td>2.0</td>\n",
              "    </tr>\n",
              "  </tbody>\n",
              "</table>\n",
              "</div>"
            ],
            "text/plain": [
              "   index gender car reality  ...   occyp_type  family_size begin_month credit\n",
              "0      0      F   N       N  ...          NaN          2.0        -6.0    1.0\n",
              "1      1      F   N       Y  ...     Laborers          3.0        -5.0    1.0\n",
              "2      2      M   Y       Y  ...     Managers          2.0       -22.0    2.0\n",
              "3      3      F   N       Y  ...  Sales staff          2.0       -37.0    0.0\n",
              "4      4      F   Y       Y  ...     Managers          2.0       -26.0    2.0\n",
              "\n",
              "[5 rows x 20 columns]"
            ]
          },
          "metadata": {
            "tags": []
          },
          "execution_count": 52
        }
      ]
    },
    {
      "cell_type": "markdown",
      "metadata": {
        "id": "7nOr5qupFPDg"
      },
      "source": [
        "### 1) 0, 1 변환"
      ]
    },
    {
      "cell_type": "code",
      "metadata": {
        "id": "jarDXDRIETuE"
      },
      "source": [
        "# binary transform (0, 1)\n",
        "\n",
        "train.gender = train.gender.replace(['F','M'],[0,1])  \n",
        "test.gender = test.gender.replace(['F','M'],[0,1])\n",
        "\n",
        "train.car = train.car.replace(['N','Y'],[0,1])  \n",
        "test.car = test.car.replace(['N','Y'],[0,1])\n",
        "\n",
        "train.reality = train.reality.replace(['N','Y'],[0,1])  \n",
        "test.reality = test.reality.replace(['N','Y'],[0,1])"
      ],
      "execution_count": null,
      "outputs": []
    },
    {
      "cell_type": "markdown",
      "metadata": {
        "id": "X6FOwD1NFdMX"
      },
      "source": [
        "### 2) 양수 변환, 360으로 나눠 나이 변수 추가"
      ]
    },
    {
      "cell_type": "code",
      "metadata": {
        "id": "0vEXfm16ETrO"
      },
      "source": [
        "# 음수 -> 양수 변환\n",
        "\n",
        "train.DAYS_BIRTH = -train.DAYS_BIRTH\n",
        "test.DAYS_BIRTH = -test.DAYS_BIRTH\n",
        "\n",
        "train.DAYS_EMPLOYED = -train.DAYS_EMPLOYED\n",
        "test.DAYS_EMPLOYED = -test.DAYS_EMPLOYED\n",
        "\n",
        "train.begin_month = -train.begin_month\n",
        "test.begin_month = -test.begin_month"
      ],
      "execution_count": null,
      "outputs": []
    },
    {
      "cell_type": "code",
      "metadata": {
        "id": "Q-2c3wwLETo4"
      },
      "source": [
        "# 365243 인 값 0으로 바꾸기\n",
        "\n",
        "train.DAYS_EMPLOYED = train.DAYS_EMPLOYED.replace([-365243],[0])\n",
        "test.DAYS_EMPLOYED = test.DAYS_EMPLOYED.replace([-365243],[0])"
      ],
      "execution_count": null,
      "outputs": []
    },
    {
      "cell_type": "code",
      "metadata": {
        "id": "_f75lAKCETmo"
      },
      "source": [
        "# 360으로 나눠서 나이, 일한 년수 계산\n",
        "\n",
        "train['EMPLOYED']= train.DAYS_EMPLOYED.apply(lambda x: abs(x/360) )\n",
        "train['age']= train.DAYS_BIRTH.apply(lambda x: abs(x/360) ).astype(int)\n",
        "train['begin_month']= train.begin_month.apply(lambda x: abs(x) ).astype(int)\n",
        "\n",
        "test['EMPLOYED']= test.DAYS_EMPLOYED.apply(lambda x: abs(x/360) )\n",
        "test['age']= test.DAYS_BIRTH.apply(lambda x: abs(x/360) ).astype(int)\n",
        "test['begin_month']= test.begin_month.apply(lambda x: abs(x) ).astype(int)"
      ],
      "execution_count": null,
      "outputs": []
    },
    {
      "cell_type": "markdown",
      "metadata": {
        "id": "znYWGuCEFGUX"
      },
      "source": [
        "### 3) log 변환"
      ]
    },
    {
      "cell_type": "markdown",
      "metadata": {
        "id": "xdghH0p5GoiO"
      },
      "source": [
        "1. income_total"
      ]
    },
    {
      "cell_type": "code",
      "metadata": {
        "colab": {
          "base_uri": "https://localhost:8080/",
          "height": 363
        },
        "id": "EQhFVHd-ETkL",
        "outputId": "cbba11be-9dfb-4122-e556-7928d178250e"
      },
      "source": [
        "tr_it=train['income_total']\n",
        "sns.distplot(tr_it)"
      ],
      "execution_count": null,
      "outputs": [
        {
          "output_type": "stream",
          "text": [
            "/usr/local/lib/python3.7/dist-packages/seaborn/distributions.py:2557: FutureWarning: `distplot` is a deprecated function and will be removed in a future version. Please adapt your code to use either `displot` (a figure-level function with similar flexibility) or `histplot` (an axes-level function for histograms).\n",
            "  warnings.warn(msg, FutureWarning)\n"
          ],
          "name": "stderr"
        },
        {
          "output_type": "execute_result",
          "data": {
            "text/plain": [
              "<matplotlib.axes._subplots.AxesSubplot at 0x7ff8ed9cc4d0>"
            ]
          },
          "metadata": {
            "tags": []
          },
          "execution_count": 57
        },
        {
          "output_type": "display_data",
          "data": {
            "image/png": "[encoded data removed]",
            "text/plain": [
              "<Figure size 432x288 with 1 Axes>"
            ]
          },
          "metadata": {
            "tags": [],
            "needs_background": "light"
          }
        }
      ]
    },
    {
      "cell_type": "code",
      "metadata": {
        "colab": {
          "base_uri": "https://localhost:8080/",
          "height": 355
        },
        "id": "klSRA0YvETh5",
        "outputId": "3c6eb4bb-7b06-4cdc-f2b0-f5dafdcb94c9"
      },
      "source": [
        "tr_it_log = np.log1p(tr_it)\n",
        "sns.distplot(tr_it_log)\n",
        "# train에 로그변환한 변수로 바꾸기\n",
        "train['income_total']= tr_it_log"
      ],
      "execution_count": null,
      "outputs": [
        {
          "output_type": "stream",
          "text": [
            "/usr/local/lib/python3.7/dist-packages/seaborn/distributions.py:2557: FutureWarning: `distplot` is a deprecated function and will be removed in a future version. Please adapt your code to use either `displot` (a figure-level function with similar flexibility) or `histplot` (an axes-level function for histograms).\n",
            "  warnings.warn(msg, FutureWarning)\n"
          ],
          "name": "stderr"
        },
        {
          "output_type": "execute_result",
          "data": {
            "text/plain": [
              "<matplotlib.axes._subplots.AxesSubplot at 0x7ff8ed8b8ad0>"
            ]
          },
          "metadata": {
            "tags": []
          },
          "execution_count": 58
        },
        {
          "output_type": "display_data",
          "data": {
            "image/png": "[encoded data removed]",
            "text/plain": [
              "<Figure size 432x288 with 1 Axes>"
            ]
          },
          "metadata": {
            "tags": [],
            "needs_background": "light"
          }
        }
      ]
    },
    {
      "cell_type": "code",
      "metadata": {
        "colab": {
          "base_uri": "https://localhost:8080/",
          "height": 398
        },
        "id": "NM5-ggu3ETfJ",
        "outputId": "85cf67a7-d1d1-4c95-8a4e-f8ced34f28c9"
      },
      "source": [
        "# test set도\n",
        "\n",
        "te_it=test['income_total']\n",
        "te_it_log = np.log1p(te_it)\n",
        "fig, (ax1,ax2) = plt.subplots(ncols=2)\n",
        "fig.set_size_inches(8,4)\n",
        "sns.distplot(te_it,ax=ax1)\n",
        "sns.distplot(tr_it_log,ax=ax2)"
      ],
      "execution_count": null,
      "outputs": [
        {
          "output_type": "stream",
          "text": [
            "/usr/local/lib/python3.7/dist-packages/seaborn/distributions.py:2557: FutureWarning: `distplot` is a deprecated function and will be removed in a future version. Please adapt your code to use either `displot` (a figure-level function with similar flexibility) or `histplot` (an axes-level function for histograms).\n",
            "  warnings.warn(msg, FutureWarning)\n"
          ],
          "name": "stderr"
        },
        {
          "output_type": "execute_result",
          "data": {
            "text/plain": [
              "<matplotlib.axes._subplots.AxesSubplot at 0x7ff8ed9c1590>"
            ]
          },
          "metadata": {
            "tags": []
          },
          "execution_count": 59
        },
        {
          "output_type": "stream",
          "text": [
            "/usr/local/lib/python3.7/dist-packages/seaborn/distributions.py:2557: FutureWarning: `distplot` is a deprecated function and will be removed in a future version. Please adapt your code to use either `displot` (a figure-level function with similar flexibility) or `histplot` (an axes-level function for histograms).\n",
            "  warnings.warn(msg, FutureWarning)\n"
          ],
          "name": "stderr"
        },
        {
          "output_type": "execute_result",
          "data": {
            "text/plain": [
              "<matplotlib.axes._subplots.AxesSubplot at 0x7ff8ed773bd0>"
            ]
          },
          "metadata": {
            "tags": []
          },
          "execution_count": 59
        },
        {
          "output_type": "display_data",
          "data": {
            "image/png": "[encoded data removed]",
            "text/plain": [
              "<Figure size 576x288 with 2 Axes>"
            ]
          },
          "metadata": {
            "tags": [],
            "needs_background": "light"
          }
        }
      ]
    },
    {
      "cell_type": "markdown",
      "metadata": {
        "id": "GAi4y8i2GsZU"
      },
      "source": [
        "  2. DAYS_BIRTH"
      ]
    },
    {
      "cell_type": "code",
      "metadata": {
        "colab": {
          "base_uri": "https://localhost:8080/",
          "height": 363
        },
        "id": "WtVKz-qNETcp",
        "outputId": "f88f7fbb-d859-4769-8a57-b8801169d47d"
      },
      "source": [
        "sns.distplot(train['DAYS_BIRTH'])"
      ],
      "execution_count": null,
      "outputs": [
        {
          "output_type": "stream",
          "text": [
            "/usr/local/lib/python3.7/dist-packages/seaborn/distributions.py:2557: FutureWarning: `distplot` is a deprecated function and will be removed in a future version. Please adapt your code to use either `displot` (a figure-level function with similar flexibility) or `histplot` (an axes-level function for histograms).\n",
            "  warnings.warn(msg, FutureWarning)\n"
          ],
          "name": "stderr"
        },
        {
          "output_type": "execute_result",
          "data": {
            "text/plain": [
              "<matplotlib.axes._subplots.AxesSubplot at 0x7ff8ed7c2f50>"
            ]
          },
          "metadata": {
            "tags": []
          },
          "execution_count": 60
        },
        {
          "output_type": "display_data",
          "data": {
            "image/png": "[encoded data removed]",
            "text/plain": [
              "<Figure size 432x288 with 1 Axes>"
            ]
          },
          "metadata": {
            "tags": [],
            "needs_background": "light"
          }
        }
      ]
    },
    {
      "cell_type": "markdown",
      "metadata": {
        "id": "h_cA90mlG6EN"
      },
      "source": [
        "얘는 log 안해줘도 될 듯"
      ]
    },
    {
      "cell_type": "markdown",
      "metadata": {
        "id": "FZWKF_UGGynp"
      },
      "source": [
        "  3. DAYS_EMPLOYED (360으로 나눠서 EMPLOYED화 한 것)"
      ]
    },
    {
      "cell_type": "code",
      "metadata": {
        "colab": {
          "base_uri": "https://localhost:8080/",
          "height": 351
        },
        "id": "GCHWmAbsHIKV",
        "outputId": "b2492e7e-ef6f-465a-d9b4-0f0c0b70e277"
      },
      "source": [
        "sns.distplot(train['EMPLOYED'])"
      ],
      "execution_count": null,
      "outputs": [
        {
          "output_type": "stream",
          "text": [
            "/usr/local/lib/python3.7/dist-packages/seaborn/distributions.py:2557: FutureWarning: `distplot` is a deprecated function and will be removed in a future version. Please adapt your code to use either `displot` (a figure-level function with similar flexibility) or `histplot` (an axes-level function for histograms).\n",
            "  warnings.warn(msg, FutureWarning)\n"
          ],
          "name": "stderr"
        },
        {
          "output_type": "execute_result",
          "data": {
            "text/plain": [
              "<matplotlib.axes._subplots.AxesSubplot at 0x7ff8ed575390>"
            ]
          },
          "metadata": {
            "tags": []
          },
          "execution_count": 61
        },
        {
          "output_type": "display_data",
          "data": {
            "image/png": "[encoded data removed]",
            "text/plain": [
              "<Figure size 432x288 with 1 Axes>"
            ]
          },
          "metadata": {
            "tags": [],
            "needs_background": "light"
          }
        }
      ]
    },
    {
      "cell_type": "code",
      "metadata": {
        "colab": {
          "base_uri": "https://localhost:8080/",
          "height": 351
        },
        "id": "ZKPEIR0SHTY9",
        "outputId": "67672da8-dd43-4f41-f6a6-e499fe815bcf"
      },
      "source": [
        "sns.distplot(np.log1p(train['EMPLOYED']))\n",
        "\n",
        "# 로그변환한 변수로 바꾸기\n",
        "train['EMPLOYED']= np.log1p(train['EMPLOYED'])"
      ],
      "execution_count": null,
      "outputs": [
        {
          "output_type": "stream",
          "text": [
            "/usr/local/lib/python3.7/dist-packages/seaborn/distributions.py:2557: FutureWarning: `distplot` is a deprecated function and will be removed in a future version. Please adapt your code to use either `displot` (a figure-level function with similar flexibility) or `histplot` (an axes-level function for histograms).\n",
            "  warnings.warn(msg, FutureWarning)\n"
          ],
          "name": "stderr"
        },
        {
          "output_type": "execute_result",
          "data": {
            "text/plain": [
              "<matplotlib.axes._subplots.AxesSubplot at 0x7ff8ed3ff7d0>"
            ]
          },
          "metadata": {
            "tags": []
          },
          "execution_count": 62
        },
        {
          "output_type": "display_data",
          "data": {
            "image/png": "[encoded data removed]",
            "text/plain": [
              "<Figure size 432x288 with 1 Axes>"
            ]
          },
          "metadata": {
            "tags": [],
            "needs_background": "light"
          }
        }
      ]
    },
    {
      "cell_type": "code",
      "metadata": {
        "colab": {
          "base_uri": "https://localhost:8080/",
          "height": 386
        },
        "id": "z52K96TkHTTq",
        "outputId": "384f9fd1-9988-421b-f0d4-a3ed91bcce36"
      },
      "source": [
        "# test도 해주기\n",
        "\n",
        "fig, (ax1,ax2) = plt.subplots(ncols=2)\n",
        "fig.set_size_inches(8,4)\n",
        "sns.distplot(test['EMPLOYED'],ax=ax1)\n",
        "sns.distplot(np.log1p(test['EMPLOYED']),ax=ax2)"
      ],
      "execution_count": null,
      "outputs": [
        {
          "output_type": "stream",
          "text": [
            "/usr/local/lib/python3.7/dist-packages/seaborn/distributions.py:2557: FutureWarning: `distplot` is a deprecated function and will be removed in a future version. Please adapt your code to use either `displot` (a figure-level function with similar flexibility) or `histplot` (an axes-level function for histograms).\n",
            "  warnings.warn(msg, FutureWarning)\n"
          ],
          "name": "stderr"
        },
        {
          "output_type": "execute_result",
          "data": {
            "text/plain": [
              "<matplotlib.axes._subplots.AxesSubplot at 0x7ff8ed3ffd90>"
            ]
          },
          "metadata": {
            "tags": []
          },
          "execution_count": 63
        },
        {
          "output_type": "stream",
          "text": [
            "/usr/local/lib/python3.7/dist-packages/seaborn/distributions.py:2557: FutureWarning: `distplot` is a deprecated function and will be removed in a future version. Please adapt your code to use either `displot` (a figure-level function with similar flexibility) or `histplot` (an axes-level function for histograms).\n",
            "  warnings.warn(msg, FutureWarning)\n"
          ],
          "name": "stderr"
        },
        {
          "output_type": "execute_result",
          "data": {
            "text/plain": [
              "<matplotlib.axes._subplots.AxesSubplot at 0x7ff8ed3746d0>"
            ]
          },
          "metadata": {
            "tags": []
          },
          "execution_count": 63
        },
        {
          "output_type": "display_data",
          "data": {
            "image/png": "[encoded data removed]",
            "text/plain": [
              "<Figure size 576x288 with 2 Axes>"
            ]
          },
          "metadata": {
            "tags": [],
            "needs_background": "light"
          }
        }
      ]
    },
    {
      "cell_type": "code",
      "metadata": {
        "colab": {
          "base_uri": "https://localhost:8080/"
        },
        "id": "RS2xlpOOHTMJ",
        "outputId": "02ec2024-8c63-47ec-fe51-869f1e043c3e"
      },
      "source": [
        "train.groupby(['child_num'])['child_num'].count()"
      ],
      "execution_count": null,
      "outputs": [
        {
          "output_type": "execute_result",
          "data": {
            "text/plain": [
              "child_num\n",
              "0     18340\n",
              "1      5386\n",
              "2      2362\n",
              "3       306\n",
              "4        47\n",
              "5        10\n",
              "7         2\n",
              "14        3\n",
              "19        1\n",
              "Name: child_num, dtype: int64"
            ]
          },
          "metadata": {
            "tags": []
          },
          "execution_count": 15
        }
      ]
    },
    {
      "cell_type": "code",
      "metadata": {
        "colab": {
          "base_uri": "https://localhost:8080/"
        },
        "id": "PdH7GC4OIziy",
        "outputId": "f9cc8db3-68b4-4db8-feea-da7b806f665f"
      },
      "source": [
        "train.groupby(['family_size'])['family_size'].count()"
      ],
      "execution_count": null,
      "outputs": [
        {
          "output_type": "execute_result",
          "data": {
            "text/plain": [
              "family_size\n",
              "1.0      5109\n",
              "2.0     14106\n",
              "3.0      4632\n",
              "4.0      2260\n",
              "5.0       291\n",
              "6.0        44\n",
              "7.0         9\n",
              "9.0         2\n",
              "15.0        3\n",
              "20.0        1\n",
              "Name: family_size, dtype: int64"
            ]
          },
          "metadata": {
            "tags": []
          },
          "execution_count": 16
        }
      ]
    },
    {
      "cell_type": "code",
      "metadata": {
        "id": "7UQCD2T-I_eY"
      },
      "source": [
        "# child_num이 14, 19인 행 지우기\n",
        "\n",
        "idx_child_drop = train[(train['child_num'] == 14)|(train['child_num'] == 19)].index\n",
        "train = train.drop(idx_child_drop)"
      ],
      "execution_count": null,
      "outputs": []
    },
    {
      "cell_type": "code",
      "metadata": {
        "id": "NVtxzYz6M2Rx"
      },
      "source": [
        "# child_num이 family_size보다 큰 행도 지우기\n",
        "\n",
        "idx_child_drop2 = train[train['family_size'] < train['child_num']].index\n",
        "train = train.drop(idx_child_drop2)"
      ],
      "execution_count": null,
      "outputs": []
    },
    {
      "cell_type": "code",
      "metadata": {
        "colab": {
          "base_uri": "https://localhost:8080/"
        },
        "id": "ulBU0o1_I_YA",
        "outputId": "13c0cfa6-94ea-45ab-87bc-719a7f4c70a5"
      },
      "source": [
        "train.shape"
      ],
      "execution_count": null,
      "outputs": [
        {
          "output_type": "execute_result",
          "data": {
            "text/plain": [
              "(26452, 22)"
            ]
          },
          "metadata": {
            "tags": []
          },
          "execution_count": 66
        }
      ]
    },
    {
      "cell_type": "code",
      "metadata": {
        "colab": {
          "base_uri": "https://localhost:8080/"
        },
        "id": "IH2a5S-TKj9U",
        "outputId": "e66d66f2-7c7d-4daa-cf28-b09262aef557"
      },
      "source": [
        "train.groupby(['family_size'])['family_size'].count()"
      ],
      "execution_count": null,
      "outputs": [
        {
          "output_type": "execute_result",
          "data": {
            "text/plain": [
              "family_size\n",
              "1.0     5108\n",
              "2.0    14106\n",
              "3.0     4632\n",
              "4.0     2260\n",
              "5.0      291\n",
              "6.0       44\n",
              "7.0        9\n",
              "9.0        2\n",
              "Name: family_size, dtype: int64"
            ]
          },
          "metadata": {
            "tags": []
          },
          "execution_count": 67
        }
      ]
    },
    {
      "cell_type": "code",
      "metadata": {
        "colab": {
          "base_uri": "https://localhost:8080/"
        },
        "id": "596Z1MGGKU4f",
        "outputId": "ba11b6ce-07c8-4d4c-b8de-b32cf329c226"
      },
      "source": [
        "# test도 지우면 좋을 애 있는지 확인\n",
        "\n",
        "test.groupby(['child_num'])['child_num'].count()"
      ],
      "execution_count": null,
      "outputs": [
        {
          "output_type": "execute_result",
          "data": {
            "text/plain": [
              "child_num\n",
              "0    6861\n",
              "1    2106\n",
              "2     894\n",
              "3     113\n",
              "4      16\n",
              "5      10\n",
              "Name: child_num, dtype: int64"
            ]
          },
          "metadata": {
            "tags": []
          },
          "execution_count": 68
        }
      ]
    },
    {
      "cell_type": "code",
      "metadata": {
        "colab": {
          "base_uri": "https://localhost:8080/"
        },
        "id": "FRYFPd6BKbcf",
        "outputId": "46c1eceb-95fc-4a52-b587-c2bb97c75ffc"
      },
      "source": [
        "test.groupby(['family_size'])['family_size'].count()"
      ],
      "execution_count": null,
      "outputs": [
        {
          "output_type": "execute_result",
          "data": {
            "text/plain": [
              "family_size\n",
              "1.0    1878\n",
              "2.0    5357\n",
              "3.0    1789\n",
              "4.0     846\n",
              "5.0     106\n",
              "6.0      14\n",
              "7.0      10\n",
              "Name: family_size, dtype: int64"
            ]
          },
          "metadata": {
            "tags": []
          },
          "execution_count": 69
        }
      ]
    },
    {
      "cell_type": "code",
      "metadata": {
        "id": "OVz648esNaB-"
      },
      "source": [
        "# test도 드랍\n",
        "idx_child_drop_test = test[test['family_size'] < test['child_num']].index\n",
        "test = test.drop(idx_child_drop_test)"
      ],
      "execution_count": null,
      "outputs": []
    },
    {
      "cell_type": "markdown",
      "metadata": {
        "id": "wKtuhxHEYkgA"
      },
      "source": [
        "family_size와 child_num에서의 이상치값 제거"
      ]
    },
    {
      "cell_type": "markdown",
      "metadata": {
        "id": "Qdibb--zNE1j"
      },
      "source": [
        "### 4) child_num, family_size 관련 컬럼 추가\n",
        "\n",
        "child_num, family_size 두개 중 하나를 빼면 성능이 오히려 낮아지는 것 같아서 둘을 가공한 새로운 컬럼을 만들어서 해보려고 한다.\n",
        "\n",
        "1. child_num/family_size -> cf_ratio\n",
        "2. income_total/child_num -> ic_ratio  # 근데 이 경우에는 inf 생김-> 삭제  \n",
        "3. income_total/family_size -> if_ratio\n"
      ]
    },
    {
      "cell_type": "code",
      "metadata": {
        "id": "PkAwu_lmKbaM"
      },
      "source": [
        "train['cf_ratio'] = train['child_num'] / train['family_size']\n",
        "test['cf_ratio'] = test['child_num'] / test['family_size']\n",
        "\n",
        "train['if_ratio'] = train['income_total'] / train['family_size']\n",
        "test['if_ratio'] = test['income_total'] / test['family_size']"
      ],
      "execution_count": null,
      "outputs": []
    },
    {
      "cell_type": "code",
      "metadata": {
        "colab": {
          "base_uri": "https://localhost:8080/"
        },
        "id": "tdwNhrDLKbYE",
        "outputId": "a97a6d30-0740-496c-a86f-c5bfbe7ee75d"
      },
      "source": [
        "train['cf_ratio'].head()"
      ],
      "execution_count": null,
      "outputs": [
        {
          "output_type": "execute_result",
          "data": {
            "text/plain": [
              "0    0.000000\n",
              "1    0.333333\n",
              "2    0.000000\n",
              "3    0.000000\n",
              "4    0.000000\n",
              "Name: cf_ratio, dtype: float64"
            ]
          },
          "metadata": {
            "tags": []
          },
          "execution_count": 25
        }
      ]
    },
    {
      "cell_type": "code",
      "metadata": {
        "colab": {
          "base_uri": "https://localhost:8080/"
        },
        "id": "_Hx9wVQ-KbVc",
        "outputId": "7ec39c8b-669b-45d9-b833-2a520e45a659"
      },
      "source": [
        "train['ic_ratio'].head()"
      ],
      "execution_count": null,
      "outputs": [
        {
          "output_type": "execute_result",
          "data": {
            "text/plain": [
              "0         inf\n",
              "1    12.41917\n",
              "2         inf\n",
              "3         inf\n",
              "4         inf\n",
              "Name: ic_ratio, dtype: float64"
            ]
          },
          "metadata": {
            "tags": []
          },
          "execution_count": 26
        }
      ]
    },
    {
      "cell_type": "code",
      "metadata": {
        "colab": {
          "base_uri": "https://localhost:8080/"
        },
        "id": "v6s0ORDoKTi0",
        "outputId": "4b4153ea-92f1-4ac3-fe07-95a7102210c5"
      },
      "source": [
        "train['if_ratio'].head()"
      ],
      "execution_count": null,
      "outputs": [
        {
          "output_type": "execute_result",
          "data": {
            "text/plain": [
              "0    6.109250\n",
              "1    4.139723\n",
              "2    6.508503\n",
              "3    6.109250\n",
              "4    5.983594\n",
              "Name: if_ratio, dtype: float64"
            ]
          },
          "metadata": {
            "tags": []
          },
          "execution_count": 27
        }
      ]
    },
    {
      "cell_type": "markdown",
      "metadata": {
        "id": "9dOT0DNzNt4K"
      },
      "source": [
        "### 5) 결측치 처리\n",
        "\n",
        "먼저 days_employed가 0인 애들은 'unemployed'로 주기  \n",
        "백수 처리"
      ]
    },
    {
      "cell_type": "code",
      "metadata": {
        "colab": {
          "base_uri": "https://localhost:8080/"
        },
        "id": "Nb2QcS9JN4qX",
        "outputId": "799aff86-e10b-42d6-d182-28c66c62f6a4"
      },
      "source": [
        "train['DAYS_EMPLOYED'].count"
      ],
      "execution_count": null,
      "outputs": [
        {
          "output_type": "execute_result",
          "data": {
            "text/plain": [
              "<bound method Series.count of 0        4709\n",
              "1        1540\n",
              "2        4434\n",
              "3        2092\n",
              "4        2105\n",
              "         ... \n",
              "26452    1984\n",
              "26453    2475\n",
              "26454    2015\n",
              "26455     107\n",
              "26456    1013\n",
              "Name: DAYS_EMPLOYED, Length: 26452, dtype: int64>"
            ]
          },
          "metadata": {
            "tags": []
          },
          "execution_count": 72
        }
      ]
    },
    {
      "cell_type": "code",
      "metadata": {
        "id": "GGIauZ5tN4nw"
      },
      "source": [
        "def unemployed(data):\n",
        "  data.loc[(data['DAYS_EMPLOYED'] == 0), 'occyp_type'] = 'unemployed'\n",
        "\n",
        "unemployed(train)"
      ],
      "execution_count": null,
      "outputs": []
    },
    {
      "cell_type": "code",
      "metadata": {
        "colab": {
          "base_uri": "https://localhost:8080/"
        },
        "id": "NOjVftzhVg1m",
        "outputId": "10032cd8-5b4d-489c-df12-1e85f4f71ea6"
      },
      "source": [
        "train.info()"
      ],
      "execution_count": null,
      "outputs": [
        {
          "output_type": "stream",
          "text": [
            "<class 'pandas.core.frame.DataFrame'>\n",
            "Int64Index: 26452 entries, 0 to 26456\n",
            "Data columns (total 25 columns):\n",
            "index            26452 non-null int64\n",
            "gender           26452 non-null int64\n",
            "car              26452 non-null int64\n",
            "reality          26452 non-null int64\n",
            "child_num        26452 non-null int64\n",
            "income_total     26452 non-null float64\n",
            "income_type      26452 non-null object\n",
            "edu_type         26452 non-null object\n",
            "family_type      26452 non-null object\n",
            "house_type       26452 non-null object\n",
            "DAYS_BIRTH       26452 non-null int64\n",
            "DAYS_EMPLOYED    26452 non-null int64\n",
            "FLAG_MOBIL       26452 non-null int64\n",
            "work_phone       26452 non-null int64\n",
            "phone            26452 non-null int64\n",
            "email            26452 non-null int64\n",
            "occyp_type       22719 non-null object\n",
            "family_size      26452 non-null float64\n",
            "begin_month      26452 non-null int64\n",
            "credit           26452 non-null float64\n",
            "EMPLOYED         26452 non-null float64\n",
            "age              26452 non-null int64\n",
            "cf_ratio         26452 non-null float64\n",
            "ic_ratio         26452 non-null float64\n",
            "if_ratio         26452 non-null float64\n",
            "dtypes: float64(7), int64(13), object(5)\n",
            "memory usage: 5.2+ MB\n"
          ],
          "name": "stdout"
        }
      ]
    },
    {
      "cell_type": "code",
      "metadata": {
        "id": "pbAdLyoeMDQV"
      },
      "source": [
        "# test도\n",
        "\n",
        "unemployed(test)"
      ],
      "execution_count": null,
      "outputs": []
    },
    {
      "cell_type": "code",
      "metadata": {
        "colab": {
          "base_uri": "https://localhost:8080/",
          "height": 305
        },
        "id": "Qro8YkB6Z--F",
        "outputId": "19268703-023a-42d1-9fac-6a89232ed9e8"
      },
      "source": [
        "train.head()"
      ],
      "execution_count": null,
      "outputs": [
        {
          "output_type": "execute_result",
          "data": {
            "text/html": [
              "<div>\n",
              "<style scoped>\n",
              "    .dataframe tbody tr th:only-of-type {\n",
              "        vertical-align: middle;\n",
              "    }\n",
              "\n",
              "    .dataframe tbody tr th {\n",
              "        vertical-align: top;\n",
              "    }\n",
              "\n",
              "    .dataframe thead th {\n",
              "        text-align: right;\n",
              "    }\n",
              "</style>\n",
              "<table border=\"1\" class=\"dataframe\">\n",
              "  <thead>\n",
              "    <tr style=\"text-align: right;\">\n",
              "      <th></th>\n",
              "      <th>index</th>\n",
              "      <th>gender</th>\n",
              "      <th>car</th>\n",
              "      <th>reality</th>\n",
              "      <th>child_num</th>\n",
              "      <th>income_total</th>\n",
              "      <th>income_type</th>\n",
              "      <th>edu_type</th>\n",
              "      <th>family_type</th>\n",
              "      <th>house_type</th>\n",
              "      <th>DAYS_BIRTH</th>\n",
              "      <th>DAYS_EMPLOYED</th>\n",
              "      <th>FLAG_MOBIL</th>\n",
              "      <th>work_phone</th>\n",
              "      <th>phone</th>\n",
              "      <th>email</th>\n",
              "      <th>occyp_type</th>\n",
              "      <th>family_size</th>\n",
              "      <th>begin_month</th>\n",
              "      <th>credit</th>\n",
              "      <th>EMPLOYED</th>\n",
              "      <th>age</th>\n",
              "      <th>cf_ratio</th>\n",
              "      <th>ic_ratio</th>\n",
              "      <th>if_ratio</th>\n",
              "    </tr>\n",
              "  </thead>\n",
              "  <tbody>\n",
              "    <tr>\n",
              "      <th>0</th>\n",
              "      <td>0</td>\n",
              "      <td>0</td>\n",
              "      <td>0</td>\n",
              "      <td>0</td>\n",
              "      <td>0</td>\n",
              "      <td>12.218500</td>\n",
              "      <td>Commercial associate</td>\n",
              "      <td>Higher education</td>\n",
              "      <td>Married</td>\n",
              "      <td>Municipal apartment</td>\n",
              "      <td>13899</td>\n",
              "      <td>4709</td>\n",
              "      <td>1</td>\n",
              "      <td>0</td>\n",
              "      <td>0</td>\n",
              "      <td>0</td>\n",
              "      <td>NaN</td>\n",
              "      <td>2.0</td>\n",
              "      <td>6</td>\n",
              "      <td>1.0</td>\n",
              "      <td>2.644795</td>\n",
              "      <td>38</td>\n",
              "      <td>0.000000</td>\n",
              "      <td>inf</td>\n",
              "      <td>6.109250</td>\n",
              "    </tr>\n",
              "    <tr>\n",
              "      <th>1</th>\n",
              "      <td>1</td>\n",
              "      <td>0</td>\n",
              "      <td>0</td>\n",
              "      <td>1</td>\n",
              "      <td>1</td>\n",
              "      <td>12.419170</td>\n",
              "      <td>Commercial associate</td>\n",
              "      <td>Secondary / secondary special</td>\n",
              "      <td>Civil marriage</td>\n",
              "      <td>House / apartment</td>\n",
              "      <td>11380</td>\n",
              "      <td>1540</td>\n",
              "      <td>1</td>\n",
              "      <td>0</td>\n",
              "      <td>0</td>\n",
              "      <td>1</td>\n",
              "      <td>Laborers</td>\n",
              "      <td>3.0</td>\n",
              "      <td>5</td>\n",
              "      <td>1.0</td>\n",
              "      <td>1.663505</td>\n",
              "      <td>31</td>\n",
              "      <td>0.333333</td>\n",
              "      <td>12.41917</td>\n",
              "      <td>4.139723</td>\n",
              "    </tr>\n",
              "    <tr>\n",
              "      <th>2</th>\n",
              "      <td>2</td>\n",
              "      <td>1</td>\n",
              "      <td>1</td>\n",
              "      <td>1</td>\n",
              "      <td>0</td>\n",
              "      <td>13.017005</td>\n",
              "      <td>Working</td>\n",
              "      <td>Higher education</td>\n",
              "      <td>Married</td>\n",
              "      <td>House / apartment</td>\n",
              "      <td>19087</td>\n",
              "      <td>4434</td>\n",
              "      <td>1</td>\n",
              "      <td>0</td>\n",
              "      <td>1</td>\n",
              "      <td>0</td>\n",
              "      <td>Managers</td>\n",
              "      <td>2.0</td>\n",
              "      <td>22</td>\n",
              "      <td>2.0</td>\n",
              "      <td>2.589016</td>\n",
              "      <td>53</td>\n",
              "      <td>0.000000</td>\n",
              "      <td>inf</td>\n",
              "      <td>6.508503</td>\n",
              "    </tr>\n",
              "    <tr>\n",
              "      <th>3</th>\n",
              "      <td>3</td>\n",
              "      <td>0</td>\n",
              "      <td>0</td>\n",
              "      <td>1</td>\n",
              "      <td>0</td>\n",
              "      <td>12.218500</td>\n",
              "      <td>Commercial associate</td>\n",
              "      <td>Secondary / secondary special</td>\n",
              "      <td>Married</td>\n",
              "      <td>House / apartment</td>\n",
              "      <td>15088</td>\n",
              "      <td>2092</td>\n",
              "      <td>1</td>\n",
              "      <td>0</td>\n",
              "      <td>1</td>\n",
              "      <td>0</td>\n",
              "      <td>Sales staff</td>\n",
              "      <td>2.0</td>\n",
              "      <td>37</td>\n",
              "      <td>0.0</td>\n",
              "      <td>1.918555</td>\n",
              "      <td>41</td>\n",
              "      <td>0.000000</td>\n",
              "      <td>inf</td>\n",
              "      <td>6.109250</td>\n",
              "    </tr>\n",
              "    <tr>\n",
              "      <th>4</th>\n",
              "      <td>4</td>\n",
              "      <td>0</td>\n",
              "      <td>1</td>\n",
              "      <td>1</td>\n",
              "      <td>0</td>\n",
              "      <td>11.967187</td>\n",
              "      <td>State servant</td>\n",
              "      <td>Higher education</td>\n",
              "      <td>Married</td>\n",
              "      <td>House / apartment</td>\n",
              "      <td>15037</td>\n",
              "      <td>2105</td>\n",
              "      <td>1</td>\n",
              "      <td>0</td>\n",
              "      <td>0</td>\n",
              "      <td>0</td>\n",
              "      <td>Managers</td>\n",
              "      <td>2.0</td>\n",
              "      <td>26</td>\n",
              "      <td>2.0</td>\n",
              "      <td>1.923843</td>\n",
              "      <td>41</td>\n",
              "      <td>0.000000</td>\n",
              "      <td>inf</td>\n",
              "      <td>5.983594</td>\n",
              "    </tr>\n",
              "  </tbody>\n",
              "</table>\n",
              "</div>"
            ],
            "text/plain": [
              "   index  gender  car  reality  ...  age  cf_ratio  ic_ratio  if_ratio\n",
              "0      0       0    0        0  ...   38  0.000000       inf  6.109250\n",
              "1      1       0    0        1  ...   31  0.333333  12.41917  4.139723\n",
              "2      2       1    1        1  ...   53  0.000000       inf  6.508503\n",
              "3      3       0    0        1  ...   41  0.000000       inf  6.109250\n",
              "4      4       0    1        1  ...   41  0.000000       inf  5.983594\n",
              "\n",
              "[5 rows x 25 columns]"
            ]
          },
          "metadata": {
            "tags": []
          },
          "execution_count": 76
        }
      ]
    },
    {
      "cell_type": "markdown",
      "metadata": {
        "id": "RaSctfbgOeP7"
      },
      "source": [
        "나머지 결측치는 심층신경망 쓰는 알고리즘.... 써서 채워보자\n",
        "\n",
        "Datawig"
      ]
    },
    {
      "cell_type": "code",
      "metadata": {
        "colab": {
          "base_uri": "https://localhost:8080/",
          "height": 561
        },
        "id": "JjDkfWx4N4jo",
        "outputId": "ccbe09a3-2b5a-446f-f724-305a07ca4fce"
      },
      "source": [
        "from sklearn import preprocessing\n",
        "\n",
        "!pip install datawig\n",
        "\n",
        "import datawig"
      ],
      "execution_count": null,
      "outputs": [
        {
          "output_type": "stream",
          "text": [
            "Requirement already satisfied: datawig in /usr/local/lib/python3.7/dist-packages (0.2.0)\n",
            "Requirement already satisfied: typing==3.6.6 in /usr/local/lib/python3.7/dist-packages (from datawig) (3.6.6)\n",
            "Requirement already satisfied: scikit-learn[alldeps]==0.22.1 in /usr/local/lib/python3.7/dist-packages (from datawig) (0.22.1)\n",
            "Collecting pandas==0.25.3\n",
            "  Using cached https://files.pythonhosted.org/packages/63/e0/a1b39cdcb2c391f087a1538bc8a6d62a82d0439693192aef541d7b123769/pandas-0.25.3-cp37-cp37m-manylinux1_x86_64.whl\n",
            "Requirement already satisfied: mxnet==1.4.0 in /usr/local/lib/python3.7/dist-packages (from datawig) (1.4.0)\n",
            "Requirement already satisfied: numpy>=1.11.0 in /usr/local/lib/python3.7/dist-packages (from scikit-learn[alldeps]==0.22.1->datawig) (1.19.5)\n",
            "Requirement already satisfied: scipy>=0.17.0 in /usr/local/lib/python3.7/dist-packages (from scikit-learn[alldeps]==0.22.1->datawig) (1.4.1)\n",
            "Requirement already satisfied: joblib>=0.11 in /usr/local/lib/python3.7/dist-packages (from scikit-learn[alldeps]==0.22.1->datawig) (1.0.1)\n",
            "Requirement already satisfied: pytz>=2017.2 in /usr/local/lib/python3.7/dist-packages (from pandas==0.25.3->datawig) (2018.9)\n",
            "Requirement already satisfied: python-dateutil>=2.6.1 in /usr/local/lib/python3.7/dist-packages (from pandas==0.25.3->datawig) (2.8.1)\n",
            "Requirement already satisfied: requests>=2.20.0 in /usr/local/lib/python3.7/dist-packages (from mxnet==1.4.0->datawig) (2.23.0)\n",
            "Requirement already satisfied: graphviz<0.9.0,>=0.8.1 in /usr/local/lib/python3.7/dist-packages (from mxnet==1.4.0->datawig) (0.8.4)\n",
            "Requirement already satisfied: six>=1.5 in /usr/local/lib/python3.7/dist-packages (from python-dateutil>=2.6.1->pandas==0.25.3->datawig) (1.15.0)\n",
            "Requirement already satisfied: chardet<4,>=3.0.2 in /usr/local/lib/python3.7/dist-packages (from requests>=2.20.0->mxnet==1.4.0->datawig) (3.0.4)\n",
            "Requirement already satisfied: certifi>=2017.4.17 in /usr/local/lib/python3.7/dist-packages (from requests>=2.20.0->mxnet==1.4.0->datawig) (2020.12.5)\n",
            "Requirement already satisfied: idna<3,>=2.5 in /usr/local/lib/python3.7/dist-packages (from requests>=2.20.0->mxnet==1.4.0->datawig) (2.10)\n",
            "Requirement already satisfied: urllib3!=1.25.0,!=1.25.1,<1.26,>=1.21.1 in /usr/local/lib/python3.7/dist-packages (from requests>=2.20.0->mxnet==1.4.0->datawig) (1.24.3)\n",
            "\u001b[31mERROR: xarray 0.18.0 has requirement pandas>=1.0, but you'll have pandas 0.25.3 which is incompatible.\u001b[0m\n",
            "\u001b[31mERROR: google-colab 1.0.0 has requirement pandas~=1.1.0; python_version >= \"3.0\", but you'll have pandas 0.25.3 which is incompatible.\u001b[0m\n",
            "\u001b[31mERROR: fbprophet 0.7.1 has requirement pandas>=1.0.4, but you'll have pandas 0.25.3 which is incompatible.\u001b[0m\n",
            "Installing collected packages: pandas\n",
            "  Found existing installation: pandas 0.25.0\n",
            "    Uninstalling pandas-0.25.0:\n",
            "      Successfully uninstalled pandas-0.25.0\n",
            "Successfully installed pandas-0.25.3\n"
          ],
          "name": "stdout"
        },
        {
          "output_type": "display_data",
          "data": {
            "application/vnd.colab-display-data+json": {
              "pip_warning": {
                "packages": [
                  "pandas"
                ]
              }
            }
          },
          "metadata": {
            "tags": []
          }
        }
      ]
    },
    {
      "cell_type": "code",
      "metadata": {
        "id": "OoGFdvrON4gq"
      },
      "source": [
        "train_label = train.copy()\n",
        "test_label = test.copy()\n",
        "label_encoder=preprocessing.LabelEncoder()\n",
        "\n",
        "# 소득 형태 변환\n",
        "train_label['income_type']=label_encoder.fit_transform(train['income_type'])\n",
        "test_label['income_type']=label_encoder.transform(test['income_type'])\n",
        "\n",
        "# 학력 수준 변환\n",
        "train_label['edu_type']=label_encoder.fit_transform(train['edu_type'])\n",
        "test_label['edu_type']=label_encoder.transform(test['edu_type'])\n",
        "\n",
        "# 가족 형태 변환\n",
        "train_label['family_type']=label_encoder.fit_transform(train['family_type'])\n",
        "test_label['family_type']=label_encoder.transform(test['family_type'])\n",
        "\n",
        "# 가족 형태 변환\n",
        "train_label['house_type']=label_encoder.fit_transform(train['house_type'])\n",
        "test_label['house_type']=label_encoder.transform(test['house_type'])\n",
        "\n",
        "# 직업 형태 변환\n",
        "train_label['occyp_type']=label_encoder.fit_transform(train['occyp_type'].astype(str))\n",
        "test_label['occyp_type']=label_encoder.fit_transform(test['occyp_type'].astype(str))"
      ],
      "execution_count": null,
      "outputs": []
    },
    {
      "cell_type": "code",
      "metadata": {
        "colab": {
          "base_uri": "https://localhost:8080/",
          "height": 386
        },
        "id": "ssnXpmo0OS2-",
        "outputId": "7f3f191c-2dfd-4711-b9cb-1c6de2b7f541"
      },
      "source": [
        "# pip install pandas==0.25.0"
      ],
      "execution_count": null,
      "outputs": [
        {
          "output_type": "stream",
          "text": [
            "Collecting pandas==0.25.0\n",
            "\u001b[?25l  Downloading https://files.pythonhosted.org/packages/3b/42/dc1f4820b95fbdbc9352ec9ad0f0c40db2122e1f2440ea53c7f9fbccf2b8/pandas-0.25.0-cp37-cp37m-manylinux1_x86_64.whl (10.4MB)\n",
            "\u001b[K     |████████████████████████████████| 10.4MB 7.3MB/s \n",
            "\u001b[?25hRequirement already satisfied: pytz>=2017.2 in /usr/local/lib/python3.7/dist-packages (from pandas==0.25.0) (2018.9)\n",
            "Requirement already satisfied: python-dateutil>=2.6.1 in /usr/local/lib/python3.7/dist-packages (from pandas==0.25.0) (2.8.1)\n",
            "Requirement already satisfied: numpy>=1.13.3 in /usr/local/lib/python3.7/dist-packages (from pandas==0.25.0) (1.19.5)\n",
            "Requirement already satisfied: six>=1.5 in /usr/local/lib/python3.7/dist-packages (from python-dateutil>=2.6.1->pandas==0.25.0) (1.15.0)\n",
            "\u001b[31mERROR: xarray 0.18.0 has requirement pandas>=1.0, but you'll have pandas 0.25.0 which is incompatible.\u001b[0m\n",
            "\u001b[31mERROR: google-colab 1.0.0 has requirement pandas~=1.1.0; python_version >= \"3.0\", but you'll have pandas 0.25.0 which is incompatible.\u001b[0m\n",
            "\u001b[31mERROR: fbprophet 0.7.1 has requirement pandas>=1.0.4, but you'll have pandas 0.25.0 which is incompatible.\u001b[0m\n",
            "\u001b[31mERROR: datawig 0.2.0 has requirement pandas==0.25.3, but you'll have pandas 0.25.0 which is incompatible.\u001b[0m\n",
            "Installing collected packages: pandas\n",
            "  Found existing installation: pandas 0.25.3\n",
            "    Uninstalling pandas-0.25.3:\n",
            "      Successfully uninstalled pandas-0.25.3\n",
            "Successfully installed pandas-0.25.0\n"
          ],
          "name": "stdout"
        },
        {
          "output_type": "display_data",
          "data": {
            "application/vnd.colab-display-data+json": {
              "pip_warning": {
                "packages": [
                  "pandas"
                ]
              }
            }
          },
          "metadata": {
            "tags": []
          }
        }
      ]
    },
    {
      "cell_type": "code",
      "metadata": {
        "colab": {
          "base_uri": "https://localhost:8080/",
          "height": 786
        },
        "id": "y1dFpvDvTZs0",
        "outputId": "4673db2c-07ae-45d9-b258-7ce6fadf88d8"
      },
      "source": [
        "train_label.corr()"
      ],
      "execution_count": null,
      "outputs": [
        {
          "output_type": "execute_result",
          "data": {
            "text/html": [
              "<div>\n",
              "<style scoped>\n",
              "    .dataframe tbody tr th:only-of-type {\n",
              "        vertical-align: middle;\n",
              "    }\n",
              "\n",
              "    .dataframe tbody tr th {\n",
              "        vertical-align: top;\n",
              "    }\n",
              "\n",
              "    .dataframe thead th {\n",
              "        text-align: right;\n",
              "    }\n",
              "</style>\n",
              "<table border=\"1\" class=\"dataframe\">\n",
              "  <thead>\n",
              "    <tr style=\"text-align: right;\">\n",
              "      <th></th>\n",
              "      <th>index</th>\n",
              "      <th>gender</th>\n",
              "      <th>car</th>\n",
              "      <th>reality</th>\n",
              "      <th>child_num</th>\n",
              "      <th>income_total</th>\n",
              "      <th>income_type</th>\n",
              "      <th>edu_type</th>\n",
              "      <th>family_type</th>\n",
              "      <th>house_type</th>\n",
              "      <th>DAYS_BIRTH</th>\n",
              "      <th>DAYS_EMPLOYED</th>\n",
              "      <th>FLAG_MOBIL</th>\n",
              "      <th>work_phone</th>\n",
              "      <th>phone</th>\n",
              "      <th>email</th>\n",
              "      <th>occyp_type</th>\n",
              "      <th>family_size</th>\n",
              "      <th>begin_month</th>\n",
              "      <th>credit</th>\n",
              "      <th>EMPLOYED</th>\n",
              "      <th>age</th>\n",
              "      <th>cf_ratio</th>\n",
              "      <th>ic_ratio</th>\n",
              "      <th>if_ratio</th>\n",
              "    </tr>\n",
              "  </thead>\n",
              "  <tbody>\n",
              "    <tr>\n",
              "      <th>index</th>\n",
              "      <td>1.000000</td>\n",
              "      <td>-0.006306</td>\n",
              "      <td>0.004171</td>\n",
              "      <td>0.006656</td>\n",
              "      <td>0.001048</td>\n",
              "      <td>0.004475</td>\n",
              "      <td>0.009495</td>\n",
              "      <td>-0.003191</td>\n",
              "      <td>0.009164</td>\n",
              "      <td>-0.002158</td>\n",
              "      <td>0.008884</td>\n",
              "      <td>-0.000409</td>\n",
              "      <td>NaN</td>\n",
              "      <td>-0.005540</td>\n",
              "      <td>-0.001756</td>\n",
              "      <td>0.005336</td>\n",
              "      <td>-0.000073</td>\n",
              "      <td>-0.002890</td>\n",
              "      <td>-0.002248</td>\n",
              "      <td>-0.007850</td>\n",
              "      <td>-0.001895</td>\n",
              "      <td>0.008844</td>\n",
              "      <td>0.003113</td>\n",
              "      <td>0.005561</td>\n",
              "      <td>0.004483</td>\n",
              "    </tr>\n",
              "    <tr>\n",
              "      <th>gender</th>\n",
              "      <td>-0.006306</td>\n",
              "      <td>1.000000</td>\n",
              "      <td>0.362132</td>\n",
              "      <td>-0.048955</td>\n",
              "      <td>0.076737</td>\n",
              "      <td>0.231521</td>\n",
              "      <td>0.102934</td>\n",
              "      <td>0.006226</td>\n",
              "      <td>-0.102035</td>\n",
              "      <td>0.067504</td>\n",
              "      <td>-0.201263</td>\n",
              "      <td>-0.033906</td>\n",
              "      <td>NaN</td>\n",
              "      <td>0.064497</td>\n",
              "      <td>-0.026904</td>\n",
              "      <td>0.000167</td>\n",
              "      <td>-0.136227</td>\n",
              "      <td>0.111463</td>\n",
              "      <td>-0.007852</td>\n",
              "      <td>0.001433</td>\n",
              "      <td>0.055844</td>\n",
              "      <td>-0.201519</td>\n",
              "      <td>0.066962</td>\n",
              "      <td>-0.005659</td>\n",
              "      <td>-0.089004</td>\n",
              "    </tr>\n",
              "    <tr>\n",
              "      <th>car</th>\n",
              "      <td>0.004171</td>\n",
              "      <td>0.362132</td>\n",
              "      <td>1.000000</td>\n",
              "      <td>-0.016613</td>\n",
              "      <td>0.103048</td>\n",
              "      <td>0.231394</td>\n",
              "      <td>0.048220</td>\n",
              "      <td>-0.105696</td>\n",
              "      <td>-0.124334</td>\n",
              "      <td>0.018668</td>\n",
              "      <td>-0.156993</td>\n",
              "      <td>0.004376</td>\n",
              "      <td>NaN</td>\n",
              "      <td>0.026289</td>\n",
              "      <td>-0.013562</td>\n",
              "      <td>0.018958</td>\n",
              "      <td>-0.126614</td>\n",
              "      <td>0.150871</td>\n",
              "      <td>0.029828</td>\n",
              "      <td>0.007650</td>\n",
              "      <td>0.082281</td>\n",
              "      <td>-0.156892</td>\n",
              "      <td>0.094127</td>\n",
              "      <td>-0.027130</td>\n",
              "      <td>-0.138653</td>\n",
              "    </tr>\n",
              "    <tr>\n",
              "      <th>reality</th>\n",
              "      <td>0.006656</td>\n",
              "      <td>-0.048955</td>\n",
              "      <td>-0.016613</td>\n",
              "      <td>1.000000</td>\n",
              "      <td>-0.001586</td>\n",
              "      <td>0.036216</td>\n",
              "      <td>-0.048522</td>\n",
              "      <td>0.011502</td>\n",
              "      <td>0.028030</td>\n",
              "      <td>-0.177957</td>\n",
              "      <td>0.130237</td>\n",
              "      <td>-0.038528</td>\n",
              "      <td>NaN</td>\n",
              "      <td>-0.208717</td>\n",
              "      <td>-0.065588</td>\n",
              "      <td>0.051105</td>\n",
              "      <td>0.051685</td>\n",
              "      <td>-0.008507</td>\n",
              "      <td>-0.003865</td>\n",
              "      <td>-0.009422</td>\n",
              "      <td>-0.066377</td>\n",
              "      <td>0.130740</td>\n",
              "      <td>-0.002811</td>\n",
              "      <td>0.007670</td>\n",
              "      <td>0.018385</td>\n",
              "    </tr>\n",
              "    <tr>\n",
              "      <th>child_num</th>\n",
              "      <td>0.001048</td>\n",
              "      <td>0.076737</td>\n",
              "      <td>0.103048</td>\n",
              "      <td>-0.001586</td>\n",
              "      <td>1.000000</td>\n",
              "      <td>0.037392</td>\n",
              "      <td>0.106968</td>\n",
              "      <td>-0.052706</td>\n",
              "      <td>-0.169425</td>\n",
              "      <td>0.024800</td>\n",
              "      <td>-0.343208</td>\n",
              "      <td>0.045096</td>\n",
              "      <td>NaN</td>\n",
              "      <td>0.052559</td>\n",
              "      <td>-0.010969</td>\n",
              "      <td>0.017641</td>\n",
              "      <td>-0.147514</td>\n",
              "      <td>0.886867</td>\n",
              "      <td>0.007410</td>\n",
              "      <td>0.002038</td>\n",
              "      <td>0.142690</td>\n",
              "      <td>-0.343496</td>\n",
              "      <td>0.954081</td>\n",
              "      <td>-0.944967</td>\n",
              "      <td>-0.589365</td>\n",
              "    </tr>\n",
              "    <tr>\n",
              "      <th>income_total</th>\n",
              "      <td>0.004475</td>\n",
              "      <td>0.231521</td>\n",
              "      <td>0.231394</td>\n",
              "      <td>0.036216</td>\n",
              "      <td>0.037392</td>\n",
              "      <td>1.000000</td>\n",
              "      <td>-0.057411</td>\n",
              "      <td>-0.227453</td>\n",
              "      <td>-0.000113</td>\n",
              "      <td>-0.000551</td>\n",
              "      <td>-0.105337</td>\n",
              "      <td>0.101063</td>\n",
              "      <td>NaN</td>\n",
              "      <td>-0.045965</td>\n",
              "      <td>0.001577</td>\n",
              "      <td>0.091742</td>\n",
              "      <td>-0.133123</td>\n",
              "      <td>0.022958</td>\n",
              "      <td>0.023685</td>\n",
              "      <td>0.005496</td>\n",
              "      <td>0.172590</td>\n",
              "      <td>-0.105233</td>\n",
              "      <td>0.047047</td>\n",
              "      <td>0.158055</td>\n",
              "      <td>0.077386</td>\n",
              "    </tr>\n",
              "    <tr>\n",
              "      <th>income_type</th>\n",
              "      <td>0.009495</td>\n",
              "      <td>0.102934</td>\n",
              "      <td>0.048220</td>\n",
              "      <td>-0.048522</td>\n",
              "      <td>0.106968</td>\n",
              "      <td>-0.057411</td>\n",
              "      <td>1.000000</td>\n",
              "      <td>0.056578</td>\n",
              "      <td>-0.050915</td>\n",
              "      <td>0.033068</td>\n",
              "      <td>-0.211485</td>\n",
              "      <td>0.188913</td>\n",
              "      <td>NaN</td>\n",
              "      <td>0.161894</td>\n",
              "      <td>0.004473</td>\n",
              "      <td>-0.020006</td>\n",
              "      <td>-0.213458</td>\n",
              "      <td>0.107587</td>\n",
              "      <td>-0.002777</td>\n",
              "      <td>-0.008284</td>\n",
              "      <td>0.280467</td>\n",
              "      <td>-0.211611</td>\n",
              "      <td>0.108785</td>\n",
              "      <td>-0.064209</td>\n",
              "      <td>-0.094981</td>\n",
              "    </tr>\n",
              "    <tr>\n",
              "      <th>edu_type</th>\n",
              "      <td>-0.003191</td>\n",
              "      <td>0.006226</td>\n",
              "      <td>-0.105696</td>\n",
              "      <td>0.011502</td>\n",
              "      <td>-0.052706</td>\n",
              "      <td>-0.227453</td>\n",
              "      <td>0.056578</td>\n",
              "      <td>1.000000</td>\n",
              "      <td>0.008633</td>\n",
              "      <td>-0.039632</td>\n",
              "      <td>0.166684</td>\n",
              "      <td>-0.016764</td>\n",
              "      <td>NaN</td>\n",
              "      <td>-0.023773</td>\n",
              "      <td>-0.045158</td>\n",
              "      <td>-0.095605</td>\n",
              "      <td>0.089266</td>\n",
              "      <td>-0.043676</td>\n",
              "      <td>-0.013846</td>\n",
              "      <td>0.013695</td>\n",
              "      <td>-0.061173</td>\n",
              "      <td>0.166826</td>\n",
              "      <td>-0.060239</td>\n",
              "      <td>-0.030427</td>\n",
              "      <td>0.010485</td>\n",
              "    </tr>\n",
              "    <tr>\n",
              "      <th>family_type</th>\n",
              "      <td>0.009164</td>\n",
              "      <td>-0.102035</td>\n",
              "      <td>-0.124334</td>\n",
              "      <td>0.028030</td>\n",
              "      <td>-0.169425</td>\n",
              "      <td>-0.000113</td>\n",
              "      <td>-0.050915</td>\n",
              "      <td>0.008633</td>\n",
              "      <td>1.000000</td>\n",
              "      <td>0.007227</td>\n",
              "      <td>0.104608</td>\n",
              "      <td>-0.052480</td>\n",
              "      <td>NaN</td>\n",
              "      <td>-0.065581</td>\n",
              "      <td>-0.014452</td>\n",
              "      <td>-0.015389</td>\n",
              "      <td>0.062558</td>\n",
              "      <td>-0.557782</td>\n",
              "      <td>-0.030677</td>\n",
              "      <td>-0.005317</td>\n",
              "      <td>-0.096121</td>\n",
              "      <td>0.104260</td>\n",
              "      <td>-0.125419</td>\n",
              "      <td>0.094389</td>\n",
              "      <td>0.779718</td>\n",
              "    </tr>\n",
              "    <tr>\n",
              "      <th>house_type</th>\n",
              "      <td>-0.002158</td>\n",
              "      <td>0.067504</td>\n",
              "      <td>0.018668</td>\n",
              "      <td>-0.177957</td>\n",
              "      <td>0.024800</td>\n",
              "      <td>-0.000551</td>\n",
              "      <td>0.033068</td>\n",
              "      <td>-0.039632</td>\n",
              "      <td>0.007227</td>\n",
              "      <td>1.000000</td>\n",
              "      <td>-0.210033</td>\n",
              "      <td>-0.022465</td>\n",
              "      <td>NaN</td>\n",
              "      <td>0.031380</td>\n",
              "      <td>-0.019016</td>\n",
              "      <td>0.013499</td>\n",
              "      <td>-0.068808</td>\n",
              "      <td>0.005789</td>\n",
              "      <td>-0.030553</td>\n",
              "      <td>-0.008985</td>\n",
              "      <td>0.023710</td>\n",
              "      <td>-0.209918</td>\n",
              "      <td>0.035281</td>\n",
              "      <td>0.034704</td>\n",
              "      <td>0.008184</td>\n",
              "    </tr>\n",
              "    <tr>\n",
              "      <th>DAYS_BIRTH</th>\n",
              "      <td>0.008884</td>\n",
              "      <td>-0.201263</td>\n",
              "      <td>-0.156993</td>\n",
              "      <td>0.130237</td>\n",
              "      <td>-0.343208</td>\n",
              "      <td>-0.105337</td>\n",
              "      <td>-0.211485</td>\n",
              "      <td>0.166684</td>\n",
              "      <td>0.104608</td>\n",
              "      <td>-0.210033</td>\n",
              "      <td>1.000000</td>\n",
              "      <td>-0.020240</td>\n",
              "      <td>NaN</td>\n",
              "      <td>-0.178672</td>\n",
              "      <td>0.029343</td>\n",
              "      <td>-0.111245</td>\n",
              "      <td>0.357809</td>\n",
              "      <td>-0.303537</td>\n",
              "      <td>0.057234</td>\n",
              "      <td>0.025193</td>\n",
              "      <td>-0.275197</td>\n",
              "      <td>0.999693</td>\n",
              "      <td>-0.366846</td>\n",
              "      <td>0.049362</td>\n",
              "      <td>0.208744</td>\n",
              "    </tr>\n",
              "    <tr>\n",
              "      <th>DAYS_EMPLOYED</th>\n",
              "      <td>-0.000409</td>\n",
              "      <td>-0.033906</td>\n",
              "      <td>0.004376</td>\n",
              "      <td>-0.038528</td>\n",
              "      <td>0.045096</td>\n",
              "      <td>0.101063</td>\n",
              "      <td>0.188913</td>\n",
              "      <td>-0.016764</td>\n",
              "      <td>-0.052480</td>\n",
              "      <td>-0.022465</td>\n",
              "      <td>-0.020240</td>\n",
              "      <td>1.000000</td>\n",
              "      <td>NaN</td>\n",
              "      <td>0.108546</td>\n",
              "      <td>0.041882</td>\n",
              "      <td>0.002894</td>\n",
              "      <td>-0.252146</td>\n",
              "      <td>0.057157</td>\n",
              "      <td>0.082689</td>\n",
              "      <td>0.022845</td>\n",
              "      <td>0.877946</td>\n",
              "      <td>-0.019840</td>\n",
              "      <td>0.048515</td>\n",
              "      <td>-0.034238</td>\n",
              "      <td>-0.056686</td>\n",
              "    </tr>\n",
              "    <tr>\n",
              "      <th>FLAG_MOBIL</th>\n",
              "      <td>NaN</td>\n",
              "      <td>NaN</td>\n",
              "      <td>NaN</td>\n",
              "      <td>NaN</td>\n",
              "      <td>NaN</td>\n",
              "      <td>NaN</td>\n",
              "      <td>NaN</td>\n",
              "      <td>NaN</td>\n",
              "      <td>NaN</td>\n",
              "      <td>NaN</td>\n",
              "      <td>NaN</td>\n",
              "      <td>NaN</td>\n",
              "      <td>NaN</td>\n",
              "      <td>NaN</td>\n",
              "      <td>NaN</td>\n",
              "      <td>NaN</td>\n",
              "      <td>NaN</td>\n",
              "      <td>NaN</td>\n",
              "      <td>NaN</td>\n",
              "      <td>NaN</td>\n",
              "      <td>NaN</td>\n",
              "      <td>NaN</td>\n",
              "      <td>NaN</td>\n",
              "      <td>NaN</td>\n",
              "      <td>NaN</td>\n",
              "    </tr>\n",
              "    <tr>\n",
              "      <th>work_phone</th>\n",
              "      <td>-0.005540</td>\n",
              "      <td>0.064497</td>\n",
              "      <td>0.026289</td>\n",
              "      <td>-0.208717</td>\n",
              "      <td>0.052559</td>\n",
              "      <td>-0.045965</td>\n",
              "      <td>0.161894</td>\n",
              "      <td>-0.023773</td>\n",
              "      <td>-0.065581</td>\n",
              "      <td>0.031380</td>\n",
              "      <td>-0.178672</td>\n",
              "      <td>0.108546</td>\n",
              "      <td>NaN</td>\n",
              "      <td>1.000000</td>\n",
              "      <td>0.310145</td>\n",
              "      <td>-0.031055</td>\n",
              "      <td>-0.153851</td>\n",
              "      <td>0.069452</td>\n",
              "      <td>0.008696</td>\n",
              "      <td>-0.003127</td>\n",
              "      <td>0.178321</td>\n",
              "      <td>-0.178716</td>\n",
              "      <td>0.043685</td>\n",
              "      <td>-0.081398</td>\n",
              "      <td>-0.066591</td>\n",
              "    </tr>\n",
              "    <tr>\n",
              "      <th>phone</th>\n",
              "      <td>-0.001756</td>\n",
              "      <td>-0.026904</td>\n",
              "      <td>-0.013562</td>\n",
              "      <td>-0.065588</td>\n",
              "      <td>-0.010969</td>\n",
              "      <td>0.001577</td>\n",
              "      <td>0.004473</td>\n",
              "      <td>-0.045158</td>\n",
              "      <td>-0.014452</td>\n",
              "      <td>-0.019016</td>\n",
              "      <td>0.029343</td>\n",
              "      <td>0.041882</td>\n",
              "      <td>NaN</td>\n",
              "      <td>0.310145</td>\n",
              "      <td>1.000000</td>\n",
              "      <td>0.012483</td>\n",
              "      <td>-0.001727</td>\n",
              "      <td>-0.000283</td>\n",
              "      <td>0.014413</td>\n",
              "      <td>0.003479</td>\n",
              "      <td>0.028876</td>\n",
              "      <td>0.028856</td>\n",
              "      <td>-0.014102</td>\n",
              "      <td>-0.011463</td>\n",
              "      <td>-0.007050</td>\n",
              "    </tr>\n",
              "    <tr>\n",
              "      <th>email</th>\n",
              "      <td>0.005336</td>\n",
              "      <td>0.000167</td>\n",
              "      <td>0.018958</td>\n",
              "      <td>0.051105</td>\n",
              "      <td>0.017641</td>\n",
              "      <td>0.091742</td>\n",
              "      <td>-0.020006</td>\n",
              "      <td>-0.095605</td>\n",
              "      <td>-0.015389</td>\n",
              "      <td>0.013499</td>\n",
              "      <td>-0.111245</td>\n",
              "      <td>0.002894</td>\n",
              "      <td>NaN</td>\n",
              "      <td>-0.031055</td>\n",
              "      <td>0.012483</td>\n",
              "      <td>1.000000</td>\n",
              "      <td>-0.065431</td>\n",
              "      <td>0.017157</td>\n",
              "      <td>-0.002312</td>\n",
              "      <td>0.014854</td>\n",
              "      <td>0.037928</td>\n",
              "      <td>-0.111031</td>\n",
              "      <td>0.025272</td>\n",
              "      <td>0.054759</td>\n",
              "      <td>-0.006842</td>\n",
              "    </tr>\n",
              "    <tr>\n",
              "      <th>occyp_type</th>\n",
              "      <td>-0.000073</td>\n",
              "      <td>-0.136227</td>\n",
              "      <td>-0.126614</td>\n",
              "      <td>0.051685</td>\n",
              "      <td>-0.147514</td>\n",
              "      <td>-0.133123</td>\n",
              "      <td>-0.213458</td>\n",
              "      <td>0.089266</td>\n",
              "      <td>0.062558</td>\n",
              "      <td>-0.068808</td>\n",
              "      <td>0.357809</td>\n",
              "      <td>-0.252146</td>\n",
              "      <td>NaN</td>\n",
              "      <td>-0.153851</td>\n",
              "      <td>-0.001727</td>\n",
              "      <td>-0.065431</td>\n",
              "      <td>1.000000</td>\n",
              "      <td>-0.136790</td>\n",
              "      <td>-0.004413</td>\n",
              "      <td>0.009292</td>\n",
              "      <td>-0.416442</td>\n",
              "      <td>0.357649</td>\n",
              "      <td>-0.157048</td>\n",
              "      <td>0.027483</td>\n",
              "      <td>0.093407</td>\n",
              "    </tr>\n",
              "    <tr>\n",
              "      <th>family_size</th>\n",
              "      <td>-0.002890</td>\n",
              "      <td>0.111463</td>\n",
              "      <td>0.150871</td>\n",
              "      <td>-0.008507</td>\n",
              "      <td>0.886867</td>\n",
              "      <td>0.022958</td>\n",
              "      <td>0.107587</td>\n",
              "      <td>-0.043676</td>\n",
              "      <td>-0.557782</td>\n",
              "      <td>0.005789</td>\n",
              "      <td>-0.303537</td>\n",
              "      <td>0.057157</td>\n",
              "      <td>NaN</td>\n",
              "      <td>0.069452</td>\n",
              "      <td>-0.000283</td>\n",
              "      <td>0.017157</td>\n",
              "      <td>-0.136790</td>\n",
              "      <td>1.000000</td>\n",
              "      <td>0.023470</td>\n",
              "      <td>0.006801</td>\n",
              "      <td>0.151332</td>\n",
              "      <td>-0.303578</td>\n",
              "      <td>0.818022</td>\n",
              "      <td>-0.854513</td>\n",
              "      <td>-0.870018</td>\n",
              "    </tr>\n",
              "    <tr>\n",
              "      <th>begin_month</th>\n",
              "      <td>-0.002248</td>\n",
              "      <td>-0.007852</td>\n",
              "      <td>0.029828</td>\n",
              "      <td>-0.003865</td>\n",
              "      <td>0.007410</td>\n",
              "      <td>0.023685</td>\n",
              "      <td>-0.002777</td>\n",
              "      <td>-0.013846</td>\n",
              "      <td>-0.030677</td>\n",
              "      <td>-0.030553</td>\n",
              "      <td>0.057234</td>\n",
              "      <td>0.082689</td>\n",
              "      <td>NaN</td>\n",
              "      <td>0.008696</td>\n",
              "      <td>0.014413</td>\n",
              "      <td>-0.002312</td>\n",
              "      <td>-0.004413</td>\n",
              "      <td>0.023470</td>\n",
              "      <td>1.000000</td>\n",
              "      <td>0.147486</td>\n",
              "      <td>0.073798</td>\n",
              "      <td>0.057012</td>\n",
              "      <td>0.005670</td>\n",
              "      <td>-0.012937</td>\n",
              "      <td>-0.032620</td>\n",
              "    </tr>\n",
              "    <tr>\n",
              "      <th>credit</th>\n",
              "      <td>-0.007850</td>\n",
              "      <td>0.001433</td>\n",
              "      <td>0.007650</td>\n",
              "      <td>-0.009422</td>\n",
              "      <td>0.002038</td>\n",
              "      <td>0.005496</td>\n",
              "      <td>-0.008284</td>\n",
              "      <td>0.013695</td>\n",
              "      <td>-0.005317</td>\n",
              "      <td>-0.008985</td>\n",
              "      <td>0.025193</td>\n",
              "      <td>0.022845</td>\n",
              "      <td>NaN</td>\n",
              "      <td>-0.003127</td>\n",
              "      <td>0.003479</td>\n",
              "      <td>0.014854</td>\n",
              "      <td>0.009292</td>\n",
              "      <td>0.006801</td>\n",
              "      <td>0.147486</td>\n",
              "      <td>1.000000</td>\n",
              "      <td>0.020682</td>\n",
              "      <td>0.025213</td>\n",
              "      <td>0.000182</td>\n",
              "      <td>-0.022837</td>\n",
              "      <td>-0.007855</td>\n",
              "    </tr>\n",
              "    <tr>\n",
              "      <th>EMPLOYED</th>\n",
              "      <td>-0.001895</td>\n",
              "      <td>0.055844</td>\n",
              "      <td>0.082281</td>\n",
              "      <td>-0.066377</td>\n",
              "      <td>0.142690</td>\n",
              "      <td>0.172590</td>\n",
              "      <td>0.280467</td>\n",
              "      <td>-0.061173</td>\n",
              "      <td>-0.096121</td>\n",
              "      <td>0.023710</td>\n",
              "      <td>-0.275197</td>\n",
              "      <td>0.877946</td>\n",
              "      <td>NaN</td>\n",
              "      <td>0.178321</td>\n",
              "      <td>0.028876</td>\n",
              "      <td>0.037928</td>\n",
              "      <td>-0.416442</td>\n",
              "      <td>0.151332</td>\n",
              "      <td>0.073798</td>\n",
              "      <td>0.020682</td>\n",
              "      <td>1.000000</td>\n",
              "      <td>-0.274677</td>\n",
              "      <td>0.152899</td>\n",
              "      <td>-0.033609</td>\n",
              "      <td>-0.127166</td>\n",
              "    </tr>\n",
              "    <tr>\n",
              "      <th>age</th>\n",
              "      <td>0.008844</td>\n",
              "      <td>-0.201519</td>\n",
              "      <td>-0.156892</td>\n",
              "      <td>0.130740</td>\n",
              "      <td>-0.343496</td>\n",
              "      <td>-0.105233</td>\n",
              "      <td>-0.211611</td>\n",
              "      <td>0.166826</td>\n",
              "      <td>0.104260</td>\n",
              "      <td>-0.209918</td>\n",
              "      <td>0.999693</td>\n",
              "      <td>-0.019840</td>\n",
              "      <td>NaN</td>\n",
              "      <td>-0.178716</td>\n",
              "      <td>0.028856</td>\n",
              "      <td>-0.111031</td>\n",
              "      <td>0.357649</td>\n",
              "      <td>-0.303578</td>\n",
              "      <td>0.057012</td>\n",
              "      <td>0.025213</td>\n",
              "      <td>-0.274677</td>\n",
              "      <td>1.000000</td>\n",
              "      <td>-0.366903</td>\n",
              "      <td>0.052413</td>\n",
              "      <td>0.208414</td>\n",
              "    </tr>\n",
              "    <tr>\n",
              "      <th>cf_ratio</th>\n",
              "      <td>0.003113</td>\n",
              "      <td>0.066962</td>\n",
              "      <td>0.094127</td>\n",
              "      <td>-0.002811</td>\n",
              "      <td>0.954081</td>\n",
              "      <td>0.047047</td>\n",
              "      <td>0.108785</td>\n",
              "      <td>-0.060239</td>\n",
              "      <td>-0.125419</td>\n",
              "      <td>0.035281</td>\n",
              "      <td>-0.366846</td>\n",
              "      <td>0.048515</td>\n",
              "      <td>NaN</td>\n",
              "      <td>0.043685</td>\n",
              "      <td>-0.014102</td>\n",
              "      <td>0.025272</td>\n",
              "      <td>-0.157048</td>\n",
              "      <td>0.818022</td>\n",
              "      <td>0.005670</td>\n",
              "      <td>0.000182</td>\n",
              "      <td>0.152899</td>\n",
              "      <td>-0.366903</td>\n",
              "      <td>1.000000</td>\n",
              "      <td>-0.800664</td>\n",
              "      <td>-0.587166</td>\n",
              "    </tr>\n",
              "    <tr>\n",
              "      <th>ic_ratio</th>\n",
              "      <td>0.005561</td>\n",
              "      <td>-0.005659</td>\n",
              "      <td>-0.027130</td>\n",
              "      <td>0.007670</td>\n",
              "      <td>-0.944967</td>\n",
              "      <td>0.158055</td>\n",
              "      <td>-0.064209</td>\n",
              "      <td>-0.030427</td>\n",
              "      <td>0.094389</td>\n",
              "      <td>0.034704</td>\n",
              "      <td>0.049362</td>\n",
              "      <td>-0.034238</td>\n",
              "      <td>NaN</td>\n",
              "      <td>-0.081398</td>\n",
              "      <td>-0.011463</td>\n",
              "      <td>0.054759</td>\n",
              "      <td>0.027483</td>\n",
              "      <td>-0.854513</td>\n",
              "      <td>-0.012937</td>\n",
              "      <td>-0.022837</td>\n",
              "      <td>-0.033609</td>\n",
              "      <td>0.052413</td>\n",
              "      <td>-0.800664</td>\n",
              "      <td>1.000000</td>\n",
              "      <td>0.724679</td>\n",
              "    </tr>\n",
              "    <tr>\n",
              "      <th>if_ratio</th>\n",
              "      <td>0.004483</td>\n",
              "      <td>-0.089004</td>\n",
              "      <td>-0.138653</td>\n",
              "      <td>0.018385</td>\n",
              "      <td>-0.589365</td>\n",
              "      <td>0.077386</td>\n",
              "      <td>-0.094981</td>\n",
              "      <td>0.010485</td>\n",
              "      <td>0.779718</td>\n",
              "      <td>0.008184</td>\n",
              "      <td>0.208744</td>\n",
              "      <td>-0.056686</td>\n",
              "      <td>NaN</td>\n",
              "      <td>-0.066591</td>\n",
              "      <td>-0.007050</td>\n",
              "      <td>-0.006842</td>\n",
              "      <td>0.093407</td>\n",
              "      <td>-0.870018</td>\n",
              "      <td>-0.032620</td>\n",
              "      <td>-0.007855</td>\n",
              "      <td>-0.127166</td>\n",
              "      <td>0.208414</td>\n",
              "      <td>-0.587166</td>\n",
              "      <td>0.724679</td>\n",
              "      <td>1.000000</td>\n",
              "    </tr>\n",
              "  </tbody>\n",
              "</table>\n",
              "</div>"
            ],
            "text/plain": [
              "                  index    gender       car  ...  cf_ratio  ic_ratio  if_ratio\n",
              "index          1.000000 -0.006306  0.004171  ...  0.003113  0.005561  0.004483\n",
              "gender        -0.006306  1.000000  0.362132  ...  0.066962 -0.005659 -0.089004\n",
              "car            0.004171  0.362132  1.000000  ...  0.094127 -0.027130 -0.138653\n",
              "reality        0.006656 -0.048955 -0.016613  ... -0.002811  0.007670  0.018385\n",
              "child_num      0.001048  0.076737  0.103048  ...  0.954081 -0.944967 -0.589365\n",
              "income_total   0.004475  0.231521  0.231394  ...  0.047047  0.158055  0.077386\n",
              "income_type    0.009495  0.102934  0.048220  ...  0.108785 -0.064209 -0.094981\n",
              "edu_type      -0.003191  0.006226 -0.105696  ... -0.060239 -0.030427  0.010485\n",
              "family_type    0.009164 -0.102035 -0.124334  ... -0.125419  0.094389  0.779718\n",
              "house_type    -0.002158  0.067504  0.018668  ...  0.035281  0.034704  0.008184\n",
              "DAYS_BIRTH     0.008884 -0.201263 -0.156993  ... -0.366846  0.049362  0.208744\n",
              "DAYS_EMPLOYED -0.000409 -0.033906  0.004376  ...  0.048515 -0.034238 -0.056686\n",
              "FLAG_MOBIL          NaN       NaN       NaN  ...       NaN       NaN       NaN\n",
              "work_phone    -0.005540  0.064497  0.026289  ...  0.043685 -0.081398 -0.066591\n",
              "phone         -0.001756 -0.026904 -0.013562  ... -0.014102 -0.011463 -0.007050\n",
              "email          0.005336  0.000167  0.018958  ...  0.025272  0.054759 -0.006842\n",
              "occyp_type    -0.000073 -0.136227 -0.126614  ... -0.157048  0.027483  0.093407\n",
              "family_size   -0.002890  0.111463  0.150871  ...  0.818022 -0.854513 -0.870018\n",
              "begin_month   -0.002248 -0.007852  0.029828  ...  0.005670 -0.012937 -0.032620\n",
              "credit        -0.007850  0.001433  0.007650  ...  0.000182 -0.022837 -0.007855\n",
              "EMPLOYED      -0.001895  0.055844  0.082281  ...  0.152899 -0.033609 -0.127166\n",
              "age            0.008844 -0.201519 -0.156892  ... -0.366903  0.052413  0.208414\n",
              "cf_ratio       0.003113  0.066962  0.094127  ...  1.000000 -0.800664 -0.587166\n",
              "ic_ratio       0.005561 -0.005659 -0.027130  ... -0.800664  1.000000  0.724679\n",
              "if_ratio       0.004483 -0.089004 -0.138653  ... -0.587166  0.724679  1.000000\n",
              "\n",
              "[25 rows x 25 columns]"
            ]
          },
          "metadata": {
            "tags": []
          },
          "execution_count": 79
        }
      ]
    },
    {
      "cell_type": "code",
      "metadata": {
        "colab": {
          "base_uri": "https://localhost:8080/"
        },
        "id": "IVd0VYQ_N4eY",
        "outputId": "1933f313-e71d-4c51-a3a5-5a01d0ac0da4"
      },
      "source": [
        "# data split\n",
        "train_notnull = train[train.occyp_type.notnull()]\n",
        "train_null = train[train.occyp_type.isnull()]\n",
        "\n",
        "#Initialize a SimpleImputer model\n",
        "imputer = datawig.SimpleImputer(\n",
        "    input_columns=['EMPLOYED','age','income_type'], # column(s) containing information about the column we want to impute\n",
        "    output_column='occyp_type', # the column we'd like to impute values for\n",
        "    output_path = 'imputer_model' # stores model data and metrics\n",
        "    )\n",
        "\n",
        "#Fit an imputer model on the train data\n",
        "imputer.fit(train_df=train_notnull, num_epochs=50)\n",
        "\n",
        "#Impute missing values and return original dataframe with predictions\n",
        "imputed = imputer.predict(train_null)"
      ],
      "execution_count": null,
      "outputs": [
        {
          "output_type": "stream",
          "text": [
            "2021-05-24 17:32:26,535 [INFO]  CategoricalEncoder for column occyp_type                                found only 88 occurrences of value Secretaries\n",
            "2021-05-24 17:32:26,537 [INFO]  CategoricalEncoder for column occyp_type                                found only 62 occurrences of value Realty agents\n",
            "2021-05-24 17:32:26,538 [INFO]  CategoricalEncoder for column occyp_type                                found only 57 occurrences of value HR staff\n",
            "2021-05-24 17:32:26,541 [INFO]  CategoricalEncoder for column occyp_type                                found only 38 occurrences of value IT staff\n",
            "2021-05-24 17:32:27,112 [INFO]  \n",
            "========== start: fit model\n",
            "2021-05-24 17:32:27,114 [WARNING]  Already bound, ignoring bind()\n",
            "2021-05-24 17:32:42,826 [INFO]  Epoch[0] Batch [0-639]\tSpeed: 652.91 samples/sec\tcross-entropy=1.728703\toccyp_type-accuracy=0.405664\n",
            "2021-05-24 17:32:58,281 [INFO]  Epoch[0] Train-cross-entropy=1.698404\n",
            "2021-05-24 17:32:58,283 [INFO]  Epoch[0] Train-occyp_type-accuracy=0.411629\n",
            "2021-05-24 17:32:58,286 [INFO]  Epoch[0] Time cost=31.161\n",
            "2021-05-24 17:32:58,298 [INFO]  Saved checkpoint to \"imputer_model/model-0000.params\"\n",
            "2021-05-24 17:33:00,208 [INFO]  Epoch[0] Validation-cross-entropy=1.640874\n",
            "2021-05-24 17:33:00,209 [INFO]  Epoch[0] Validation-occyp_type-accuracy=0.426496\n",
            "2021-05-24 17:33:15,720 [INFO]  Epoch[1] Batch [0-639]\tSpeed: 660.49 samples/sec\tcross-entropy=1.675128\toccyp_type-accuracy=0.416992\n",
            "2021-05-24 17:33:31,202 [INFO]  Epoch[1] Train-cross-entropy=1.666713\n",
            "2021-05-24 17:33:31,207 [INFO]  Epoch[1] Train-occyp_type-accuracy=0.418232\n",
            "2021-05-24 17:33:31,212 [INFO]  Epoch[1] Time cost=30.995\n",
            "2021-05-24 17:33:31,222 [INFO]  Saved checkpoint to \"imputer_model/model-0001.params\"\n",
            "2021-05-24 17:33:33,134 [INFO]  Epoch[1] Validation-cross-entropy=1.635300\n",
            "2021-05-24 17:33:33,135 [INFO]  Epoch[1] Validation-occyp_type-accuracy=0.429577\n",
            "2021-05-24 17:33:48,578 [INFO]  Epoch[2] Batch [0-639]\tSpeed: 663.43 samples/sec\tcross-entropy=1.670680\toccyp_type-accuracy=0.418652\n",
            "2021-05-24 17:34:04,169 [INFO]  Epoch[2] Train-cross-entropy=1.662299\n",
            "2021-05-24 17:34:04,171 [INFO]  Epoch[2] Train-occyp_type-accuracy=0.418916\n",
            "2021-05-24 17:34:04,177 [INFO]  Epoch[2] Time cost=31.037\n",
            "2021-05-24 17:34:04,186 [INFO]  Saved checkpoint to \"imputer_model/model-0002.params\"\n",
            "2021-05-24 17:34:06,073 [INFO]  Epoch[2] Validation-cross-entropy=1.632878\n",
            "2021-05-24 17:34:06,074 [INFO]  Epoch[2] Validation-occyp_type-accuracy=0.428697\n",
            "2021-05-24 17:34:21,420 [INFO]  Epoch[3] Batch [0-639]\tSpeed: 667.62 samples/sec\tcross-entropy=1.667746\toccyp_type-accuracy=0.419336\n",
            "2021-05-24 17:34:36,839 [INFO]  Epoch[3] Train-cross-entropy=1.659079\n",
            "2021-05-24 17:34:36,840 [INFO]  Epoch[3] Train-occyp_type-accuracy=0.418818\n",
            "2021-05-24 17:34:36,846 [INFO]  Epoch[3] Time cost=30.766\n",
            "2021-05-24 17:34:36,859 [INFO]  Saved checkpoint to \"imputer_model/model-0003.params\"\n",
            "2021-05-24 17:34:38,798 [INFO]  Epoch[3] Validation-cross-entropy=1.630993\n",
            "2021-05-24 17:34:38,800 [INFO]  Epoch[3] Validation-occyp_type-accuracy=0.430898\n",
            "2021-05-24 17:34:54,145 [INFO]  Epoch[4] Batch [0-639]\tSpeed: 667.56 samples/sec\tcross-entropy=1.665412\toccyp_type-accuracy=0.421094\n",
            "2021-05-24 17:35:09,470 [INFO]  Epoch[4] Train-cross-entropy=1.656483\n",
            "2021-05-24 17:35:09,472 [INFO]  Epoch[4] Train-occyp_type-accuracy=0.420335\n",
            "2021-05-24 17:35:09,478 [INFO]  Epoch[4] Time cost=30.673\n",
            "2021-05-24 17:35:09,489 [INFO]  Saved checkpoint to \"imputer_model/model-0004.params\"\n",
            "2021-05-24 17:35:11,396 [INFO]  Epoch[4] Validation-cross-entropy=1.630176\n",
            "2021-05-24 17:35:11,397 [INFO]  Epoch[4] Validation-occyp_type-accuracy=0.429577\n",
            "2021-05-24 17:35:26,862 [INFO]  Epoch[5] Batch [0-639]\tSpeed: 662.43 samples/sec\tcross-entropy=1.663288\toccyp_type-accuracy=0.420312\n",
            "2021-05-24 17:35:42,064 [INFO]  Epoch[5] Train-cross-entropy=1.654225\n",
            "2021-05-24 17:35:42,066 [INFO]  Epoch[5] Train-occyp_type-accuracy=0.419356\n",
            "2021-05-24 17:35:42,072 [INFO]  Epoch[5] Time cost=30.672\n",
            "2021-05-24 17:35:42,082 [INFO]  Saved checkpoint to \"imputer_model/model-0005.params\"\n",
            "2021-05-24 17:35:44,017 [INFO]  Epoch[5] Validation-cross-entropy=1.629601\n",
            "2021-05-24 17:35:44,018 [INFO]  Epoch[5] Validation-occyp_type-accuracy=0.425176\n",
            "2021-05-24 17:35:59,216 [INFO]  Epoch[6] Batch [0-639]\tSpeed: 674.14 samples/sec\tcross-entropy=1.661385\toccyp_type-accuracy=0.420508\n",
            "2021-05-24 17:36:14,517 [INFO]  Epoch[6] Train-cross-entropy=1.652475\n",
            "2021-05-24 17:36:14,518 [INFO]  Epoch[6] Train-occyp_type-accuracy=0.419356\n",
            "2021-05-24 17:36:14,524 [INFO]  Epoch[6] Time cost=30.500\n",
            "2021-05-24 17:36:14,533 [INFO]  Saved checkpoint to \"imputer_model/model-0006.params\"\n",
            "2021-05-24 17:36:16,429 [INFO]  Epoch[6] Validation-cross-entropy=1.628802\n",
            "2021-05-24 17:36:16,431 [INFO]  Epoch[6] Validation-occyp_type-accuracy=0.426937\n",
            "2021-05-24 17:36:31,573 [INFO]  Epoch[7] Batch [0-639]\tSpeed: 676.76 samples/sec\tcross-entropy=1.659865\toccyp_type-accuracy=0.421289\n",
            "2021-05-24 17:36:46,787 [INFO]  Epoch[7] Train-cross-entropy=1.650793\n",
            "2021-05-24 17:36:46,792 [INFO]  Epoch[7] Train-occyp_type-accuracy=0.419748\n",
            "2021-05-24 17:36:46,796 [INFO]  Epoch[7] Time cost=30.356\n",
            "2021-05-24 17:36:46,805 [INFO]  Saved checkpoint to \"imputer_model/model-0007.params\"\n",
            "2021-05-24 17:36:48,689 [INFO]  Epoch[7] Validation-cross-entropy=1.628374\n",
            "2021-05-24 17:36:48,692 [INFO]  Epoch[7] Validation-occyp_type-accuracy=0.425616\n",
            "2021-05-24 17:37:03,852 [INFO]  Epoch[8] Batch [0-639]\tSpeed: 675.81 samples/sec\tcross-entropy=1.658590\toccyp_type-accuracy=0.419922\n",
            "2021-05-24 17:37:18,948 [INFO]  Epoch[8] Train-cross-entropy=1.649355\n",
            "2021-05-24 17:37:18,949 [INFO]  Epoch[8] Train-occyp_type-accuracy=0.419210\n",
            "2021-05-24 17:37:18,957 [INFO]  Epoch[8] Time cost=30.260\n",
            "2021-05-24 17:37:18,966 [INFO]  Saved checkpoint to \"imputer_model/model-0008.params\"\n",
            "2021-05-24 17:37:20,833 [INFO]  Epoch[8] Validation-cross-entropy=1.627095\n",
            "2021-05-24 17:37:20,835 [INFO]  Epoch[8] Validation-occyp_type-accuracy=0.426937\n",
            "2021-05-24 17:37:36,062 [INFO]  Epoch[9] Batch [0-639]\tSpeed: 672.85 samples/sec\tcross-entropy=1.657290\toccyp_type-accuracy=0.420410\n",
            "2021-05-24 17:37:51,132 [INFO]  Epoch[9] Train-cross-entropy=1.648027\n",
            "2021-05-24 17:37:51,136 [INFO]  Epoch[9] Train-occyp_type-accuracy=0.419650\n",
            "2021-05-24 17:37:51,138 [INFO]  Epoch[9] Time cost=30.298\n",
            "2021-05-24 17:37:51,149 [INFO]  Saved checkpoint to \"imputer_model/model-0009.params\"\n",
            "2021-05-24 17:37:53,036 [INFO]  Epoch[9] Validation-cross-entropy=1.626505\n",
            "2021-05-24 17:37:53,040 [INFO]  Epoch[9] Validation-occyp_type-accuracy=0.424736\n",
            "2021-05-24 17:38:08,403 [INFO]  Epoch[10] Batch [0-639]\tSpeed: 666.74 samples/sec\tcross-entropy=1.656304\toccyp_type-accuracy=0.418945\n",
            "2021-05-24 17:38:23,562 [INFO]  Epoch[10] Train-cross-entropy=1.646957\n",
            "2021-05-24 17:38:23,564 [INFO]  Epoch[10] Train-occyp_type-accuracy=0.419308\n",
            "2021-05-24 17:38:23,572 [INFO]  Epoch[10] Time cost=30.528\n",
            "2021-05-24 17:38:23,583 [INFO]  Saved checkpoint to \"imputer_model/model-0010.params\"\n",
            "2021-05-24 17:38:25,475 [INFO]  Epoch[10] Validation-cross-entropy=1.625743\n",
            "2021-05-24 17:38:25,476 [INFO]  Epoch[10] Validation-occyp_type-accuracy=0.422975\n",
            "2021-05-24 17:38:40,621 [INFO]  Epoch[11] Batch [0-639]\tSpeed: 676.60 samples/sec\tcross-entropy=1.655075\toccyp_type-accuracy=0.419434\n",
            "2021-05-24 17:38:55,713 [INFO]  Epoch[11] Train-cross-entropy=1.645854\n",
            "2021-05-24 17:38:55,714 [INFO]  Epoch[11] Train-occyp_type-accuracy=0.419894\n",
            "2021-05-24 17:38:55,721 [INFO]  Epoch[11] Time cost=30.236\n",
            "2021-05-24 17:38:55,730 [INFO]  Saved checkpoint to \"imputer_model/model-0011.params\"\n",
            "2021-05-24 17:38:57,612 [INFO]  Epoch[11] Validation-cross-entropy=1.625193\n",
            "2021-05-24 17:38:57,616 [INFO]  Epoch[11] Validation-occyp_type-accuracy=0.423415\n",
            "2021-05-24 17:39:12,697 [INFO]  Epoch[12] Batch [0-639]\tSpeed: 679.28 samples/sec\tcross-entropy=1.653999\toccyp_type-accuracy=0.420605\n",
            "2021-05-24 17:39:27,767 [INFO]  Epoch[12] Train-cross-entropy=1.644845\n",
            "2021-05-24 17:39:27,768 [INFO]  Epoch[12] Train-occyp_type-accuracy=0.420286\n",
            "2021-05-24 17:39:27,776 [INFO]  Epoch[12] Time cost=30.157\n",
            "2021-05-24 17:39:27,787 [INFO]  Saved checkpoint to \"imputer_model/model-0012.params\"\n",
            "2021-05-24 17:39:29,640 [INFO]  Epoch[12] Validation-cross-entropy=1.625272\n",
            "2021-05-24 17:39:29,642 [INFO]  Epoch[12] Validation-occyp_type-accuracy=0.424296\n",
            "2021-05-24 17:39:44,676 [INFO]  Epoch[13] Batch [0-639]\tSpeed: 681.43 samples/sec\tcross-entropy=1.653002\toccyp_type-accuracy=0.420703\n",
            "2021-05-24 17:39:59,496 [INFO]  Epoch[13] Train-cross-entropy=1.643677\n",
            "2021-05-24 17:39:59,497 [INFO]  Epoch[13] Train-occyp_type-accuracy=0.419992\n",
            "2021-05-24 17:39:59,504 [INFO]  Epoch[13] Time cost=29.855\n",
            "2021-05-24 17:39:59,513 [INFO]  Saved checkpoint to \"imputer_model/model-0013.params\"\n",
            "2021-05-24 17:40:01,341 [INFO]  Epoch[13] Validation-cross-entropy=1.624108\n",
            "2021-05-24 17:40:01,342 [INFO]  Epoch[13] Validation-occyp_type-accuracy=0.424736\n",
            "2021-05-24 17:40:16,347 [INFO]  Epoch[14] Batch [0-639]\tSpeed: 682.97 samples/sec\tcross-entropy=1.652174\toccyp_type-accuracy=0.421777\n",
            "2021-05-24 17:40:31,215 [INFO]  Epoch[14] Train-cross-entropy=1.642840\n",
            "2021-05-24 17:40:31,216 [INFO]  Epoch[14] Train-occyp_type-accuracy=0.421068\n",
            "2021-05-24 17:40:31,222 [INFO]  Epoch[14] Time cost=29.871\n",
            "2021-05-24 17:40:31,230 [INFO]  Saved checkpoint to \"imputer_model/model-0014.params\"\n",
            "2021-05-24 17:40:33,065 [INFO]  Epoch[14] Validation-cross-entropy=1.622935\n",
            "2021-05-24 17:40:33,066 [INFO]  Epoch[14] Validation-occyp_type-accuracy=0.425176\n",
            "2021-05-24 17:40:48,118 [INFO]  Epoch[15] Batch [0-639]\tSpeed: 680.65 samples/sec\tcross-entropy=1.650330\toccyp_type-accuracy=0.421191\n",
            "2021-05-24 17:41:02,835 [INFO]  Epoch[15] Train-cross-entropy=1.641226\n",
            "2021-05-24 17:41:02,837 [INFO]  Epoch[15] Train-occyp_type-accuracy=0.420921\n",
            "2021-05-24 17:41:02,842 [INFO]  Epoch[15] Time cost=29.769\n",
            "2021-05-24 17:41:02,852 [INFO]  Saved checkpoint to \"imputer_model/model-0015.params\"\n",
            "2021-05-24 17:41:04,689 [INFO]  Epoch[15] Validation-cross-entropy=1.622321\n",
            "2021-05-24 17:41:04,690 [INFO]  Epoch[15] Validation-occyp_type-accuracy=0.426937\n",
            "2021-05-24 17:41:19,659 [INFO]  Epoch[16] Batch [0-639]\tSpeed: 684.42 samples/sec\tcross-entropy=1.649881\toccyp_type-accuracy=0.422266\n",
            "2021-05-24 17:41:34,499 [INFO]  Epoch[16] Train-cross-entropy=1.640870\n",
            "2021-05-24 17:41:34,500 [INFO]  Epoch[16] Train-occyp_type-accuracy=0.421215\n",
            "2021-05-24 17:41:34,505 [INFO]  Epoch[16] Time cost=29.812\n",
            "2021-05-24 17:41:34,515 [INFO]  Saved checkpoint to \"imputer_model/model-0016.params\"\n",
            "2021-05-24 17:41:36,357 [INFO]  Epoch[16] Validation-cross-entropy=1.622950\n",
            "2021-05-24 17:41:36,359 [INFO]  Epoch[16] Validation-occyp_type-accuracy=0.431338\n",
            "2021-05-24 17:41:51,208 [INFO]  Epoch[17] Batch [0-639]\tSpeed: 689.91 samples/sec\tcross-entropy=1.649740\toccyp_type-accuracy=0.422559\n",
            "2021-05-24 17:42:06,085 [INFO]  Epoch[17] Train-cross-entropy=1.640407\n",
            "2021-05-24 17:42:06,086 [INFO]  Epoch[17] Train-occyp_type-accuracy=0.421899\n",
            "2021-05-24 17:42:06,092 [INFO]  Epoch[17] Time cost=29.729\n",
            "2021-05-24 17:42:06,102 [INFO]  Saved checkpoint to \"imputer_model/model-0017.params\"\n",
            "2021-05-24 17:42:07,936 [INFO]  Epoch[17] Validation-cross-entropy=1.622279\n",
            "2021-05-24 17:42:07,938 [INFO]  Epoch[17] Validation-occyp_type-accuracy=0.431778\n",
            "2021-05-24 17:42:22,896 [INFO]  Epoch[18] Batch [0-639]\tSpeed: 684.88 samples/sec\tcross-entropy=1.648454\toccyp_type-accuracy=0.422656\n",
            "2021-05-24 17:42:37,742 [INFO]  Epoch[18] Train-cross-entropy=1.639686\n",
            "2021-05-24 17:42:37,743 [INFO]  Epoch[18] Train-occyp_type-accuracy=0.421997\n",
            "2021-05-24 17:42:37,749 [INFO]  Epoch[18] Time cost=29.805\n",
            "2021-05-24 17:42:37,759 [INFO]  Saved checkpoint to \"imputer_model/model-0018.params\"\n",
            "2021-05-24 17:42:39,616 [INFO]  Epoch[18] Validation-cross-entropy=1.621546\n",
            "2021-05-24 17:42:39,618 [INFO]  Epoch[18] Validation-occyp_type-accuracy=0.433099\n",
            "2021-05-24 17:42:54,544 [INFO]  Epoch[19] Batch [0-639]\tSpeed: 686.32 samples/sec\tcross-entropy=1.648157\toccyp_type-accuracy=0.422363\n",
            "2021-05-24 17:43:09,379 [INFO]  Epoch[19] Train-cross-entropy=1.638968\n",
            "2021-05-24 17:43:09,380 [INFO]  Epoch[19] Train-occyp_type-accuracy=0.421802\n",
            "2021-05-24 17:43:09,383 [INFO]  Epoch[19] Time cost=29.764\n",
            "2021-05-24 17:43:09,395 [INFO]  Saved checkpoint to \"imputer_model/model-0019.params\"\n",
            "2021-05-24 17:43:11,258 [INFO]  Epoch[19] Validation-cross-entropy=1.621626\n",
            "2021-05-24 17:43:11,259 [INFO]  Epoch[19] Validation-occyp_type-accuracy=0.433539\n",
            "2021-05-24 17:43:26,404 [INFO]  Epoch[20] Batch [0-639]\tSpeed: 676.41 samples/sec\tcross-entropy=1.647682\toccyp_type-accuracy=0.422168\n",
            "2021-05-24 17:43:41,319 [INFO]  Epoch[20] Train-cross-entropy=1.638470\n",
            "2021-05-24 17:43:41,320 [INFO]  Epoch[20] Train-occyp_type-accuracy=0.421802\n",
            "2021-05-24 17:43:41,326 [INFO]  Epoch[20] Time cost=30.063\n",
            "2021-05-24 17:43:41,336 [INFO]  Saved checkpoint to \"imputer_model/model-0020.params\"\n",
            "2021-05-24 17:43:43,186 [INFO]  Epoch[20] Validation-cross-entropy=1.620490\n",
            "2021-05-24 17:43:43,188 [INFO]  Epoch[20] Validation-occyp_type-accuracy=0.431778\n",
            "2021-05-24 17:43:58,189 [INFO]  Epoch[21] Batch [0-639]\tSpeed: 682.95 samples/sec\tcross-entropy=1.646386\toccyp_type-accuracy=0.422852\n",
            "2021-05-24 17:44:13,198 [INFO]  Epoch[21] Train-cross-entropy=1.637714\n",
            "2021-05-24 17:44:13,199 [INFO]  Epoch[21] Train-occyp_type-accuracy=0.422046\n",
            "2021-05-24 17:44:13,206 [INFO]  Epoch[21] Time cost=30.012\n",
            "2021-05-24 17:44:13,215 [INFO]  Saved checkpoint to \"imputer_model/model-0021.params\"\n",
            "2021-05-24 17:44:15,065 [INFO]  Epoch[21] Validation-cross-entropy=1.621667\n",
            "2021-05-24 17:44:15,066 [INFO]  Epoch[21] Validation-occyp_type-accuracy=0.433099\n",
            "2021-05-24 17:44:30,125 [INFO]  Epoch[22] Batch [0-639]\tSpeed: 680.39 samples/sec\tcross-entropy=1.646543\toccyp_type-accuracy=0.422363\n",
            "2021-05-24 17:44:45,194 [INFO]  Epoch[22] Train-cross-entropy=1.637569\n",
            "2021-05-24 17:44:45,196 [INFO]  Epoch[22] Train-occyp_type-accuracy=0.421851\n",
            "2021-05-24 17:44:45,202 [INFO]  Epoch[22] Time cost=30.129\n",
            "2021-05-24 17:44:45,212 [INFO]  Saved checkpoint to \"imputer_model/model-0022.params\"\n",
            "2021-05-24 17:44:47,050 [INFO]  Epoch[22] Validation-cross-entropy=1.620160\n",
            "2021-05-24 17:44:47,054 [INFO]  Epoch[22] Validation-occyp_type-accuracy=0.433099\n",
            "2021-05-24 17:45:02,054 [INFO]  Epoch[23] Batch [0-639]\tSpeed: 682.97 samples/sec\tcross-entropy=1.645424\toccyp_type-accuracy=0.422461\n",
            "2021-05-24 17:45:17,080 [INFO]  Epoch[23] Train-cross-entropy=1.636398\n",
            "2021-05-24 17:45:17,081 [INFO]  Epoch[23] Train-occyp_type-accuracy=0.421948\n",
            "2021-05-24 17:45:17,088 [INFO]  Epoch[23] Time cost=30.029\n",
            "2021-05-24 17:45:17,096 [INFO]  Saved checkpoint to \"imputer_model/model-0023.params\"\n",
            "2021-05-24 17:45:18,957 [INFO]  Epoch[23] Validation-cross-entropy=1.619307\n",
            "2021-05-24 17:45:18,958 [INFO]  Epoch[23] Validation-occyp_type-accuracy=0.430458\n",
            "2021-05-24 17:45:34,094 [INFO]  Epoch[24] Batch [0-639]\tSpeed: 676.80 samples/sec\tcross-entropy=1.644944\toccyp_type-accuracy=0.423047\n",
            "2021-05-24 17:45:49,113 [INFO]  Epoch[24] Train-cross-entropy=1.635804\n",
            "2021-05-24 17:45:49,114 [INFO]  Epoch[24] Train-occyp_type-accuracy=0.422242\n",
            "2021-05-24 17:45:49,120 [INFO]  Epoch[24] Time cost=30.158\n",
            "2021-05-24 17:45:49,131 [INFO]  Saved checkpoint to \"imputer_model/model-0024.params\"\n",
            "2021-05-24 17:45:50,963 [INFO]  Epoch[24] Validation-cross-entropy=1.619238\n",
            "2021-05-24 17:45:50,966 [INFO]  Epoch[24] Validation-occyp_type-accuracy=0.430898\n",
            "2021-05-24 17:46:06,150 [INFO]  Epoch[25] Batch [0-639]\tSpeed: 674.71 samples/sec\tcross-entropy=1.644356\toccyp_type-accuracy=0.423438\n",
            "2021-05-24 17:46:21,224 [INFO]  Epoch[25] Train-cross-entropy=1.635634\n",
            "2021-05-24 17:46:21,225 [INFO]  Epoch[25] Train-occyp_type-accuracy=0.422633\n",
            "2021-05-24 17:46:21,232 [INFO]  Epoch[25] Time cost=30.261\n",
            "2021-05-24 17:46:21,241 [INFO]  Saved checkpoint to \"imputer_model/model-0025.params\"\n",
            "2021-05-24 17:46:23,057 [INFO]  Epoch[25] Validation-cross-entropy=1.620251\n",
            "2021-05-24 17:46:23,058 [INFO]  Epoch[25] Validation-occyp_type-accuracy=0.431778\n",
            "2021-05-24 17:46:38,346 [INFO]  Epoch[26] Batch [0-639]\tSpeed: 670.14 samples/sec\tcross-entropy=1.644375\toccyp_type-accuracy=0.422754\n",
            "2021-05-24 17:46:53,351 [INFO]  Epoch[26] Train-cross-entropy=1.635144\n",
            "2021-05-24 17:46:53,353 [INFO]  Epoch[26] Train-occyp_type-accuracy=0.422486\n",
            "2021-05-24 17:46:53,360 [INFO]  Epoch[26] Time cost=30.295\n",
            "2021-05-24 17:46:53,368 [INFO]  Saved checkpoint to \"imputer_model/model-0026.params\"\n",
            "2021-05-24 17:46:55,190 [INFO]  Epoch[26] Validation-cross-entropy=1.618536\n",
            "2021-05-24 17:46:55,191 [INFO]  Epoch[26] Validation-occyp_type-accuracy=0.430458\n",
            "2021-05-24 17:47:10,324 [INFO]  Epoch[27] Batch [0-639]\tSpeed: 677.07 samples/sec\tcross-entropy=1.643319\toccyp_type-accuracy=0.422266\n",
            "2021-05-24 17:47:25,487 [INFO]  Epoch[27] Train-cross-entropy=1.634423\n",
            "2021-05-24 17:47:25,491 [INFO]  Epoch[27] Train-occyp_type-accuracy=0.421557\n",
            "2021-05-24 17:47:25,495 [INFO]  Epoch[27] Time cost=30.296\n",
            "2021-05-24 17:47:25,504 [INFO]  Saved checkpoint to \"imputer_model/model-0027.params\"\n",
            "2021-05-24 17:47:27,375 [INFO]  Epoch[27] Validation-cross-entropy=1.619046\n",
            "2021-05-24 17:47:27,379 [INFO]  Epoch[27] Validation-occyp_type-accuracy=0.431778\n",
            "2021-05-24 17:47:42,549 [INFO]  Epoch[28] Batch [0-639]\tSpeed: 675.26 samples/sec\tcross-entropy=1.642518\toccyp_type-accuracy=0.422266\n",
            "2021-05-24 17:47:57,579 [INFO]  Epoch[28] Train-cross-entropy=1.633808\n",
            "2021-05-24 17:47:57,580 [INFO]  Epoch[28] Train-occyp_type-accuracy=0.421704\n",
            "2021-05-24 17:47:57,587 [INFO]  Epoch[28] Time cost=30.205\n",
            "2021-05-24 17:47:57,597 [INFO]  Saved checkpoint to \"imputer_model/model-0028.params\"\n",
            "2021-05-24 17:47:59,423 [INFO]  Epoch[28] Validation-cross-entropy=1.618479\n",
            "2021-05-24 17:47:59,425 [INFO]  Epoch[28] Validation-occyp_type-accuracy=0.430898\n",
            "2021-05-24 17:48:14,570 [INFO]  Epoch[29] Batch [0-639]\tSpeed: 676.54 samples/sec\tcross-entropy=1.642366\toccyp_type-accuracy=0.422266\n",
            "2021-05-24 17:48:29,617 [INFO]  Epoch[29] Train-cross-entropy=1.633451\n",
            "2021-05-24 17:48:29,618 [INFO]  Epoch[29] Train-occyp_type-accuracy=0.421948\n",
            "2021-05-24 17:48:29,628 [INFO]  Epoch[29] Time cost=30.196\n",
            "2021-05-24 17:48:29,638 [INFO]  Saved checkpoint to \"imputer_model/model-0029.params\"\n",
            "2021-05-24 17:48:31,503 [INFO]  Epoch[29] Validation-cross-entropy=1.618140\n",
            "2021-05-24 17:48:31,504 [INFO]  Epoch[29] Validation-occyp_type-accuracy=0.431338\n",
            "2021-05-24 17:48:46,671 [INFO]  Epoch[30] Batch [0-639]\tSpeed: 675.55 samples/sec\tcross-entropy=1.641658\toccyp_type-accuracy=0.422461\n",
            "2021-05-24 17:49:01,702 [INFO]  Epoch[30] Train-cross-entropy=1.632739\n",
            "2021-05-24 17:49:01,703 [INFO]  Epoch[30] Train-occyp_type-accuracy=0.421557\n",
            "2021-05-24 17:49:01,710 [INFO]  Epoch[30] Time cost=30.198\n",
            "2021-05-24 17:49:01,719 [INFO]  Saved checkpoint to \"imputer_model/model-0030.params\"\n",
            "2021-05-24 17:49:03,537 [INFO]  Epoch[30] Validation-cross-entropy=1.618343\n",
            "2021-05-24 17:49:03,538 [INFO]  Epoch[30] Validation-occyp_type-accuracy=0.432658\n",
            "2021-05-24 17:49:18,617 [INFO]  Epoch[31] Batch [0-639]\tSpeed: 679.46 samples/sec\tcross-entropy=1.641413\toccyp_type-accuracy=0.422949\n",
            "2021-05-24 17:49:33,804 [INFO]  Epoch[31] Train-cross-entropy=1.632608\n",
            "2021-05-24 17:49:33,806 [INFO]  Epoch[31] Train-occyp_type-accuracy=0.422095\n",
            "2021-05-24 17:49:33,813 [INFO]  Epoch[31] Time cost=30.268\n",
            "2021-05-24 17:49:33,823 [INFO]  Saved checkpoint to \"imputer_model/model-0031.params\"\n",
            "2021-05-24 17:49:35,646 [INFO]  Epoch[31] Validation-cross-entropy=1.617164\n",
            "2021-05-24 17:49:35,647 [INFO]  Epoch[31] Validation-occyp_type-accuracy=0.432658\n",
            "2021-05-24 17:49:50,801 [INFO]  Epoch[32] Batch [0-639]\tSpeed: 676.21 samples/sec\tcross-entropy=1.640829\toccyp_type-accuracy=0.422949\n",
            "2021-05-24 17:50:06,066 [INFO]  Epoch[32] Train-cross-entropy=1.631777\n",
            "2021-05-24 17:50:06,067 [INFO]  Epoch[32] Train-occyp_type-accuracy=0.421948\n",
            "2021-05-24 17:50:06,074 [INFO]  Epoch[32] Time cost=30.420\n",
            "2021-05-24 17:50:06,083 [INFO]  Saved checkpoint to \"imputer_model/model-0032.params\"\n",
            "2021-05-24 17:50:07,945 [INFO]  Epoch[32] Validation-cross-entropy=1.618179\n",
            "2021-05-24 17:50:07,946 [INFO]  Epoch[32] Validation-occyp_type-accuracy=0.433099\n",
            "2021-05-24 17:50:23,211 [INFO]  Epoch[33] Batch [0-639]\tSpeed: 671.17 samples/sec\tcross-entropy=1.640326\toccyp_type-accuracy=0.423047\n",
            "2021-05-24 17:50:38,262 [INFO]  Epoch[33] Train-cross-entropy=1.631136\n",
            "2021-05-24 17:50:38,263 [INFO]  Epoch[33] Train-occyp_type-accuracy=0.422437\n",
            "2021-05-24 17:50:38,271 [INFO]  Epoch[33] Time cost=30.318\n",
            "2021-05-24 17:50:38,280 [INFO]  Saved checkpoint to \"imputer_model/model-0033.params\"\n",
            "2021-05-24 17:50:40,095 [INFO]  Epoch[33] Validation-cross-entropy=1.617587\n",
            "2021-05-24 17:50:40,096 [INFO]  Epoch[33] Validation-occyp_type-accuracy=0.431338\n",
            "2021-05-24 17:50:55,156 [INFO]  Epoch[34] Batch [0-639]\tSpeed: 680.31 samples/sec\tcross-entropy=1.639840\toccyp_type-accuracy=0.422949\n",
            "2021-05-24 17:51:10,514 [INFO]  Epoch[34] Train-cross-entropy=1.630671\n",
            "2021-05-24 17:51:10,515 [INFO]  Epoch[34] Train-occyp_type-accuracy=0.422144\n",
            "2021-05-24 17:51:10,522 [INFO]  Epoch[34] Time cost=30.421\n",
            "2021-05-24 17:51:10,531 [INFO]  Saved checkpoint to \"imputer_model/model-0034.params\"\n",
            "2021-05-24 17:51:12,372 [INFO]  Epoch[34] Validation-cross-entropy=1.617735\n",
            "2021-05-24 17:51:12,374 [INFO]  Epoch[34] Validation-occyp_type-accuracy=0.432218\n",
            "2021-05-24 17:51:27,967 [INFO]  Epoch[35] Batch [0-639]\tSpeed: 657.20 samples/sec\tcross-entropy=1.639372\toccyp_type-accuracy=0.422559\n",
            "2021-05-24 17:51:43,938 [INFO]  Epoch[35] Train-cross-entropy=1.629986\n",
            "2021-05-24 17:51:43,940 [INFO]  Epoch[35] Train-occyp_type-accuracy=0.421899\n",
            "2021-05-24 17:51:43,945 [INFO]  Epoch[35] Time cost=31.563\n",
            "2021-05-24 17:51:43,955 [INFO]  Saved checkpoint to \"imputer_model/model-0035.params\"\n",
            "2021-05-24 17:51:45,949 [INFO]  Epoch[35] Validation-cross-entropy=1.616859\n",
            "2021-05-24 17:51:45,950 [INFO]  Epoch[35] Validation-occyp_type-accuracy=0.430018\n",
            "2021-05-24 17:52:01,680 [INFO]  Epoch[36] Batch [0-639]\tSpeed: 651.34 samples/sec\tcross-entropy=1.640191\toccyp_type-accuracy=0.422852\n",
            "2021-05-24 17:52:16,987 [INFO]  Epoch[36] Train-cross-entropy=1.630476\n",
            "2021-05-24 17:52:16,988 [INFO]  Epoch[36] Train-occyp_type-accuracy=0.421508\n",
            "2021-05-24 17:52:16,995 [INFO]  Epoch[36] Time cost=31.038\n",
            "2021-05-24 17:52:17,004 [INFO]  Saved checkpoint to \"imputer_model/model-0036.params\"\n",
            "2021-05-24 17:52:18,841 [INFO]  Epoch[36] Validation-cross-entropy=1.615986\n",
            "2021-05-24 17:52:18,842 [INFO]  Epoch[36] Validation-occyp_type-accuracy=0.431778\n",
            "2021-05-24 17:52:34,254 [INFO]  Epoch[37] Batch [0-639]\tSpeed: 664.76 samples/sec\tcross-entropy=1.639351\toccyp_type-accuracy=0.423340\n",
            "2021-05-24 17:52:49,632 [INFO]  Epoch[37] Train-cross-entropy=1.629630\n",
            "2021-05-24 17:52:49,635 [INFO]  Epoch[37] Train-occyp_type-accuracy=0.422095\n",
            "2021-05-24 17:52:49,639 [INFO]  Epoch[37] Time cost=30.790\n",
            "2021-05-24 17:52:49,648 [INFO]  Saved checkpoint to \"imputer_model/model-0037.params\"\n",
            "2021-05-24 17:52:51,495 [INFO]  Epoch[37] Validation-cross-entropy=1.617358\n",
            "2021-05-24 17:52:51,496 [INFO]  Epoch[37] Validation-occyp_type-accuracy=0.432658\n",
            "2021-05-24 17:53:06,756 [INFO]  Epoch[38] Batch [0-639]\tSpeed: 671.43 samples/sec\tcross-entropy=1.638841\toccyp_type-accuracy=0.422949\n",
            "2021-05-24 17:53:22,054 [INFO]  Epoch[38] Train-cross-entropy=1.629324\n",
            "2021-05-24 17:53:22,055 [INFO]  Epoch[38] Train-occyp_type-accuracy=0.422242\n",
            "2021-05-24 17:53:22,061 [INFO]  Epoch[38] Time cost=30.559\n",
            "2021-05-24 17:53:22,071 [INFO]  Saved checkpoint to \"imputer_model/model-0038.params\"\n",
            "2021-05-24 17:53:23,906 [INFO]  Epoch[38] Validation-cross-entropy=1.616562\n",
            "2021-05-24 17:53:23,907 [INFO]  Epoch[38] Validation-occyp_type-accuracy=0.433099\n",
            "2021-05-24 17:53:39,258 [INFO]  Epoch[39] Batch [0-639]\tSpeed: 667.44 samples/sec\tcross-entropy=1.638478\toccyp_type-accuracy=0.422656\n",
            "2021-05-24 17:53:54,474 [INFO]  Epoch[39] Train-cross-entropy=1.629149\n",
            "2021-05-24 17:53:54,475 [INFO]  Epoch[39] Train-occyp_type-accuracy=0.422193\n",
            "2021-05-24 17:53:54,481 [INFO]  Epoch[39] Time cost=30.567\n",
            "2021-05-24 17:53:54,491 [INFO]  Saved checkpoint to \"imputer_model/model-0039.params\"\n",
            "2021-05-24 17:53:56,300 [INFO]  Epoch[39] Validation-cross-entropy=1.617002\n",
            "2021-05-24 17:53:56,302 [INFO]  Epoch[39] Validation-occyp_type-accuracy=0.433539\n",
            "2021-05-24 17:54:11,726 [INFO]  Epoch[40] Batch [0-639]\tSpeed: 664.37 samples/sec\tcross-entropy=1.638290\toccyp_type-accuracy=0.423145\n",
            "2021-05-24 17:54:27,253 [INFO]  Epoch[40] Train-cross-entropy=1.629030\n",
            "2021-05-24 17:54:27,257 [INFO]  Epoch[40] Train-occyp_type-accuracy=0.422682\n",
            "2021-05-24 17:54:27,262 [INFO]  Epoch[40] Time cost=30.958\n",
            "2021-05-24 17:54:27,271 [INFO]  Saved checkpoint to \"imputer_model/model-0040.params\"\n",
            "2021-05-24 17:54:29,091 [INFO]  Epoch[40] Validation-cross-entropy=1.615497\n",
            "2021-05-24 17:54:29,095 [INFO]  Epoch[40] Validation-occyp_type-accuracy=0.433539\n",
            "2021-05-24 17:54:44,679 [INFO]  Epoch[41] Batch [0-639]\tSpeed: 657.33 samples/sec\tcross-entropy=1.637629\toccyp_type-accuracy=0.423047\n",
            "2021-05-24 17:54:59,994 [INFO]  Epoch[41] Train-cross-entropy=1.628552\n",
            "2021-05-24 17:54:59,995 [INFO]  Epoch[41] Train-occyp_type-accuracy=0.422584\n",
            "2021-05-24 17:55:00,002 [INFO]  Epoch[41] Time cost=30.903\n",
            "2021-05-24 17:55:00,011 [INFO]  Saved checkpoint to \"imputer_model/model-0041.params\"\n",
            "2021-05-24 17:55:01,885 [INFO]  Epoch[41] Validation-cross-entropy=1.616097\n",
            "2021-05-24 17:55:01,886 [INFO]  Epoch[41] Validation-occyp_type-accuracy=0.432658\n",
            "2021-05-24 17:55:17,483 [INFO]  Epoch[42] Batch [0-639]\tSpeed: 656.96 samples/sec\tcross-entropy=1.637246\toccyp_type-accuracy=0.422168\n",
            "2021-05-24 17:55:33,603 [INFO]  Epoch[42] Train-cross-entropy=1.627952\n",
            "2021-05-24 17:55:33,605 [INFO]  Epoch[42] Train-occyp_type-accuracy=0.422046\n",
            "2021-05-24 17:55:33,613 [INFO]  Epoch[42] Time cost=31.719\n",
            "2021-05-24 17:55:33,623 [INFO]  Saved checkpoint to \"imputer_model/model-0042.params\"\n",
            "2021-05-24 17:55:35,575 [INFO]  Epoch[42] Validation-cross-entropy=1.614954\n",
            "2021-05-24 17:55:35,576 [INFO]  Epoch[42] Validation-occyp_type-accuracy=0.433979\n",
            "2021-05-24 17:55:51,605 [INFO]  Epoch[43] Batch [0-639]\tSpeed: 639.17 samples/sec\tcross-entropy=1.636976\toccyp_type-accuracy=0.422168\n",
            "2021-05-24 17:56:07,592 [INFO]  Epoch[43] Train-cross-entropy=1.627699\n",
            "2021-05-24 17:56:07,594 [INFO]  Epoch[43] Train-occyp_type-accuracy=0.421997\n",
            "2021-05-24 17:56:07,601 [INFO]  Epoch[43] Time cost=32.019\n",
            "2021-05-24 17:56:07,610 [INFO]  Saved checkpoint to \"imputer_model/model-0043.params\"\n",
            "2021-05-24 17:56:09,442 [INFO]  Epoch[43] Validation-cross-entropy=1.615224\n",
            "2021-05-24 17:56:09,446 [INFO]  Epoch[43] Validation-occyp_type-accuracy=0.436620\n",
            "2021-05-24 17:56:24,916 [INFO]  Epoch[44] Batch [0-639]\tSpeed: 662.18 samples/sec\tcross-entropy=1.636453\toccyp_type-accuracy=0.422656\n",
            "2021-05-24 17:56:40,472 [INFO]  Epoch[44] Train-cross-entropy=1.627118\n",
            "2021-05-24 17:56:40,474 [INFO]  Epoch[44] Train-occyp_type-accuracy=0.422291\n",
            "2021-05-24 17:56:40,480 [INFO]  Epoch[44] Time cost=31.032\n",
            "2021-05-24 17:56:40,489 [INFO]  Saved checkpoint to \"imputer_model/model-0044.params\"\n",
            "2021-05-24 17:56:42,315 [INFO]  Epoch[44] Validation-cross-entropy=1.614066\n",
            "2021-05-24 17:56:42,316 [INFO]  Epoch[44] Validation-occyp_type-accuracy=0.436620\n",
            "2021-05-24 17:56:58,134 [INFO]  Epoch[45] Batch [0-639]\tSpeed: 647.61 samples/sec\tcross-entropy=1.636616\toccyp_type-accuracy=0.423340\n",
            "2021-05-24 17:57:13,740 [INFO]  Epoch[45] Train-cross-entropy=1.627233\n",
            "2021-05-24 17:57:13,741 [INFO]  Epoch[45] Train-occyp_type-accuracy=0.422780\n",
            "2021-05-24 17:57:13,747 [INFO]  Epoch[45] Time cost=31.430\n",
            "2021-05-24 17:57:13,756 [INFO]  Saved checkpoint to \"imputer_model/model-0045.params\"\n",
            "2021-05-24 17:57:15,610 [INFO]  Epoch[45] Validation-cross-entropy=1.614979\n",
            "2021-05-24 17:57:15,612 [INFO]  Epoch[45] Validation-occyp_type-accuracy=0.437500\n",
            "2021-05-24 17:57:31,485 [INFO]  Epoch[46] Batch [0-639]\tSpeed: 645.41 samples/sec\tcross-entropy=1.635973\toccyp_type-accuracy=0.422754\n",
            "2021-05-24 17:57:47,293 [INFO]  Epoch[46] Train-cross-entropy=1.626684\n",
            "2021-05-24 17:57:47,294 [INFO]  Epoch[46] Train-occyp_type-accuracy=0.422291\n",
            "2021-05-24 17:57:47,301 [INFO]  Epoch[46] Time cost=31.683\n",
            "2021-05-24 17:57:47,310 [INFO]  Saved checkpoint to \"imputer_model/model-0046.params\"\n",
            "2021-05-24 17:57:49,190 [INFO]  Epoch[46] Validation-cross-entropy=1.613062\n",
            "2021-05-24 17:57:49,193 [INFO]  Epoch[46] Validation-occyp_type-accuracy=0.435739\n",
            "2021-05-24 17:58:05,027 [INFO]  Epoch[47] Batch [0-639]\tSpeed: 647.19 samples/sec\tcross-entropy=1.635856\toccyp_type-accuracy=0.422852\n",
            "2021-05-24 17:58:21,001 [INFO]  Epoch[47] Train-cross-entropy=1.626662\n",
            "2021-05-24 17:58:21,003 [INFO]  Epoch[47] Train-occyp_type-accuracy=0.422340\n",
            "2021-05-24 17:58:21,010 [INFO]  Epoch[47] Time cost=31.813\n",
            "2021-05-24 17:58:21,019 [INFO]  Saved checkpoint to \"imputer_model/model-0047.params\"\n",
            "2021-05-24 17:58:22,874 [INFO]  Epoch[47] Validation-cross-entropy=1.614996\n",
            "2021-05-24 17:58:22,876 [INFO]  Epoch[47] Validation-occyp_type-accuracy=0.433979\n",
            "2021-05-24 17:58:38,734 [INFO]  Epoch[48] Batch [0-639]\tSpeed: 645.97 samples/sec\tcross-entropy=1.634746\toccyp_type-accuracy=0.423242\n",
            "2021-05-24 17:58:54,587 [INFO]  Epoch[48] Train-cross-entropy=1.625541\n",
            "2021-05-24 17:58:54,588 [INFO]  Epoch[48] Train-occyp_type-accuracy=0.423122\n",
            "2021-05-24 17:58:54,595 [INFO]  Epoch[48] Time cost=31.713\n",
            "2021-05-24 17:58:54,606 [INFO]  Saved checkpoint to \"imputer_model/model-0048.params\"\n",
            "2021-05-24 17:58:56,465 [INFO]  Epoch[48] Validation-cross-entropy=1.614995\n",
            "2021-05-24 17:58:56,466 [INFO]  Epoch[48] Validation-occyp_type-accuracy=0.434859\n",
            "2021-05-24 17:59:12,214 [INFO]  Epoch[49] Batch [0-639]\tSpeed: 650.59 samples/sec\tcross-entropy=1.635392\toccyp_type-accuracy=0.423438\n",
            "2021-05-24 17:59:27,890 [INFO]  Epoch[49] Train-cross-entropy=1.625990\n",
            "2021-05-24 17:59:27,891 [INFO]  Epoch[49] Train-occyp_type-accuracy=0.422535\n",
            "2021-05-24 17:59:27,899 [INFO]  Epoch[49] Time cost=31.426\n",
            "2021-05-24 17:59:27,908 [INFO]  Saved checkpoint to \"imputer_model/model-0049.params\"\n",
            "2021-05-24 17:59:29,794 [INFO]  Epoch[49] Validation-cross-entropy=1.613011\n",
            "2021-05-24 17:59:29,797 [INFO]  Epoch[49] Validation-occyp_type-accuracy=0.435739\n",
            "2021-05-24 17:59:29,802 [INFO]  \n",
            "========== done (1622.6904292106628 s) fit model\n",
            "/usr/local/lib/python3.7/dist-packages/datawig/calibration.py:92: RuntimeWarning: divide by zero encountered in log\n",
            "  return np.log(probas)\n",
            "/usr/local/lib/python3.7/dist-packages/sklearn/metrics/_classification.py:1272: UndefinedMetricWarning: Precision is ill-defined and being set to 0.0 in labels with no predicted samples. Use `zero_division` parameter to control this behavior.\n",
            "  _warn_prf(average, modifier, msg_start, len(result))\n"
          ],
          "name": "stderr"
        },
        {
          "output_type": "execute_result",
          "data": {
            "text/plain": [
              "<datawig.simple_imputer.SimpleImputer at 0x7ff8d34e6d50>"
            ]
          },
          "metadata": {
            "tags": []
          },
          "execution_count": 80
        },
        {
          "output_type": "stream",
          "text": [
            "/usr/local/lib/python3.7/dist-packages/datawig/calibration.py:92: RuntimeWarning: divide by zero encountered in log\n",
            "  return np.log(probas)\n"
          ],
          "name": "stderr"
        }
      ]
    },
    {
      "cell_type": "code",
      "metadata": {
        "id": "i-n_7zNZN4b8",
        "colab": {
          "base_uri": "https://localhost:8080/",
          "height": 412
        },
        "outputId": "52db3569-9397-48ed-93e3-d492e6f39d07"
      },
      "source": [
        "imputed = imputed.drop(['occyp_type','occyp_type_imputed_proba'],axis=1)\n",
        "\n",
        "imputed = imputed.rename(columns = {'occyp_type_imputed':'occyp_type'})\n",
        "\n",
        "train_imputed = pd.concat([train_notnull,imputed],axis = 0)\n",
        "\n",
        "train_imputed.head()"
      ],
      "execution_count": null,
      "outputs": [
        {
          "output_type": "stream",
          "text": [
            "/usr/local/lib/python3.7/dist-packages/ipykernel_launcher.py:5: FutureWarning: Sorting because non-concatenation axis is not aligned. A future version\n",
            "of pandas will change to not sort by default.\n",
            "\n",
            "To accept the future behavior, pass 'sort=False'.\n",
            "\n",
            "To retain the current behavior and silence the warning, pass 'sort=True'.\n",
            "\n",
            "  \"\"\"\n"
          ],
          "name": "stderr"
        },
        {
          "output_type": "execute_result",
          "data": {
            "text/html": [
              "<div>\n",
              "<style scoped>\n",
              "    .dataframe tbody tr th:only-of-type {\n",
              "        vertical-align: middle;\n",
              "    }\n",
              "\n",
              "    .dataframe tbody tr th {\n",
              "        vertical-align: top;\n",
              "    }\n",
              "\n",
              "    .dataframe thead th {\n",
              "        text-align: right;\n",
              "    }\n",
              "</style>\n",
              "<table border=\"1\" class=\"dataframe\">\n",
              "  <thead>\n",
              "    <tr style=\"text-align: right;\">\n",
              "      <th></th>\n",
              "      <th>DAYS_BIRTH</th>\n",
              "      <th>DAYS_EMPLOYED</th>\n",
              "      <th>EMPLOYED</th>\n",
              "      <th>FLAG_MOBIL</th>\n",
              "      <th>age</th>\n",
              "      <th>begin_month</th>\n",
              "      <th>car</th>\n",
              "      <th>cf_ratio</th>\n",
              "      <th>child_num</th>\n",
              "      <th>credit</th>\n",
              "      <th>edu_type</th>\n",
              "      <th>email</th>\n",
              "      <th>family_size</th>\n",
              "      <th>family_type</th>\n",
              "      <th>gender</th>\n",
              "      <th>house_type</th>\n",
              "      <th>ic_ratio</th>\n",
              "      <th>if_ratio</th>\n",
              "      <th>income_total</th>\n",
              "      <th>income_type</th>\n",
              "      <th>index</th>\n",
              "      <th>occyp_type</th>\n",
              "      <th>phone</th>\n",
              "      <th>reality</th>\n",
              "      <th>work_phone</th>\n",
              "    </tr>\n",
              "  </thead>\n",
              "  <tbody>\n",
              "    <tr>\n",
              "      <th>1</th>\n",
              "      <td>11380</td>\n",
              "      <td>1540</td>\n",
              "      <td>1.663505</td>\n",
              "      <td>1</td>\n",
              "      <td>31</td>\n",
              "      <td>5</td>\n",
              "      <td>0</td>\n",
              "      <td>0.333333</td>\n",
              "      <td>1</td>\n",
              "      <td>1.0</td>\n",
              "      <td>Secondary / secondary special</td>\n",
              "      <td>1</td>\n",
              "      <td>3.0</td>\n",
              "      <td>Civil marriage</td>\n",
              "      <td>0</td>\n",
              "      <td>House / apartment</td>\n",
              "      <td>12.41917</td>\n",
              "      <td>4.139723</td>\n",
              "      <td>12.419170</td>\n",
              "      <td>Commercial associate</td>\n",
              "      <td>1</td>\n",
              "      <td>Laborers</td>\n",
              "      <td>0</td>\n",
              "      <td>1</td>\n",
              "      <td>0</td>\n",
              "    </tr>\n",
              "    <tr>\n",
              "      <th>2</th>\n",
              "      <td>19087</td>\n",
              "      <td>4434</td>\n",
              "      <td>2.589016</td>\n",
              "      <td>1</td>\n",
              "      <td>53</td>\n",
              "      <td>22</td>\n",
              "      <td>1</td>\n",
              "      <td>0.000000</td>\n",
              "      <td>0</td>\n",
              "      <td>2.0</td>\n",
              "      <td>Higher education</td>\n",
              "      <td>0</td>\n",
              "      <td>2.0</td>\n",
              "      <td>Married</td>\n",
              "      <td>1</td>\n",
              "      <td>House / apartment</td>\n",
              "      <td>inf</td>\n",
              "      <td>6.508503</td>\n",
              "      <td>13.017005</td>\n",
              "      <td>Working</td>\n",
              "      <td>2</td>\n",
              "      <td>Managers</td>\n",
              "      <td>1</td>\n",
              "      <td>1</td>\n",
              "      <td>0</td>\n",
              "    </tr>\n",
              "    <tr>\n",
              "      <th>3</th>\n",
              "      <td>15088</td>\n",
              "      <td>2092</td>\n",
              "      <td>1.918555</td>\n",
              "      <td>1</td>\n",
              "      <td>41</td>\n",
              "      <td>37</td>\n",
              "      <td>0</td>\n",
              "      <td>0.000000</td>\n",
              "      <td>0</td>\n",
              "      <td>0.0</td>\n",
              "      <td>Secondary / secondary special</td>\n",
              "      <td>0</td>\n",
              "      <td>2.0</td>\n",
              "      <td>Married</td>\n",
              "      <td>0</td>\n",
              "      <td>House / apartment</td>\n",
              "      <td>inf</td>\n",
              "      <td>6.109250</td>\n",
              "      <td>12.218500</td>\n",
              "      <td>Commercial associate</td>\n",
              "      <td>3</td>\n",
              "      <td>Sales staff</td>\n",
              "      <td>1</td>\n",
              "      <td>1</td>\n",
              "      <td>0</td>\n",
              "    </tr>\n",
              "    <tr>\n",
              "      <th>4</th>\n",
              "      <td>15037</td>\n",
              "      <td>2105</td>\n",
              "      <td>1.923843</td>\n",
              "      <td>1</td>\n",
              "      <td>41</td>\n",
              "      <td>26</td>\n",
              "      <td>1</td>\n",
              "      <td>0.000000</td>\n",
              "      <td>0</td>\n",
              "      <td>2.0</td>\n",
              "      <td>Higher education</td>\n",
              "      <td>0</td>\n",
              "      <td>2.0</td>\n",
              "      <td>Married</td>\n",
              "      <td>0</td>\n",
              "      <td>House / apartment</td>\n",
              "      <td>inf</td>\n",
              "      <td>5.983594</td>\n",
              "      <td>11.967187</td>\n",
              "      <td>State servant</td>\n",
              "      <td>4</td>\n",
              "      <td>Managers</td>\n",
              "      <td>0</td>\n",
              "      <td>1</td>\n",
              "      <td>0</td>\n",
              "    </tr>\n",
              "    <tr>\n",
              "      <th>5</th>\n",
              "      <td>13413</td>\n",
              "      <td>4996</td>\n",
              "      <td>2.699869</td>\n",
              "      <td>1</td>\n",
              "      <td>37</td>\n",
              "      <td>18</td>\n",
              "      <td>0</td>\n",
              "      <td>0.500000</td>\n",
              "      <td>2</td>\n",
              "      <td>1.0</td>\n",
              "      <td>Secondary / secondary special</td>\n",
              "      <td>1</td>\n",
              "      <td>4.0</td>\n",
              "      <td>Married</td>\n",
              "      <td>0</td>\n",
              "      <td>House / apartment</td>\n",
              "      <td>6.25309</td>\n",
              "      <td>3.126545</td>\n",
              "      <td>12.506181</td>\n",
              "      <td>Working</td>\n",
              "      <td>5</td>\n",
              "      <td>High skill tech staff</td>\n",
              "      <td>0</td>\n",
              "      <td>1</td>\n",
              "      <td>0</td>\n",
              "    </tr>\n",
              "  </tbody>\n",
              "</table>\n",
              "</div>"
            ],
            "text/plain": [
              "   DAYS_BIRTH  DAYS_EMPLOYED  EMPLOYED  ...  phone  reality  work_phone\n",
              "1       11380           1540  1.663505  ...      0        1           0\n",
              "2       19087           4434  2.589016  ...      1        1           0\n",
              "3       15088           2092  1.918555  ...      1        1           0\n",
              "4       15037           2105  1.923843  ...      0        1           0\n",
              "5       13413           4996  2.699869  ...      0        1           0\n",
              "\n",
              "[5 rows x 25 columns]"
            ]
          },
          "metadata": {
            "tags": []
          },
          "execution_count": 81
        }
      ]
    },
    {
      "cell_type": "markdown",
      "metadata": {
        "id": "1eGVQ_uhXgqc"
      },
      "source": [
        "드디어 채웠다"
      ]
    },
    {
      "cell_type": "code",
      "metadata": {
        "id": "Kg9HOcKPYUmk"
      },
      "source": [
        "# data split\n",
        "test_notnull = test[test.occyp_type.notnull()]\n",
        "test_null = test[test.occyp_type.isnull()]\n",
        "\n",
        "#Initialize a SimpleImputer model\n",
        "imputer = datawig.SimpleImputer(\n",
        "    input_columns=['DAYS_EMPLOYED','DAYS_BIRTH','income_type'], # column(s) containing information about the column we want to impute\n",
        "    output_column='occyp_type', # the column we'd like to impute values for\n",
        "    output_path = 'imputer_model' # stores model data and metrics\n",
        "    )\n",
        "\n",
        "#Fit an imputer model on the train data\n",
        "imputer.fit(train_df=test_notnull, num_epochs=50)\n",
        "\n",
        "#Impute missing values and return original dataframe with predictions\n",
        "imputed_2 = imputer.predict(test_null)"
      ],
      "execution_count": null,
      "outputs": []
    },
    {
      "cell_type": "code",
      "metadata": {
        "id": "u7s-l4bodF07"
      },
      "source": [
        "imputed_2 = imputed_2.drop(['occyp_type','occyp_type_imputed_proba'],axis=1)\n",
        "\n",
        "imputed_2 = imputed_2.rename(columns = {'occyp_type_imputed':'occyp_type'})\n",
        "\n",
        "test_imputed = pd.concat([test_notnull,imputed_2],axis = 0)"
      ],
      "execution_count": null,
      "outputs": []
    },
    {
      "cell_type": "code",
      "metadata": {
        "id": "hKMyDBmhN4Wz",
        "colab": {
          "base_uri": "https://localhost:8080/"
        },
        "outputId": "6fe0593e-edf3-40b6-e9f1-5d4721340153"
      },
      "source": [
        "from collections import Counter\n",
        "from sklearn.datasets import make_classification\n",
        "from imblearn.over_sampling import ADASYN # doctest: +NORMALIZE_WHITESPACE\n",
        "from imblearn.over_sampling import SMOTENC"
      ],
      "execution_count": null,
      "outputs": [
        {
          "output_type": "stream",
          "text": [
            "/usr/local/lib/python3.7/dist-packages/sklearn/externals/six.py:31: FutureWarning: The module is deprecated in version 0.21 and will be removed in version 0.23 since we've dropped support for Python 2.7. Please rely on the official version of six (https://pypi.org/project/six/).\n",
            "  \"(https://pypi.org/project/six/).\", FutureWarning)\n",
            "/usr/local/lib/python3.7/dist-packages/sklearn/utils/deprecation.py:144: FutureWarning: The sklearn.neighbors.base module is  deprecated in version 0.22 and will be removed in version 0.24. The corresponding classes / functions should instead be imported from sklearn.neighbors. Anything that cannot be imported from sklearn.neighbors is now part of the private API.\n",
            "  warnings.warn(message, FutureWarning)\n"
          ],
          "name": "stderr"
        }
      ]
    },
    {
      "cell_type": "code",
      "metadata": {
        "id": "KV7X_arIY4Sl"
      },
      "source": [
        "import tensorflow as tf\n",
        "from tensorflow import feature_column"
      ],
      "execution_count": null,
      "outputs": []
    },
    {
      "cell_type": "markdown",
      "metadata": {
        "id": "HIvp4OYMX2GN"
      },
      "source": [
        "임배딩 방법으로 income_type이랑 family_type, house_type 처리하자.\n",
        "\n",
        "edu_type은 원핫쓰자."
      ]
    },
    {
      "cell_type": "code",
      "metadata": {
        "id": "R3AaG3sWY55T"
      },
      "source": [
        "family_em_train = feature_column.embedding_column(train_imputed['family_type'],dimension=8)\n",
        "income_em_train = feature_column.embedding_column(train_imputed['income_type'],dimension=8)\n",
        "house_em_train = feature_column.embedding_column(train_imputed['house_type'],dimension=8)"
      ],
      "execution_count": null,
      "outputs": []
    },
    {
      "cell_type": "code",
      "metadata": {
        "id": "N4dt11doYmmX"
      },
      "source": [
        "family_em_test = feature_column.embedding_column(test_imputed['family_type'],dimension=8)\n",
        "income_em_test = feature_column.embedding_column(test_imputed['income_type'],dimension=8)\n",
        "house_em_test = feature_column.embedding_column(test_imputed['house_type'],dimension=8)"
      ],
      "execution_count": null,
      "outputs": []
    },
    {
      "cell_type": "code",
      "metadata": {
        "id": "rLON-eauXbbx"
      },
      "source": [
        "edu_train = pd.get_dummies(train_imputed.edu_type)\n",
        "# edu_test = pd.get_dummies(test_imputed.edu_type)"
      ],
      "execution_count": null,
      "outputs": []
    },
    {
      "cell_type": "markdown",
      "metadata": {
        "id": "8vmLh2NodUWm"
      },
      "source": [
        "삭제할 애들"
      ]
    },
    {
      "cell_type": "code",
      "metadata": {
        "colab": {
          "base_uri": "https://localhost:8080/",
          "height": 272
        },
        "id": "jn3aiaDCeBrp",
        "outputId": "166d3086-a61a-4bcc-8a67-7de370cd1547"
      },
      "source": [
        "train_imputed.head()"
      ],
      "execution_count": null,
      "outputs": [
        {
          "output_type": "execute_result",
          "data": {
            "text/html": [
              "<div>\n",
              "<style scoped>\n",
              "    .dataframe tbody tr th:only-of-type {\n",
              "        vertical-align: middle;\n",
              "    }\n",
              "\n",
              "    .dataframe tbody tr th {\n",
              "        vertical-align: top;\n",
              "    }\n",
              "\n",
              "    .dataframe thead th {\n",
              "        text-align: right;\n",
              "    }\n",
              "</style>\n",
              "<table border=\"1\" class=\"dataframe\">\n",
              "  <thead>\n",
              "    <tr style=\"text-align: right;\">\n",
              "      <th></th>\n",
              "      <th>DAYS_BIRTH</th>\n",
              "      <th>DAYS_EMPLOYED</th>\n",
              "      <th>EMPLOYED</th>\n",
              "      <th>FLAG_MOBIL</th>\n",
              "      <th>age</th>\n",
              "      <th>begin_month</th>\n",
              "      <th>car</th>\n",
              "      <th>cf_ratio</th>\n",
              "      <th>child_num</th>\n",
              "      <th>credit</th>\n",
              "      <th>edu_type</th>\n",
              "      <th>email</th>\n",
              "      <th>family_size</th>\n",
              "      <th>family_type</th>\n",
              "      <th>gender</th>\n",
              "      <th>house_type</th>\n",
              "      <th>ic_ratio</th>\n",
              "      <th>if_ratio</th>\n",
              "      <th>income_total</th>\n",
              "      <th>income_type</th>\n",
              "      <th>index</th>\n",
              "      <th>occyp_type</th>\n",
              "      <th>phone</th>\n",
              "      <th>reality</th>\n",
              "      <th>work_phone</th>\n",
              "    </tr>\n",
              "  </thead>\n",
              "  <tbody>\n",
              "    <tr>\n",
              "      <th>1</th>\n",
              "      <td>11380</td>\n",
              "      <td>1540</td>\n",
              "      <td>1.663505</td>\n",
              "      <td>1</td>\n",
              "      <td>31</td>\n",
              "      <td>5</td>\n",
              "      <td>0</td>\n",
              "      <td>0.333333</td>\n",
              "      <td>1</td>\n",
              "      <td>1.0</td>\n",
              "      <td>Secondary / secondary special</td>\n",
              "      <td>1</td>\n",
              "      <td>3.0</td>\n",
              "      <td>Civil marriage</td>\n",
              "      <td>0</td>\n",
              "      <td>House / apartment</td>\n",
              "      <td>12.41917</td>\n",
              "      <td>4.139723</td>\n",
              "      <td>12.419170</td>\n",
              "      <td>Commercial associate</td>\n",
              "      <td>1</td>\n",
              "      <td>Laborers</td>\n",
              "      <td>0</td>\n",
              "      <td>1</td>\n",
              "      <td>0</td>\n",
              "    </tr>\n",
              "    <tr>\n",
              "      <th>2</th>\n",
              "      <td>19087</td>\n",
              "      <td>4434</td>\n",
              "      <td>2.589016</td>\n",
              "      <td>1</td>\n",
              "      <td>53</td>\n",
              "      <td>22</td>\n",
              "      <td>1</td>\n",
              "      <td>0.000000</td>\n",
              "      <td>0</td>\n",
              "      <td>2.0</td>\n",
              "      <td>Higher education</td>\n",
              "      <td>0</td>\n",
              "      <td>2.0</td>\n",
              "      <td>Married</td>\n",
              "      <td>1</td>\n",
              "      <td>House / apartment</td>\n",
              "      <td>inf</td>\n",
              "      <td>6.508503</td>\n",
              "      <td>13.017005</td>\n",
              "      <td>Working</td>\n",
              "      <td>2</td>\n",
              "      <td>Managers</td>\n",
              "      <td>1</td>\n",
              "      <td>1</td>\n",
              "      <td>0</td>\n",
              "    </tr>\n",
              "    <tr>\n",
              "      <th>3</th>\n",
              "      <td>15088</td>\n",
              "      <td>2092</td>\n",
              "      <td>1.918555</td>\n",
              "      <td>1</td>\n",
              "      <td>41</td>\n",
              "      <td>37</td>\n",
              "      <td>0</td>\n",
              "      <td>0.000000</td>\n",
              "      <td>0</td>\n",
              "      <td>0.0</td>\n",
              "      <td>Secondary / secondary special</td>\n",
              "      <td>0</td>\n",
              "      <td>2.0</td>\n",
              "      <td>Married</td>\n",
              "      <td>0</td>\n",
              "      <td>House / apartment</td>\n",
              "      <td>inf</td>\n",
              "      <td>6.109250</td>\n",
              "      <td>12.218500</td>\n",
              "      <td>Commercial associate</td>\n",
              "      <td>3</td>\n",
              "      <td>Sales staff</td>\n",
              "      <td>1</td>\n",
              "      <td>1</td>\n",
              "      <td>0</td>\n",
              "    </tr>\n",
              "    <tr>\n",
              "      <th>4</th>\n",
              "      <td>15037</td>\n",
              "      <td>2105</td>\n",
              "      <td>1.923843</td>\n",
              "      <td>1</td>\n",
              "      <td>41</td>\n",
              "      <td>26</td>\n",
              "      <td>1</td>\n",
              "      <td>0.000000</td>\n",
              "      <td>0</td>\n",
              "      <td>2.0</td>\n",
              "      <td>Higher education</td>\n",
              "      <td>0</td>\n",
              "      <td>2.0</td>\n",
              "      <td>Married</td>\n",
              "      <td>0</td>\n",
              "      <td>House / apartment</td>\n",
              "      <td>inf</td>\n",
              "      <td>5.983594</td>\n",
              "      <td>11.967187</td>\n",
              "      <td>State servant</td>\n",
              "      <td>4</td>\n",
              "      <td>Managers</td>\n",
              "      <td>0</td>\n",
              "      <td>1</td>\n",
              "      <td>0</td>\n",
              "    </tr>\n",
              "    <tr>\n",
              "      <th>5</th>\n",
              "      <td>13413</td>\n",
              "      <td>4996</td>\n",
              "      <td>2.699869</td>\n",
              "      <td>1</td>\n",
              "      <td>37</td>\n",
              "      <td>18</td>\n",
              "      <td>0</td>\n",
              "      <td>0.500000</td>\n",
              "      <td>2</td>\n",
              "      <td>1.0</td>\n",
              "      <td>Secondary / secondary special</td>\n",
              "      <td>1</td>\n",
              "      <td>4.0</td>\n",
              "      <td>Married</td>\n",
              "      <td>0</td>\n",
              "      <td>House / apartment</td>\n",
              "      <td>6.25309</td>\n",
              "      <td>3.126545</td>\n",
              "      <td>12.506181</td>\n",
              "      <td>Working</td>\n",
              "      <td>5</td>\n",
              "      <td>High skill tech staff</td>\n",
              "      <td>0</td>\n",
              "      <td>1</td>\n",
              "      <td>0</td>\n",
              "    </tr>\n",
              "  </tbody>\n",
              "</table>\n",
              "</div>"
            ],
            "text/plain": [
              "   DAYS_BIRTH  DAYS_EMPLOYED  EMPLOYED  ...  phone  reality  work_phone\n",
              "1       11380           1540  1.663505  ...      0        1           0\n",
              "2       19087           4434  2.589016  ...      1        1           0\n",
              "3       15088           2092  1.918555  ...      1        1           0\n",
              "4       15037           2105  1.923843  ...      0        1           0\n",
              "5       13413           4996  2.699869  ...      0        1           0\n",
              "\n",
              "[5 rows x 25 columns]"
            ]
          },
          "metadata": {
            "tags": []
          },
          "execution_count": 86
        }
      ]
    },
    {
      "cell_type": "code",
      "metadata": {
        "colab": {
          "base_uri": "https://localhost:8080/"
        },
        "id": "0Fivc8l6ixor",
        "outputId": "7ffdbe52-c4b0-40f8-ed9b-166d1fd5fc98"
      },
      "source": [
        "train_imputed.info()"
      ],
      "execution_count": null,
      "outputs": [
        {
          "output_type": "stream",
          "text": [
            "<class 'pandas.core.frame.DataFrame'>\n",
            "Int64Index: 26452 entries, 1 to 26453\n",
            "Data columns (total 25 columns):\n",
            "DAYS_BIRTH       26452 non-null int64\n",
            "DAYS_EMPLOYED    26452 non-null int64\n",
            "EMPLOYED         26452 non-null float64\n",
            "FLAG_MOBIL       26452 non-null int64\n",
            "age              26452 non-null int64\n",
            "begin_month      26452 non-null int64\n",
            "car              26452 non-null int64\n",
            "cf_ratio         26452 non-null float64\n",
            "child_num        26452 non-null int64\n",
            "credit           26452 non-null float64\n",
            "edu_type         26452 non-null object\n",
            "email            26452 non-null int64\n",
            "family_size      26452 non-null float64\n",
            "family_type      26452 non-null object\n",
            "gender           26452 non-null int64\n",
            "house_type       26452 non-null object\n",
            "ic_ratio         26452 non-null float64\n",
            "if_ratio         26452 non-null float64\n",
            "income_total     26452 non-null float64\n",
            "income_type      26452 non-null object\n",
            "index            26452 non-null int64\n",
            "occyp_type       26452 non-null object\n",
            "phone            26452 non-null int64\n",
            "reality          26452 non-null int64\n",
            "work_phone       26452 non-null int64\n",
            "dtypes: float64(7), int64(13), object(5)\n",
            "memory usage: 5.2+ MB\n"
          ],
          "name": "stdout"
        }
      ]
    },
    {
      "cell_type": "code",
      "metadata": {
        "id": "EE_9CunmdTw4"
      },
      "source": [
        "train_imputed = train_imputed.drop(['index', 'FLAG_MOBIL', 'DAYS_BIRTH', 'DAYS_EMPLOYED'])"
      ],
      "execution_count": null,
      "outputs": []
    },
    {
      "cell_type": "code",
      "metadata": {
        "id": "QrYBunMAXbZE"
      },
      "source": [
        "test_imputed.head()"
      ],
      "execution_count": null,
      "outputs": []
    },
    {
      "cell_type": "code",
      "metadata": {
        "id": "c1ldDXmhXbV0"
      },
      "source": [
        "test_imputed = test_imputed.drop(['index', 'FLAG_MOBIL', 'DAYS_BIRTH', 'DAYS_EMPLOYED'])"
      ],
      "execution_count": null,
      "outputs": []
    },
    {
      "cell_type": "markdown",
      "metadata": {
        "id": "8gb7Ak_EXvw3"
      },
      "source": [
        "이후 더 시행해야 될 부분\n",
        "*   타겟변수에 영향을 주는 파생변수 더 만들기\n",
        "*   embedding hyperparameter tunning\n",
        "*   나이, 다른 것 등의 구간화\n",
        "*   family_size + child_num => pca로 1차원으로 만들어보기\n",
        "\n",
        "\n",
        "\n",
        "\n",
        "\n"
      ]
    },
    {
      "cell_type": "code",
      "metadata": {
        "id": "FSHFMBxVXbTU"
      },
      "source": [
        ""
      ],
      "execution_count": null,
      "outputs": []
    }
  ]
}